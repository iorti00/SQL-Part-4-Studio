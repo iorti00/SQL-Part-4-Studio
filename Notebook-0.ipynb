{
    "metadata": {
        "kernelspec": {
            "name": "SQL",
            "display_name": "SQL",
            "language": "sql"
        },
        "language_info": {
            "name": "sql",
            "version": ""
        },
        "extensions": {
            "azuredatastudio": {
                "version": 1,
                "views": []
            }
        }
    },
    "nbformat_minor": 2,
    "nbformat": 4,
    "cells": [
        {
            "cell_type": "markdown",
            "source": [
                "# SQL Part 4 Studio\n",
                "\n",
                "For this studio, you will be working in small groups and using the BooksDB.  One group member should screen share while fellow group members code along in their own notebooks.  Each group member will submit a link to their studio notebook.\n",
                "\n",
                "You are back at the bookstore helping employees with their inventory of books.   Four employees need your help with finding books to create in-store displays.  Read their requests and decide if you want to use a correlated subquery, nested subquery, UNION operator, EXCEPT operator, or INTERSECT operator.  You may not use any joins or add multiple statements to the WHERE clause unless explicitly asked."
            ],
            "metadata": {
                "azdata_cell_guid": "3ea3f8a2-b444-4354-be8b-eebc139b3c13"
            },
            "attachments": {}
        },
        {
            "cell_type": "markdown",
            "source": [
                "## QUESTION 1:  Willow\n",
                "\n",
                "Willow wants a list of book titles that have multiple authors attributed to them.  Write a query to return her desired results."
            ],
            "metadata": {
                "azdata_cell_guid": "5c8b1c77-0878-4dc6-8e79-7f64e5e1df0d"
            },
            "attachments": {}
        },
        {
            "cell_type": "code",
            "source": [
                "-- Code here:\r\n",
                "SELECT TOP 10 title, authors\r\n",
                "FROM dbo.books \r\n",
                "WHERE authors LIKE '%,%'"
            ],
            "metadata": {
                "azdata_cell_guid": "46c76d2f-acbc-4fd2-9c2a-367044fda616",
                "tags": [],
                "language": "sql"
            },
            "outputs": [
                {
                    "output_type": "display_data",
                    "data": {
                        "text/html": "(10 rows affected)"
                    },
                    "metadata": {}
                },
                {
                    "output_type": "display_data",
                    "data": {
                        "text/html": "Total execution time: 00:00:00.076"
                    },
                    "metadata": {}
                },
                {
                    "output_type": "execute_result",
                    "metadata": {},
                    "execution_count": 6,
                    "data": {
                        "application/vnd.dataresource+json": {
                            "schema": {
                                "fields": [
                                    {
                                        "name": "title"
                                    },
                                    {
                                        "name": "authors"
                                    }
                                ]
                            },
                            "data": [
                                {
                                    "0": "Harry Potter and the Sorcerer's Stone (Harry Potter, #1)",
                                    "1": "J.K. Rowling, Mary GrandPré"
                                },
                                {
                                    "0": "1984",
                                    "1": "George Orwell, Erich Fromm, Celâl Üster"
                                },
                                {
                                    "0": "The Diary of a Young Girl",
                                    "1": "Anne Frank, Eleanor Roosevelt, B.M. Mooyaart-Doubleday"
                                },
                                {
                                    "0": "The Girl with the Dragon Tattoo (Millennium, #1)",
                                    "1": "Stieg Larsson, Reg Keeland"
                                },
                                {
                                    "0": "Harry Potter and the Prisoner of Azkaban (Harry Potter, #3)",
                                    "1": "J.K. Rowling, Mary GrandPré, Rufus Beck"
                                },
                                {
                                    "0": "Harry Potter and the Order of the Phoenix (Harry Potter, #5)",
                                    "1": "J.K. Rowling, Mary GrandPré"
                                },
                                {
                                    "0": "Harry Potter and the Chamber of Secrets (Harry Potter, #2)",
                                    "1": "J.K. Rowling, Mary GrandPré"
                                },
                                {
                                    "0": "Harry Potter and the Goblet of Fire (Harry Potter, #4)",
                                    "1": "J.K. Rowling, Mary GrandPré"
                                },
                                {
                                    "0": "Harry Potter and the Deathly Hallows (Harry Potter, #7)",
                                    "1": "J.K. Rowling, Mary GrandPré"
                                },
                                {
                                    "0": "Harry Potter and the Half-Blood Prince (Harry Potter, #6)",
                                    "1": "J.K. Rowling, Mary GrandPré"
                                }
                            ]
                        },
                        "text/html": [
                            "<table>",
                            "<tr><th>title</th><th>authors</th></tr>",
                            "<tr><td>Harry Potter and the Sorcerer's Stone (Harry Potter, #1)</td><td>J.K. Rowling, Mary GrandPré</td></tr>",
                            "<tr><td>1984</td><td>George Orwell, Erich Fromm, Celâl Üster</td></tr>",
                            "<tr><td>The Diary of a Young Girl</td><td>Anne Frank, Eleanor Roosevelt, B.M. Mooyaart-Doubleday</td></tr>",
                            "<tr><td>The Girl with the Dragon Tattoo (Millennium, #1)</td><td>Stieg Larsson, Reg Keeland</td></tr>",
                            "<tr><td>Harry Potter and the Prisoner of Azkaban (Harry Potter, #3)</td><td>J.K. Rowling, Mary GrandPré, Rufus Beck</td></tr>",
                            "<tr><td>Harry Potter and the Order of the Phoenix (Harry Potter, #5)</td><td>J.K. Rowling, Mary GrandPré</td></tr>",
                            "<tr><td>Harry Potter and the Chamber of Secrets (Harry Potter, #2)</td><td>J.K. Rowling, Mary GrandPré</td></tr>",
                            "<tr><td>Harry Potter and the Goblet of Fire (Harry Potter, #4)</td><td>J.K. Rowling, Mary GrandPré</td></tr>",
                            "<tr><td>Harry Potter and the Deathly Hallows (Harry Potter, #7)</td><td>J.K. Rowling, Mary GrandPré</td></tr>",
                            "<tr><td>Harry Potter and the Half-Blood Prince (Harry Potter, #6)</td><td>J.K. Rowling, Mary GrandPré</td></tr>",
                            "</table>"
                        ]
                    }
                }
            ],
            "execution_count": 6
        },
        {
            "cell_type": "markdown",
            "source": [
                "## QUESTION 2: Ira\n",
                "\n",
                "Ira was asked by a customer for titles that have been tagged \"Meditation\".  As you create a query for Ira, think about how the tables in BooksDB are organized as you write your query."
            ],
            "metadata": {
                "azdata_cell_guid": "06f2a08a-a54e-484e-8053-c74594da9db2"
            },
            "attachments": {}
        },
        {
            "cell_type": "code",
            "source": [
                "-- Code here:\r\n",
                "SELECT bk.title AS meditation_books\r\n",
                "FROM dbo.books AS bk \r\n",
                "WHERE bk.best_book_id IN \r\n",
                "    (SELECT bt.goodreads_book_id\r\n",
                "    FROM dbo.book_tags AS bt \r\n",
                "    WHERE bt.tag_id IN \r\n",
                "        (SELECT t.tag_id\r\n",
                "        FROM dbo.tags as t \r\n",
                "        WHERE t.tag_name LIKE '%meditation%'))\r\n",
                "\r\n",
                ""
            ],
            "metadata": {
                "azdata_cell_guid": "552924f9-a1cc-4979-8f53-15ba959550c2",
                "tags": [],
                "language": "sql"
            },
            "outputs": [
                {
                    "output_type": "display_data",
                    "data": {
                        "text/html": "(42 rows affected)"
                    },
                    "metadata": {}
                },
                {
                    "output_type": "display_data",
                    "data": {
                        "text/html": "Total execution time: 00:00:00.226"
                    },
                    "metadata": {}
                },
                {
                    "output_type": "execute_result",
                    "metadata": {},
                    "execution_count": 7,
                    "data": {
                        "application/vnd.dataresource+json": {
                            "schema": {
                                "fields": [
                                    {
                                        "name": "meditation_books"
                                    }
                                ]
                            },
                            "data": [
                                {
                                    "0": "A New Earth: Awakening to Your Life's Purpose"
                                },
                                {
                                    "0": "The Power of Now: A Guide to Spiritual Enlightenment"
                                },
                                {
                                    "0": "The Four Agreements: A Practical Guide to Personal Freedom"
                                },
                                {
                                    "0": "The Art of Happiness"
                                },
                                {
                                    "0": "Meditations"
                                },
                                {
                                    "0": "Way of the Peaceful Warrior: A Book That Changes Lives"
                                },
                                {
                                    "0": "Simple Abundance:  A Daybook of Comfort and Joy"
                                },
                                {
                                    "0": "Practicing the Power of Now: Essential Teachings, Meditations, and Exercises from the Power of Now"
                                },
                                {
                                    "0": "Autobiography of a Yogi"
                                },
                                {
                                    "0": "10% Happier: How I Tamed the Voice in My Head, Reduced Stress Without Losing My Edge, and Found Self-Help That Actually Works"
                                },
                                {
                                    "0": "The Seat of the Soul"
                                },
                                {
                                    "0": "The Teachings of Don Juan: A Yaqui Way of Knowledge "
                                },
                                {
                                    "0": "The Essential Rumi"
                                },
                                {
                                    "0": "Zen Mind, Beginner's Mind: Informal Talks on Zen Meditation and Practice"
                                },
                                {
                                    "0": "A Course in Miracles"
                                },
                                {
                                    "0": "The Power of Intention: Learning to Co-create Your World Your Way"
                                },
                                {
                                    "0": "The Practice of the Presence of God"
                                },
                                {
                                    "0": "Wherever You Go, There You Are: Mindfulness Meditation in Everyday Life"
                                },
                                {
                                    "0": "When Things Fall Apart: Heart Advice for Difficult Times"
                                },
                                {
                                    "0": "Be Here Now"
                                },
                                {
                                    "0": "Peace Is Every Step: The Path of Mindfulness in Everyday Life"
                                },
                                {
                                    "0": "Creative Visualization: Use the Power of Your Imagination to Create What You Want in Your Life"
                                },
                                {
                                    "0": "The Tibetan Book of Living and Dying"
                                },
                                {
                                    "0": "Zen of Seeing: Seeing/Drawing as Meditation"
                                },
                                {
                                    "0": "The Dhammapada"
                                },
                                {
                                    "0": "The Untethered Soul: The Journey Beyond Yourself"
                                },
                                {
                                    "0": "Waking Up: A Guide to Spirituality Without Religion"
                                },
                                {
                                    "0": "The I Ching or Book of Changes"
                                },
                                {
                                    "0": "The Happiness Hypothesis: Finding Modern Truth in Ancient Wisdom"
                                },
                                {
                                    "0": "Loving What Is: Four Questions That Can Change Your Life"
                                },
                                {
                                    "0": "The Imitation of Christ"
                                },
                                {
                                    "0": "The Miracle of Mindfulness: An Introduction to the Practice of Meditation"
                                },
                                {
                                    "0": "Care of the Soul: A Guide for Cultivating Depth and Sacredness in Everyday Life"
                                },
                                {
                                    "0": "Change Your Thoughts - Change Your Life: Living the Wisdom of the Tao"
                                },
                                {
                                    "0": "The Way of Zen"
                                },
                                {
                                    "0": "Living Buddha, Living Christ"
                                },
                                {
                                    "0": "Awakening the Buddha Within: Tibetan Wisdom for the Western World"
                                },
                                {
                                    "0": "The Book on the Taboo Against Knowing Who You Are"
                                },
                                {
                                    "0": "The Tenth Insight: Holding the Vision (Celestine Prophecy, #2)"
                                },
                                {
                                    "0": "The Upanishads: Translations from the Sanskrit"
                                },
                                {
                                    "0": "Thrive: The Third Metric to Redefining Success and Creating a Life of Well-Being, Wisdom, and Wonder"
                                },
                                {
                                    "0": "The Places That Scare You: A Guide to Fearlessness in Difficult Times"
                                }
                            ]
                        },
                        "text/html": [
                            "<table>",
                            "<tr><th>meditation_books</th></tr>",
                            "<tr><td>A New Earth: Awakening to Your Life's Purpose</td></tr>",
                            "<tr><td>The Power of Now: A Guide to Spiritual Enlightenment</td></tr>",
                            "<tr><td>The Four Agreements: A Practical Guide to Personal Freedom</td></tr>",
                            "<tr><td>The Art of Happiness</td></tr>",
                            "<tr><td>Meditations</td></tr>",
                            "<tr><td>Way of the Peaceful Warrior: A Book That Changes Lives</td></tr>",
                            "<tr><td>Simple Abundance:  A Daybook of Comfort and Joy</td></tr>",
                            "<tr><td>Practicing the Power of Now: Essential Teachings, Meditations, and Exercises from the Power of Now</td></tr>",
                            "<tr><td>Autobiography of a Yogi</td></tr>",
                            "<tr><td>10% Happier: How I Tamed the Voice in My Head, Reduced Stress Without Losing My Edge, and Found Self-Help That Actually Works</td></tr>",
                            "<tr><td>The Seat of the Soul</td></tr>",
                            "<tr><td>The Teachings of Don Juan: A Yaqui Way of Knowledge </td></tr>",
                            "<tr><td>The Essential Rumi</td></tr>",
                            "<tr><td>Zen Mind, Beginner's Mind: Informal Talks on Zen Meditation and Practice</td></tr>",
                            "<tr><td>A Course in Miracles</td></tr>",
                            "<tr><td>The Power of Intention: Learning to Co-create Your World Your Way</td></tr>",
                            "<tr><td>The Practice of the Presence of God</td></tr>",
                            "<tr><td>Wherever You Go, There You Are: Mindfulness Meditation in Everyday Life</td></tr>",
                            "<tr><td>When Things Fall Apart: Heart Advice for Difficult Times</td></tr>",
                            "<tr><td>Be Here Now</td></tr>",
                            "<tr><td>Peace Is Every Step: The Path of Mindfulness in Everyday Life</td></tr>",
                            "<tr><td>Creative Visualization: Use the Power of Your Imagination to Create What You Want in Your Life</td></tr>",
                            "<tr><td>The Tibetan Book of Living and Dying</td></tr>",
                            "<tr><td>Zen of Seeing: Seeing/Drawing as Meditation</td></tr>",
                            "<tr><td>The Dhammapada</td></tr>",
                            "<tr><td>The Untethered Soul: The Journey Beyond Yourself</td></tr>",
                            "<tr><td>Waking Up: A Guide to Spirituality Without Religion</td></tr>",
                            "<tr><td>The I Ching or Book of Changes</td></tr>",
                            "<tr><td>The Happiness Hypothesis: Finding Modern Truth in Ancient Wisdom</td></tr>",
                            "<tr><td>Loving What Is: Four Questions That Can Change Your Life</td></tr>",
                            "<tr><td>The Imitation of Christ</td></tr>",
                            "<tr><td>The Miracle of Mindfulness: An Introduction to the Practice of Meditation</td></tr>",
                            "<tr><td>Care of the Soul: A Guide for Cultivating Depth and Sacredness in Everyday Life</td></tr>",
                            "<tr><td>Change Your Thoughts - Change Your Life: Living the Wisdom of the Tao</td></tr>",
                            "<tr><td>The Way of Zen</td></tr>",
                            "<tr><td>Living Buddha, Living Christ</td></tr>",
                            "<tr><td>Awakening the Buddha Within: Tibetan Wisdom for the Western World</td></tr>",
                            "<tr><td>The Book on the Taboo Against Knowing Who You Are</td></tr>",
                            "<tr><td>The Tenth Insight: Holding the Vision (Celestine Prophecy, #2)</td></tr>",
                            "<tr><td>The Upanishads: Translations from the Sanskrit</td></tr>",
                            "<tr><td>Thrive: The Third Metric to Redefining Success and Creating a Life of Well-Being, Wisdom, and Wonder</td></tr>",
                            "<tr><td>The Places That Scare You: A Guide to Fearlessness in Difficult Times</td></tr>",
                            "</table>"
                        ]
                    }
                }
            ],
            "execution_count": 7
        },
        {
            "cell_type": "markdown",
            "source": [
                "## QUESTION 3:  Alyce\n",
                "\n",
                "Alyce wants to create a display of books with an average rating of 4.2 or higher, but she only wants books that share both title and original title.  Write a query that displays both the original title and title for Alyce, in descending order by rating.  Make sure that none of the original titles contain NULL values either."
            ],
            "metadata": {
                "azdata_cell_guid": "1d758d74-b4f0-4836-bdfe-d7280b5b4592"
            },
            "attachments": {}
        },
        {
            "cell_type": "code",
            "source": [
                "-- Code here:\r\n",
                "SELECT title, original_title, average_rating\r\n",
                "FROM dbo.books\r\n",
                "WHERE title = original_title AND original_title IS NOT NULL\r\n",
                "\r\n",
                "INTERSECT\r\n",
                "\r\n",
                "SELECT title, original_title, average_rating\r\n",
                "FROM dbo.books\r\n",
                "WHERE average_rating >= 4.2 \r\n",
                "ORDER BY average_rating DESC"
            ],
            "metadata": {
                "azdata_cell_guid": "2c693b4e-6987-4c49-ba55-61094e677608",
                "tags": [],
                "language": "sql"
            },
            "outputs": [
                {
                    "output_type": "display_data",
                    "data": {
                        "text/html": "(658 rows affected)"
                    },
                    "metadata": {}
                },
                {
                    "output_type": "display_data",
                    "data": {
                        "text/html": "Total execution time: 00:00:00.317"
                    },
                    "metadata": {}
                },
                {
                    "output_type": "execute_result",
                    "metadata": {},
                    "execution_count": 8,
                    "data": {
                        "application/vnd.dataresource+json": {
                            "schema": {
                                "fields": [
                                    {
                                        "name": "title"
                                    },
                                    {
                                        "name": "original_title"
                                    },
                                    {
                                        "name": "average_rating"
                                    }
                                ]
                            },
                            "data": [
                                {
                                    "0": "The Complete Calvin and Hobbes",
                                    "1": "The Complete Calvin and Hobbes",
                                    "2": "4.82"
                                },
                                {
                                    "0": "Mark of the Lion Trilogy",
                                    "1": "Mark of the Lion Trilogy",
                                    "2": "4.76"
                                },
                                {
                                    "0": "It's a Magical World: A Calvin and Hobbes Collection",
                                    "1": "It's a Magical World: A Calvin and Hobbes Collection",
                                    "2": "4.75"
                                },
                                {
                                    "0": "There's Treasure Everywhere: A Calvin and Hobbes Collection",
                                    "1": "There's Treasure Everywhere: A Calvin and Hobbes Collection",
                                    "2": "4.74"
                                },
                                {
                                    "0": "Harry Potter Collection (Harry Potter, #1-6)",
                                    "1": "Harry Potter Collection (Harry Potter, #1-6)",
                                    "2": "4.73"
                                },
                                {
                                    "0": "Homicidal Psycho Jungle Cat: A Calvin and Hobbes Collection",
                                    "1": "Homicidal Psycho Jungle Cat: A Calvin and Hobbes Collection",
                                    "2": "4.71"
                                },
                                {
                                    "0": "The Days Are Just Packed: A Calvin and Hobbes Collection",
                                    "1": "The Days Are Just Packed: A Calvin and Hobbes Collection",
                                    "2": "4.68"
                                },
                                {
                                    "0": "The Calvin and Hobbes Lazy Sunday Book",
                                    "1": "The Calvin and Hobbes Lazy Sunday Book",
                                    "2": "4.66"
                                },
                                {
                                    "0": "The Absolute Sandman, Volume One",
                                    "1": "The Absolute Sandman, Volume One",
                                    "2": "4.65"
                                },
                                {
                                    "0": "The Essential Calvin and Hobbes: A Calvin and Hobbes Treasury",
                                    "1": "The Essential Calvin and Hobbes: A Calvin and Hobbes Treasury",
                                    "2": "4.65"
                                },
                                {
                                    "0": "The Calvin and Hobbes Tenth Anniversary Book",
                                    "1": "The Calvin and Hobbes Tenth Anniversary Book",
                                    "2": "4.63"
                                },
                                {
                                    "0": "The Hate U Give",
                                    "1": "The Hate U Give",
                                    "2": "4.62"
                                },
                                {
                                    "0": "Calvin and Hobbes",
                                    "1": "Calvin and Hobbes",
                                    "2": "4.61"
                                },
                                {
                                    "0": "Harry Potter and the Chamber of Secrets: Sheet Music for Flute with C.D",
                                    "1": "Harry Potter and the Chamber of Secrets: Sheet Music for Flute with C.D",
                                    "2": "4.61"
                                },
                                {
                                    "0": "Holy Bible: New International Version",
                                    "1": "Holy Bible: New International Version",
                                    "2": "4.61"
                                },
                                {
                                    "0": "Standing for Something: 10 Neglected Virtues That Will Heal Our Hearts and Homes",
                                    "1": "Standing for Something: 10 Neglected Virtues That Will Heal Our Hearts and Homes",
                                    "2": "4.61"
                                },
                                {
                                    "0": "The Sandman: King of Dreams",
                                    "1": "The Sandman: King of Dreams",
                                    "2": "4.61"
                                },
                                {
                                    "0": "An Echo in the Darkness (Mark of the Lion, #2)",
                                    "1": "An Echo in the Darkness (Mark of the Lion, #2)",
                                    "2": "4.6"
                                },
                                {
                                    "0": "The Lord of the Rings: The Art of The Fellowship of the Ring",
                                    "1": "The Lord of the Rings: The Art of The Fellowship of the Ring",
                                    "2": "4.59"
                                },
                                {
                                    "0": "Just Mercy: A Story of Justice and Redemption",
                                    "1": "Just Mercy: A Story of Justice and Redemption",
                                    "2": "4.58"
                                },
                                {
                                    "0": "NARUTO -ナルト- 巻ノ四十三",
                                    "1": "NARUTO -ナルト- 巻ノ四十三 ",
                                    "2": "4.57"
                                },
                                {
                                    "0": "Harry Potter Page to Screen: The Complete Filmmaking Journey",
                                    "1": "Harry Potter Page to Screen: The Complete Filmmaking Journey",
                                    "2": "4.56"
                                },
                                {
                                    "0": "The Green Mile, Part 6: Coffey on the Mile",
                                    "1": "The Green Mile, Part 6: Coffey on the Mile",
                                    "2": "4.55"
                                },
                                {
                                    "0": "The Constitution of the United States of America",
                                    "1": "The Constitution of the United States of America",
                                    "2": "4.54"
                                },
                                {
                                    "0": "The Nightingale",
                                    "1": "The Nightingale",
                                    "2": "4.54"
                                },
                                {
                                    "0": "Courageous",
                                    "1": "Courageous",
                                    "2": "4.53"
                                },
                                {
                                    "0": "The Lord of the Rings: Weapons and Warfare",
                                    "1": "The Lord of the Rings: Weapons and Warfare",
                                    "2": "4.53"
                                },
                                {
                                    "0": "Thank You, Mr. Falker",
                                    "1": "Thank You, Mr. Falker",
                                    "2": "4.52"
                                },
                                {
                                    "0": "The Green Mile, Part 4: The Bad Death of Eduard Delacroix",
                                    "1": "The Green Mile, Part 4: The Bad Death of Eduard Delacroix",
                                    "2": "4.52"
                                },
                                {
                                    "0": "Believing Christ: The Parable of the Bicycle and Other Good News",
                                    "1": "Believing Christ: The Parable of the Bicycle and Other Good News",
                                    "2": "4.51"
                                },
                                {
                                    "0": "The Green Mile, Part 5: Night Journey",
                                    "1": "The Green Mile, Part 5: Night Journey",
                                    "2": "4.51"
                                },
                                {
                                    "0": "Humans of New York: Stories",
                                    "1": "Humans of New York: Stories",
                                    "2": "4.5"
                                },
                                {
                                    "0": "Locke & Key, Vol. 6: Alpha & Omega",
                                    "1": "Locke & Key, Vol. 6: Alpha & Omega",
                                    "2": "4.5"
                                },
                                {
                                    "0": "The Complete Sherlock Holmes",
                                    "1": "The Complete Sherlock Holmes",
                                    "2": "4.5"
                                },
                                {
                                    "0": "The Green Mile, Part 3: Coffey's Hands",
                                    "1": "The Green Mile, Part 3: Coffey's Hands",
                                    "2": "4.5"
                                },
                                {
                                    "0": "Kürk Mantolu Madonna",
                                    "1": "Kürk Mantolu Madonna",
                                    "2": "4.49"
                                },
                                {
                                    "0": "The Complete Works",
                                    "1": "The Complete Works",
                                    "2": "4.49"
                                },
                                {
                                    "0": "The Green Mile, Part 1: The Two Dead Girls",
                                    "1": "The Green Mile, Part 1: The Two Dead Girls",
                                    "2": "4.49"
                                },
                                {
                                    "0": "The New Jim Crow: Mass Incarceration in the Age of Colorblindness",
                                    "1": "The New Jim Crow: Mass Incarceration in the Age of Colorblindness",
                                    "2": "4.49"
                                },
                                {
                                    "0": "A Charlie Brown Christmas",
                                    "1": "A Charlie Brown Christmas ",
                                    "2": "4.48"
                                },
                                {
                                    "0": "Assata: An Autobiography",
                                    "1": "Assata: An Autobiography",
                                    "2": "4.48"
                                },
                                {
                                    "0": "Evicted: Poverty and Profit in the American City",
                                    "1": "Evicted: Poverty and Profit in the American City",
                                    "2": "4.48"
                                },
                                {
                                    "0": "Harry Potter: Film Wizardry",
                                    "1": "Harry Potter: Film Wizardry",
                                    "2": "4.48"
                                },
                                {
                                    "0": "On Food and Cooking: The Science and Lore of the Kitchen",
                                    "1": "On Food and Cooking: The Science and Lore of the Kitchen",
                                    "2": "4.48"
                                },
                                {
                                    "0": "The Chronicles of Narnia - The Lion, the Witch, and the Wardrobe Official Illustrated Movie Companion",
                                    "1": "The Chronicles of Narnia - The Lion, the Witch, and the Wardrobe Official Illustrated Movie Companion",
                                    "2": "4.48"
                                },
                                {
                                    "0": "Darkest Powers Trilogy (Darkest Powers, #1-3)",
                                    "1": "Darkest Powers Trilogy (Darkest Powers, #1-3)",
                                    "2": "4.47"
                                },
                                {
                                    "0": "Ficciones",
                                    "1": "Ficciones",
                                    "2": "4.47"
                                },
                                {
                                    "0": "Finding Nemo",
                                    "1": "Finding Nemo",
                                    "2": "4.47"
                                },
                                {
                                    "0": "Fireproof",
                                    "1": "Fireproof",
                                    "2": "4.47"
                                },
                                {
                                    "0": "Hamilton: The Revolution",
                                    "1": "Hamilton: The Revolution",
                                    "2": "4.47"
                                },
                                {
                                    "0": "Lonesome Dove",
                                    "1": "Lonesome Dove",
                                    "2": "4.47"
                                },
                                {
                                    "0": "The Coldest Winter Ever",
                                    "1": "The Coldest Winter Ever",
                                    "2": "4.47"
                                },
                                {
                                    "0": "The Green Mile, Part 2: The Mouse on the Mile",
                                    "1": "The Green Mile, Part 2: The Mouse on the Mile",
                                    "2": "4.47"
                                },
                                {
                                    "0": "The Gruffalo",
                                    "1": "The Gruffalo",
                                    "2": "4.47"
                                },
                                {
                                    "0": "Tramp for the Lord",
                                    "1": "Tramp for the Lord",
                                    "2": "4.47"
                                },
                                {
                                    "0": "We Should All Be Feminists",
                                    "1": "We Should All Be Feminists",
                                    "2": "4.47"
                                },
                                {
                                    "0": "Shoe Dog: A Memoir by the Creator of NIKE",
                                    "1": "Shoe Dog: A Memoir by the Creator of Nike",
                                    "2": "4.46"
                                },
                                {
                                    "0": "The Complete Adventures of Peter Rabbit",
                                    "1": "The Complete Adventures of Peter Rabbit",
                                    "2": "4.46"
                                },
                                {
                                    "0": "Archer's Voice",
                                    "1": "Archer's Voice",
                                    "2": "4.45"
                                },
                                {
                                    "0": "Harry Potter and Philosophy: If Aristotle Ran Hogwarts",
                                    "1": "Harry Potter and Philosophy: If Aristotle Ran Hogwarts",
                                    "2": "4.45"
                                },
                                {
                                    "0": "Lover Awakened (Black Dagger Brotherhood, #3)",
                                    "1": "Lover Awakened (Black Dagger Brotherhood, #3)",
                                    "2": "4.45"
                                },
                                {
                                    "0": "Miss Rumphius",
                                    "1": "Miss Rumphius",
                                    "2": "4.45"
                                },
                                {
                                    "0": "Praying God's Word: Breaking Free From Spiritual Strongholds",
                                    "1": "Praying God's Word: Breaking Free From Spiritual Strongholds",
                                    "2": "4.45"
                                },
                                {
                                    "0": "Sherlock Holmes: The Complete Novels and Stories, Volume I",
                                    "1": "Sherlock Holmes: The Complete Novels and Stories, Volume I",
                                    "2": "4.45"
                                },
                                {
                                    "0": "The Far Side Gallery 3",
                                    "1": "The Far Side Gallery 3",
                                    "2": "4.45"
                                },
                                {
                                    "0": "The Fire Next Time",
                                    "1": "The Fire Next Time",
                                    "2": "4.45"
                                },
                                {
                                    "0": "The Help",
                                    "1": "The Help",
                                    "2": "4.45"
                                },
                                {
                                    "0": "The Monster at the End of this Book",
                                    "1": "The Monster at the End of This Book",
                                    "2": "4.45"
                                },
                                {
                                    "0": "Wicked - Piano/Vocal Arrangement",
                                    "1": "Wicked - Piano/Vocal Arrangement",
                                    "2": "4.45"
                                },
                                {
                                    "0": "Ignite Me (Shatter Me, #3)",
                                    "1": "Ignite Me (Shatter Me, #3)",
                                    "2": "4.44"
                                },
                                {
                                    "0": "It Ends with Us",
                                    "1": "It Ends with Us",
                                    "2": "4.44"
                                },
                                {
                                    "0": "Locke & Key, Vol. 4: Keys to the Kingdom",
                                    "1": "Locke & Key, Vol. 4: Keys to the Kingdom",
                                    "2": "4.44"
                                },
                                {
                                    "0": "The Complete Stories",
                                    "1": "The Complete Stories",
                                    "2": "4.44"
                                },
                                {
                                    "0": "The Declaration of Independence and The Constitution of the United States",
                                    "1": "The Declaration of Independence and The Constitution of the United States ",
                                    "2": "4.44"
                                },
                                {
                                    "0": "The Poetry of Pablo Neruda",
                                    "1": "The Poetry of Pablo Neruda",
                                    "2": "4.44"
                                },
                                {
                                    "0": "Left to Tell: Discovering God Amidst the Rwandan Holocaust",
                                    "1": "Left to Tell: Discovering God Amidst the Rwandan Holocaust",
                                    "2": "4.43"
                                },
                                {
                                    "0": "The Wheel of Time: Boxed Set #1 (Wheel of Time, #1-3)",
                                    "1": "The Wheel of Time: Boxed Set #1 (Wheel of Time, #1-3)",
                                    "2": "4.43"
                                },
                                {
                                    "0": "Wonder",
                                    "1": "Wonder",
                                    "2": "4.43"
                                },
                                {
                                    "0": "رباعيات صلاح جاهين",
                                    "1": "رباعيات صلاح جاهين",
                                    "2": "4.43"
                                },
                                {
                                    "0": "Band of Brothers: E Company, 506th Regiment, 101st Airborne from Normandy to Hitler's Eagle's Nest",
                                    "1": "Band of Brothers: E Company, 506th Regiment, 101st Airborne from Normandy to Hitler's Eagle's Nest",
                                    "2": "4.42"
                                },
                                {
                                    "0": "H.M.S. Surprise",
                                    "1": "H.M.S. Surprise ",
                                    "2": "4.42"
                                },
                                {
                                    "0": "Ina May's Guide to Childbirth",
                                    "1": "Ina May's Guide to Childbirth",
                                    "2": "4.42"
                                },
                                {
                                    "0": "Nothing to Envy: Ordinary Lives in North Korea",
                                    "1": "Nothing to Envy: Ordinary Lives in North Korea",
                                    "2": "4.42"
                                },
                                {
                                    "0": "The Far Side Gallery",
                                    "1": "The Far Side Gallery",
                                    "2": "4.42"
                                },
                                {
                                    "0": "The Green Mile",
                                    "1": "The Green Mile",
                                    "2": "4.42"
                                },
                                {
                                    "0": "Fantastic Beasts and Where to Find Them: The Original Screenplay",
                                    "1": "Fantastic Beasts and Where to Find Them: The Original Screenplay",
                                    "2": "4.41"
                                },
                                {
                                    "0": "Homegoing",
                                    "1": "Homegoing",
                                    "2": "4.41"
                                },
                                {
                                    "0": "November 9",
                                    "1": "November 9",
                                    "2": "4.41"
                                },
                                {
                                    "0": "Scott Pilgrim, Volume 6: Scott Pilgrim's Finest Hour",
                                    "1": "Scott Pilgrim, Volume 6: Scott Pilgrim's Finest Hour",
                                    "2": "4.41"
                                },
                                {
                                    "0": "The Cat in the Hat and Other Dr. Seuss Favorites",
                                    "1": "The Cat in the Hat and Other Dr. Seuss Favorites",
                                    "2": "4.41"
                                },
                                {
                                    "0": "The Day the Crayons Quit",
                                    "1": "The Day the Crayons Quit",
                                    "2": "4.41"
                                },
                                {
                                    "0": "The Kissing Hand",
                                    "1": "The Kissing Hand",
                                    "2": "4.41"
                                },
                                {
                                    "0": "The Peacegiver: How Christ Offers to Heal Our Hearts and Homes",
                                    "1": "The Peacegiver: How Christ Offers to Heal Our Hearts and Homes",
                                    "2": "4.41"
                                },
                                {
                                    "0": "The Story of Ruby Bridges",
                                    "1": "The Story of Ruby Bridges",
                                    "2": "4.41"
                                },
                                {
                                    "0": "The Weight of Glory",
                                    "1": "The Weight of Glory",
                                    "2": "4.41"
                                },
                                {
                                    "0": "Being Mortal: Medicine and What Matters in the End",
                                    "1": "Being Mortal: Medicine and What Matters in the End",
                                    "2": "4.4"
                                },
                                {
                                    "0": "Between the World and Me",
                                    "1": "Between the World and Me",
                                    "2": "4.4"
                                },
                                {
                                    "0": "Gates of Fire: An Epic Novel of the Battle of Thermopylae",
                                    "1": "Gates of Fire: An Epic Novel of the Battle of Thermopylae",
                                    "2": "4.4"
                                },
                                {
                                    "0": "The Exploits of Sherlock Holmes",
                                    "1": "The Exploits of Sherlock Holmes",
                                    "2": "4.4"
                                },
                                {
                                    "0": "The Royal Ranger (Ranger's Apprentice, #12)",
                                    "1": "The Royal Ranger (Ranger's Apprentice, #12)",
                                    "2": "4.4"
                                },
                                {
                                    "0": "The Sunne in Splendour",
                                    "1": "The Sunne in Splendour",
                                    "2": "4.4"
                                },
                                {
                                    "0": "Unbroken: A World War II Story of Survival, Resilience, and Redemption",
                                    "1": "Unbroken: A World War II Story of Survival, Resilience, and Redemption",
                                    "2": "4.4"
                                },
                                {
                                    "0": "With the Old Breed: At Peleliu and Okinawa",
                                    "1": "With The Old Breed: At Peleliu And Okinawa",
                                    "2": "4.4"
                                },
                                {
                                    "0": "As Sure as the Dawn (Mark of the Lion, #3)",
                                    "1": "As Sure as the Dawn (Mark of the Lion, #3)",
                                    "2": "4.39"
                                },
                                {
                                    "0": "Beauty and the Beast",
                                    "1": "Beauty and the Beast",
                                    "2": "4.39"
                                },
                                {
                                    "0": "Every Thing on It",
                                    "1": "Every Thing On It",
                                    "2": "4.39"
                                },
                                {
                                    "0": "I Love You Through and Through",
                                    "1": "I Love You Through And Through",
                                    "2": "4.39"
                                },
                                {
                                    "0": "I Want My Hat Back",
                                    "1": "I Want My Hat Back",
                                    "2": "4.39"
                                },
                                {
                                    "0": "Martin Eden",
                                    "1": "Martin Eden",
                                    "2": "4.39"
                                },
                                {
                                    "0": "My Utmost for His Highest",
                                    "1": "My Utmost for His Highest",
                                    "2": "4.39"
                                },
                                {
                                    "0": "Red Notice: A True Story of High Finance, Murder, and One Man’s Fight for Justice",
                                    "1": "Red Notice: A True Story of High Finance, Murder, and One Man’s Fight for Justice",
                                    "2": "4.39"
                                },
                                {
                                    "0": "Stand Tall, Molly Lou Melon",
                                    "1": "Stand Tall, Molly Lou Melon",
                                    "2": "4.39"
                                },
                                {
                                    "0": "Streams in the Desert",
                                    "1": "Streams in the Desert",
                                    "2": "4.39"
                                },
                                {
                                    "0": "The Brothers K",
                                    "1": "The Brothers K",
                                    "2": "4.39"
                                },
                                {
                                    "0": "The Lord God Made Them All",
                                    "1": "The Lord God Made Them All",
                                    "2": "4.39"
                                },
                                {
                                    "0": "The Martian",
                                    "1": "The Martian",
                                    "2": "4.39"
                                },
                                {
                                    "0": "The Truth Seeker (O'Malley #3)",
                                    "1": "The Truth Seeker (O'Malley #3)",
                                    "2": "4.39"
                                },
                                {
                                    "0": "Homicide: A Year on the Killing Streets",
                                    "1": "Homicide: A Year on the Killing Streets",
                                    "2": "4.38"
                                },
                                {
                                    "0": "Love You to Death: The Unofficial Companion to the Vampire Diaries",
                                    "1": "Love You to Death: The Unofficial Companion to The Vampire Diaries",
                                    "2": "4.38"
                                },
                                {
                                    "0": "Survivor In Death (In Death, #20)",
                                    "1": "Survivor in Death (In Death, #20)",
                                    "2": "4.38"
                                },
                                {
                                    "0": "The Beatles Anthology",
                                    "1": "The Beatles Anthology",
                                    "2": "4.38"
                                },
                                {
                                    "0": "The Giving Tree",
                                    "1": "The Giving Tree",
                                    "2": "4.38"
                                },
                                {
                                    "0": "The Looming Tower: Al-Qaeda and the Road to 9/11",
                                    "1": "The Looming Tower: Al-Qaeda and the Road to 9/11",
                                    "2": "4.38"
                                },
                                {
                                    "0": "The Power of a Praying Woman",
                                    "1": "The Power of a Praying Woman",
                                    "2": "4.38"
                                },
                                {
                                    "0": "The Return of the Prodigal Son: A Story of Homecoming",
                                    "1": "The Return of the Prodigal Son: A Story of Homecoming",
                                    "2": "4.38"
                                },
                                {
                                    "0": "The Sandman: The Dream Hunters",
                                    "1": "The Sandman: The Dream Hunters",
                                    "2": "4.38"
                                },
                                {
                                    "0": "Through Gates of Splendor",
                                    "1": "Through Gates of Splendor",
                                    "2": "4.38"
                                },
                                {
                                    "0": "Twilight and History",
                                    "1": "Twilight and History",
                                    "2": "4.38"
                                },
                                {
                                    "0": "A Gentleman in Moscow",
                                    "1": "A Gentleman in Moscow",
                                    "2": "4.37"
                                },
                                {
                                    "0": "And the Band Played On: Politics, People, and the AIDS Epidemic",
                                    "1": "And the Band Played On: Politics, People, and the AIDS Epidemic",
                                    "2": "4.37"
                                },
                                {
                                    "0": "Bumi Manusia",
                                    "1": "Bumi Manusia",
                                    "2": "4.37"
                                },
                                {
                                    "0": "Out of My Mind",
                                    "1": "Out of My Mind",
                                    "2": "4.37"
                                },
                                {
                                    "0": "The Improbable Adventures of Sherlock Holmes",
                                    "1": "The Improbable Adventures of Sherlock Holmes",
                                    "2": "4.37"
                                },
                                {
                                    "0": "The Miracle of Forgiveness",
                                    "1": "The Miracle of Forgiveness",
                                    "2": "4.37"
                                },
                                {
                                    "0": "The Pigeon Wants a Puppy!",
                                    "1": "The Pigeon Wants a Puppy!",
                                    "2": "4.37"
                                },
                                {
                                    "0": "The Wheel of Time: Boxed Set  (Wheel of Time, #1-8)",
                                    "1": "The Wheel of Time: Boxed Set  (Wheel of Time, #1-8)",
                                    "2": "4.37"
                                },
                                {
                                    "0": "Wicked Deeds on a Winter's Night (Immortals After Dark #4)",
                                    "1": "Wicked Deeds on a Winter's Night (Immortals After Dark #4)",
                                    "2": "4.37"
                                },
                                {
                                    "0": "A Monster Calls",
                                    "1": "A Monster Calls ",
                                    "2": "4.36"
                                },
                                {
                                    "0": "A Work in Progress",
                                    "1": "A Work in Progress",
                                    "2": "4.36"
                                },
                                {
                                    "0": "Batman: The Killing Joke",
                                    "1": "Batman: The Killing Joke ",
                                    "2": "4.36"
                                },
                                {
                                    "0": "Between Shades of Gray",
                                    "1": "Between Shades of Gray",
                                    "2": "4.36"
                                },
                                {
                                    "0": "Echo",
                                    "1": "Echo",
                                    "2": "4.36"
                                },
                                {
                                    "0": "Endurance: Shackleton's Incredible Voyage",
                                    "1": "Endurance: Shackleton's incredible voyage",
                                    "2": "4.36"
                                },
                                {
                                    "0": "Guess How Much I Love You",
                                    "1": "Guess How Much I Love You",
                                    "2": "4.36"
                                },
                                {
                                    "0": "How the Grinch Stole Christmas!",
                                    "1": "How the Grinch Stole Christmas!",
                                    "2": "4.36"
                                },
                                {
                                    "0": "Innocent in Death (In Death, #24)",
                                    "1": "Innocent in Death (In Death, #24)",
                                    "2": "4.36"
                                },
                                {
                                    "0": "Making Faces",
                                    "1": "Making Faces",
                                    "2": "4.36"
                                },
                                {
                                    "0": "Salt to the Sea",
                                    "1": "Salt to the Sea",
                                    "2": "4.36"
                                },
                                {
                                    "0": "The Book Thief",
                                    "1": "The Book Thief",
                                    "2": "4.36"
                                },
                                {
                                    "0": "The Godfather",
                                    "1": "The Godfather",
                                    "2": "4.36"
                                },
                                {
                                    "0": "The Power of the Dog",
                                    "1": "The Power of the Dog",
                                    "2": "4.36"
                                },
                                {
                                    "0": "Y: The Last Man - The Deluxe Edition Book One",
                                    "1": "Y: The Last Man - The Deluxe Edition Book One",
                                    "2": "4.36"
                                },
                                {
                                    "0": "Chasing the Prophecy (Beyonders, #3)",
                                    "1": "Chasing the Prophecy (Beyonders, #3)",
                                    "2": "4.35"
                                },
                                {
                                    "0": "Cosmos",
                                    "1": "Cosmos",
                                    "2": "4.35"
                                },
                                {
                                    "0": "Don't Let the Pigeon Stay Up Late!",
                                    "1": "Don't Let the Pigeon Stay Up Late!",
                                    "2": "4.35"
                                },
                                {
                                    "0": "East of Eden",
                                    "1": "East of Eden  ",
                                    "2": "4.35"
                                },
                                {
                                    "0": "Lover Eternal (Black Dagger Brotherhood, #2)",
                                    "1": "Lover Eternal (Black Dagger Brotherhood, #2)",
                                    "2": "4.35"
                                },
                                {
                                    "0": "On the Night You Were Born",
                                    "1": "On the Night You Were Born",
                                    "2": "4.35"
                                },
                                {
                                    "0": "The Great Dune Trilogy  ",
                                    "1": "The Great Dune Trilogy",
                                    "2": "4.35"
                                },
                                {
                                    "0": "The Holiness of God",
                                    "1": "The Holiness of God",
                                    "2": "4.35"
                                },
                                {
                                    "0": "The Lorax",
                                    "1": "The Lorax",
                                    "2": "4.35"
                                },
                                {
                                    "0": "The Mauritius Command",
                                    "1": "The Mauritius Command",
                                    "2": "4.35"
                                },
                                {
                                    "0": "The Pigeon Finds a Hot Dog!",
                                    "1": "The Pigeon Finds a Hot Dog!",
                                    "2": "4.35"
                                },
                                {
                                    "0": "The Story of Ferdinand",
                                    "1": "The Story of Ferdinand",
                                    "2": "4.35"
                                },
                                {
                                    "0": "Watchmen",
                                    "1": "Watchmen",
                                    "2": "4.35"
                                },
                                {
                                    "0": "A Fine Balance",
                                    "1": "A Fine Balance",
                                    "2": "4.34"
                                },
                                {
                                    "0": "A Light in the Attic",
                                    "1": "A Light in the Attic",
                                    "2": "4.34"
                                },
                                {
                                    "0": "A Thousand Splendid Suns",
                                    "1": "A Thousand Splendid Suns",
                                    "2": "4.34"
                                },
                                {
                                    "0": "Different Seasons",
                                    "1": "Different Seasons",
                                    "2": "4.34"
                                },
                                {
                                    "0": "Drums of Autumn (Outlander, #4)",
                                    "1": "Drums of Autumn (Outlander, #4)",
                                    "2": "4.34"
                                },
                                {
                                    "0": "Identical",
                                    "1": "Identical",
                                    "2": "4.34"
                                },
                                {
                                    "0": "India After Gandhi: The History of the World's Largest Democracy",
                                    "1": "India After Gandhi: The History of the World's Largest Democracy",
                                    "2": "4.34"
                                },
                                {
                                    "0": "Janet Evanovich Three and Four Two-Book Set (Stephanie Plum, #3-4)",
                                    "1": "Janet Evanovich Three and Four Two-Book Set (Stephanie Plum, #3-4)",
                                    "2": "4.34"
                                },
                                {
                                    "0": "Lone Survivor: The Eyewitness Account of Operation Redwing and the Lost Heroes of SEAL Team 10",
                                    "1": "Lone Survivor: The Eyewitness Account of Operation Redwing and the Lost Heroes of SEAL Team 10",
                                    "2": "4.34"
                                },
                                {
                                    "0": "Love You Forever",
                                    "1": "Love You Forever",
                                    "2": "4.34"
                                },
                                {
                                    "0": "Oh, The Places You'll Go!",
                                    "1": "Oh, the Places You'll Go!",
                                    "2": "4.34"
                                },
                                {
                                    "0": "Peace Is Every Step: The Path of Mindfulness in Everyday Life",
                                    "1": "Peace Is Every Step: The Path of Mindfulness in Everyday Life",
                                    "2": "4.34"
                                },
                                {
                                    "0": "The Book with No Pictures",
                                    "1": "The Book with No Pictures",
                                    "2": "4.34"
                                },
                                {
                                    "0": "The Last Seven Months of Anne Frank",
                                    "1": "The Last Seven Months of Anne Frank",
                                    "2": "4.34"
                                },
                                {
                                    "0": "The Miraculous Journey of Edward Tulane",
                                    "1": "The Miraculous Journey of Edward Tulane",
                                    "2": "4.34"
                                },
                                {
                                    "0": "The Sandman: Endless Nights",
                                    "1": "The Sandman: Endless Nights",
                                    "2": "4.34"
                                },
                                {
                                    "0": "The Sea of Tranquility",
                                    "1": "The Sea of Tranquility",
                                    "2": "4.34"
                                },
                                {
                                    "0": "The Stand",
                                    "1": "The Stand",
                                    "2": "4.34"
                                },
                                {
                                    "0": "The Walking Dead, Vol. 14: No Way Out",
                                    "1": "The Walking Dead, Vol. 14: No Way Out ",
                                    "2": "4.34"
                                },
                                {
                                    "0": "The Wall of Winnipeg and Me",
                                    "1": "The Wall of Winnipeg and Me",
                                    "2": "4.34"
                                },
                                {
                                    "0": "All-Star Superman, Vol. 2",
                                    "1": "All-Star Superman, Vol. 2",
                                    "2": "4.33"
                                },
                                {
                                    "0": "Amazing Grace",
                                    "1": "Amazing Grace",
                                    "2": "4.33"
                                },
                                {
                                    "0": "Batman, Volume 3: Death of the Family",
                                    "1": "Batman, Volume 3: Death of the Family",
                                    "2": "4.33"
                                },
                                {
                                    "0": "Battlefield of the Mind: Winning the Battle in Your Mind",
                                    "1": "Battlefield of the Mind: Winning the Battle in Your Mind",
                                    "2": "4.33"
                                },
                                {
                                    "0": "Born in Death (In Death, #23)",
                                    "1": "Born in Death (In Death, #23)",
                                    "2": "4.33"
                                },
                                {
                                    "0": "Crush",
                                    "1": "Crush",
                                    "2": "4.33"
                                },
                                {
                                    "0": "Exodus",
                                    "1": "Exodus",
                                    "2": "4.33"
                                },
                                {
                                    "0": "Falling Up",
                                    "1": "Falling Up",
                                    "2": "4.33"
                                },
                                {
                                    "0": "Last Chance to See",
                                    "1": "Last Chance to See",
                                    "2": "4.33"
                                },
                                {
                                    "0": "Mastering the Art of French Cooking",
                                    "1": "Mastering the Art of French Cooking",
                                    "2": "4.33"
                                },
                                {
                                    "0": "Preacher, Volume 8: All Hell's a-Coming",
                                    "1": "Preacher, Volume 8: All Hell's a-Coming",
                                    "2": "4.33"
                                },
                                {
                                    "0": "SantaLand Diaries",
                                    "1": "SantaLand Diaries",
                                    "2": "4.33"
                                },
                                {
                                    "0": "Scott Pilgrim, Volume 5: Scott Pilgrim Vs. the Universe",
                                    "1": "Scott Pilgrim, Volume 5: Scott Pilgrim Vs. the Universe",
                                    "2": "4.33"
                                },
                                {
                                    "0": "Taken at Dusk (Shadow Falls, #3)",
                                    "1": "Taken at Dusk (Shadow Falls, #3)",
                                    "2": "4.33"
                                },
                                {
                                    "0": "The Arrival",
                                    "1": "The Arrival",
                                    "2": "4.33"
                                },
                                {
                                    "0": "The Dragonslayer (Bone, #4)",
                                    "1": "The Dragonslayer (Bone, #4)",
                                    "2": "4.33"
                                },
                                {
                                    "0": "The Emperor's Soul",
                                    "1": "The Emperor's Soul",
                                    "2": "4.33"
                                },
                                {
                                    "0": "The Heavenly Man: The Remarkable True Story of Chinese Christian Brother Yun",
                                    "1": "The Heavenly Man: The Remarkable True Story of Chinese Christian Brother Yun",
                                    "2": "4.33"
                                },
                                {
                                    "0": "The Real Mother Goose",
                                    "1": "The Real Mother Goose",
                                    "2": "4.33"
                                },
                                {
                                    "0": "Visions in Death (In Death, #19)",
                                    "1": "Visions in Death (In Death, #19)",
                                    "2": "4.33"
                                },
                                {
                                    "0": "A Higher Call: An Incredible True Story of Combat and Chivalry in the War-Torn Skies of World War II",
                                    "1": "A Higher Call: An Incredible True Story of Combat and Chivalry in the War-Torn Skies of World War II",
                                    "2": "4.32"
                                },
                                {
                                    "0": "Battle Cry of Freedom",
                                    "1": "Battle Cry of Freedom",
                                    "2": "4.32"
                                },
                                {
                                    "0": "Black Lies",
                                    "1": "Black Lies",
                                    "2": "4.32"
                                },
                                {
                                    "0": "Boy's Life",
                                    "1": "Boy's Life",
                                    "2": "4.32"
                                },
                                {
                                    "0": "Counterfeit Gods: The Empty Promises of Money, Sex, and Power, and the Only Hope that Matters",
                                    "1": "Counterfeit Gods: The Empty Promises of Money, Sex, and Power, and the Only Hope That Matters",
                                    "2": "4.32"
                                },
                                {
                                    "0": "Divided in Death (In Death, #18)",
                                    "1": "Divided in Death (In Death, #18)",
                                    "2": "4.32"
                                },
                                {
                                    "0": "God's Smuggler",
                                    "1": "God's Smuggler",
                                    "2": "4.32"
                                },
                                {
                                    "0": "If I Die (Soul Screamers, #5)",
                                    "1": "If I Die (Soul Screamers, #5)",
                                    "2": "4.32"
                                },
                                {
                                    "0": "Mufaro's Beautiful Daughters: An African Tale",
                                    "1": "Mufaro's Beautiful Daughters: An African Tale",
                                    "2": "4.32"
                                },
                                {
                                    "0": "Out of Breath (Breathing, #3)",
                                    "1": "Out of Breath (Breathing, #3)",
                                    "2": "4.32"
                                },
                                {
                                    "0": "Pale Blue Dot: A Vision of the Human Future in Space",
                                    "1": "Pale Blue Dot: A Vision of the Human Future in Space",
                                    "2": "4.32"
                                },
                                {
                                    "0": "Plenty",
                                    "1": "Plenty",
                                    "2": "4.32"
                                },
                                {
                                    "0": "Scott Pilgrim, Volume 4: Scott Pilgrim Gets It Together",
                                    "1": "Scott Pilgrim, Volume 4: Scott Pilgrim Gets It Together",
                                    "2": "4.32"
                                },
                                {
                                    "0": "The Auschwitz Escape",
                                    "1": "The Auschwitz Escape",
                                    "2": "4.32"
                                },
                                {
                                    "0": "The Battle for Skandia (Ranger's Apprentice, #4)",
                                    "1": "The Battle for Skandia (Ranger's Apprentice, #4)",
                                    "2": "4.32"
                                },
                                {
                                    "0": "The Black Dagger Brotherhood: An Insider's Guide",
                                    "1": "The Black Dagger Brotherhood: An Insider's Guide",
                                    "2": "4.32"
                                },
                                {
                                    "0": "The Boys in the Boat: Nine Americans and Their Epic Quest for Gold at the 1936 Berlin Olympics",
                                    "1": "The Boys in the Boat: Nine Americans and Their Epic Quest for Gold at the 1936 Berlin Olympics",
                                    "2": "4.32"
                                },
                                {
                                    "0": "The Darkest Lie (Lords of the Underworld #6)",
                                    "1": "The Darkest Lie (Lords of the Underworld #6)",
                                    "2": "4.32"
                                },
                                {
                                    "0": "The Everafter War (The Sisters Grimm, #7)",
                                    "1": "The Everafter War (The Sisters Grimm, #7)",
                                    "2": "4.32"
                                },
                                {
                                    "0": "The Love Song of J. Alfred Prufrock and Other Poems",
                                    "1": "The Love Song of J. Alfred Prufrock and Other Poems",
                                    "2": "4.32"
                                },
                                {
                                    "0": "The Magic Strings of Frankie Presto",
                                    "1": "The Magic Strings of Frankie Presto",
                                    "2": "4.32"
                                },
                                {
                                    "0": "The Making of the Atomic Bomb",
                                    "1": "The Making of the Atomic Bomb",
                                    "2": "4.32"
                                },
                                {
                                    "0": "The Memoirs of Sherlock Holmes",
                                    "1": "The Memoirs of Sherlock Holmes",
                                    "2": "4.32"
                                },
                                {
                                    "0": "The Missing Piece Meets the Big O ",
                                    "1": "The Missing Piece Meets the Big O",
                                    "2": "4.32"
                                },
                                {
                                    "0": "The Paper Bag Princess",
                                    "1": "The Paper Bag Princess",
                                    "2": "4.32"
                                },
                                {
                                    "0": "The Practice of the Presence of God",
                                    "1": "The Practice of the Presence of God",
                                    "2": "4.32"
                                },
                                {
                                    "0": "The Realms of the Gods (Immortals, #4)",
                                    "1": "The Realms of the Gods (Immortals, #4)",
                                    "2": "4.32"
                                },
                                {
                                    "0": "The Secret Race: Inside the Hidden World of the Tour de France: Doping, Cover-ups, and Winning at All Costs",
                                    "1": "The Secret Race: Inside the Hidden World of the Tour de France: Doping, Cover-ups, and Winning at All Costs",
                                    "2": "4.32"
                                },
                                {
                                    "0": "When Breath Becomes Air",
                                    "1": "When Breath Becomes Air",
                                    "2": "4.32"
                                },
                                {
                                    "0": "Wild Magic (Immortals, #1)",
                                    "1": "Wild Magic (Immortals, #1)",
                                    "2": "4.32"
                                },
                                {
                                    "0": "Women's Bodies, Women's Wisdom: Creating Physical and Emotional Health and Healing",
                                    "1": "Women's Bodies, Women's Wisdom: Creating Physical and Emotional Health and Healing",
                                    "2": "4.32"
                                },
                                {
                                    "0": "الطنطورية",
                                    "1": "الطنطورية ",
                                    "2": "4.32"
                                },
                                {
                                    "0": "عائد إلى حيفا",
                                    "1": "عائد إلى حيفا",
                                    "2": "4.32"
                                },
                                {
                                    "0": "Anne Frank : The Biography",
                                    "1": "Anne Frank : The Biography",
                                    "2": "4.31"
                                },
                                {
                                    "0": "Chrysanthemum",
                                    "1": "Chrysanthemum",
                                    "2": "4.31"
                                },
                                {
                                    "0": "Daytripper",
                                    "1": "Daytripper",
                                    "2": "4.31"
                                },
                                {
                                    "0": "Financial Peace Revisited",
                                    "1": "Financial Peace Revisited",
                                    "2": "4.31"
                                },
                                {
                                    "0": "Half the Sky: Turning Oppression into Opportunity for Women Worldwide",
                                    "1": "Half the Sky: Turning Oppression into Opportunity for Women Worldwide",
                                    "2": "4.31"
                                },
                                {
                                    "0": "Infinite Jest",
                                    "1": "Infinite Jest",
                                    "2": "4.31"
                                },
                                {
                                    "0": "Knowing God",
                                    "1": "Knowing God",
                                    "2": "4.31"
                                },
                                {
                                    "0": "Lilac Girls",
                                    "1": "Lilac Girls",
                                    "2": "4.31"
                                },
                                {
                                    "0": "Mere Christianity",
                                    "1": "Mere Christianity",
                                    "2": "4.31"
                                },
                                {
                                    "0": "On Writing: A Memoir of the Craft",
                                    "1": "On Writing: A Memoir of the Craft",
                                    "2": "4.31"
                                },
                                {
                                    "0": "The America's Test Kitchen Family Cookbook",
                                    "1": "The America's Test Kitchen Family Cookbook",
                                    "2": "4.31"
                                },
                                {
                                    "0": "The Autobiography of Martin Luther King, Jr.",
                                    "1": "The Autobiography of Martin Luther King, Jr.",
                                    "2": "4.31"
                                },
                                {
                                    "0": "The Endurance: Shackleton's Legendary Antarctic Expedition",
                                    "1": "The Endurance: Shackleton's legendary Antarctic expedition",
                                    "2": "4.31"
                                },
                                {
                                    "0": "The Little Mouse, the Red Ripe Strawberry, and the Big Hungry Bear",
                                    "1": "The Little Mouse, the Red Ripe Strawberry, and the Big Hungry Bear",
                                    "2": "4.31"
                                },
                                {
                                    "0": "The Longest Day",
                                    "1": "The Longest Day",
                                    "2": "4.31"
                                },
                                {
                                    "0": "The Power of a Praying Wife",
                                    "1": "The Power of a Praying Wife",
                                    "2": "4.31"
                                },
                                {
                                    "0": "The Pragmatic Programmer: From Journeyman to Master",
                                    "1": "The Pragmatic Programmer: From Journeyman to Master",
                                    "2": "4.31"
                                },
                                {
                                    "0": "The Sneetches and Other Stories",
                                    "1": "The Sneetches and Other Stories",
                                    "2": "4.31"
                                },
                                {
                                    "0": "The Warmth of Other Suns: The Epic Story of America's Great Migration",
                                    "1": "The Warmth of Other Suns: The Epic Story of America's Great Migration ",
                                    "2": "4.31"
                                },
                                {
                                    "0": "The Way to Cook",
                                    "1": "The Way to Cook",
                                    "2": "4.31"
                                },
                                {
                                    "0": "Three Day Road",
                                    "1": "Three Day Road",
                                    "2": "4.31"
                                },
                                {
                                    "0": "A Child's Garden of Verses",
                                    "1": "A Child's Garden of Verses",
                                    "2": "4.3"
                                },
                                {
                                    "0": "Batman, Volume 1: The Court of Owls",
                                    "1": "Batman, Volume 1: The Court of Owls",
                                    "2": "4.3"
                                },
                                {
                                    "0": "Binge",
                                    "1": "Binge",
                                    "2": "4.3"
                                },
                                {
                                    "0": "Cathedral",
                                    "1": "Cathedral",
                                    "2": "4.3"
                                },
                                {
                                    "0": "Citizen: An American Lyric",
                                    "1": "Citizen: An American Lyric",
                                    "2": "4.3"
                                },
                                {
                                    "0": "Copper Sun",
                                    "1": "Copper Sun",
                                    "2": "4.3"
                                },
                                {
                                    "0": "Emperor Mage (Immortals, #3)",
                                    "1": "Emperor Mage (Immortals, #3)",
                                    "2": "4.3"
                                },
                                {
                                    "0": "Gödel, Escher, Bach: An Eternal Golden Braid",
                                    "1": "Gödel, Escher, Bach: An Eternal Golden Braid",
                                    "2": "4.3"
                                },
                                {
                                    "0": "Hinds' Feet on High Places",
                                    "1": "Hinds' Feet on High Places",
                                    "2": "4.3"
                                },
                                {
                                    "0": "Judas Unchained",
                                    "1": "Judas Unchained",
                                    "2": "4.3"
                                },
                                {
                                    "0": "Little Bear's Friend",
                                    "1": "Little Bear's Friend",
                                    "2": "4.3"
                                },
                                {
                                    "0": "Rudolph the Red-Nosed Reindeer",
                                    "1": "Rudolph the Red-Nosed Reindeer",
                                    "2": "4.3"
                                },
                                {
                                    "0": "Still Alice",
                                    "1": "Still Alice",
                                    "2": "4.3"
                                },
                                {
                                    "0": "Tatiana and Alexander (The Bronze Horseman, #2)",
                                    "1": "Tatiana and Alexander (The Bronze Horseman, #2)",
                                    "2": "4.3"
                                },
                                {
                                    "0": "Team of Rivals: The Political Genius of Abraham Lincoln",
                                    "1": "Team of Rivals: The Political Genius of Abraham Lincoln",
                                    "2": "4.3"
                                },
                                {
                                    "0": "Term Limits",
                                    "1": "Term Limits",
                                    "2": "4.3"
                                },
                                {
                                    "0": "The Places That Scare You: A Guide to Fearlessness in Difficult Times",
                                    "1": "The Places That Scare You: A Guide to Fearlessness in Difficult Times",
                                    "2": "4.3"
                                },
                                {
                                    "0": "The Power of Myth",
                                    "1": "The Power of Myth",
                                    "2": "4.3"
                                },
                                {
                                    "0": "The Raven and other poems",
                                    "1": "The Raven and Other Poems",
                                    "2": "4.3"
                                },
                                {
                                    "0": "The Return of Sherlock Holmes",
                                    "1": "The Return of Sherlock Holmes",
                                    "2": "4.3"
                                },
                                {
                                    "0": "The Source",
                                    "1": "The Source",
                                    "2": "4.3"
                                },
                                {
                                    "0": "The Sweet Gum Tree",
                                    "1": "The Sweet Gum Tree",
                                    "2": "4.3"
                                },
                                {
                                    "0": "Ugly Love",
                                    "1": "Ugly Love",
                                    "2": "4.3"
                                },
                                {
                                    "0": "We Wish to Inform You That Tomorrow We Will Be Killed with Our Families",
                                    "1": "We Wish to Inform You That Tomorrow We Will Be Killed with Our Families",
                                    "2": "4.3"
                                },
                                {
                                    "0": "11/22/63",
                                    "1": "11/22/63",
                                    "2": "4.29"
                                },
                                {
                                    "0": "A Pocket for Corduroy",
                                    "1": "A Pocket for Corduroy",
                                    "2": "4.29"
                                },
                                {
                                    "0": "A Return to Love: Reflections on the Principles of \"A Course in Miracles\"",
                                    "1": "A Return to Love: Reflections on the Principles of \"A Course in Miracles\"",
                                    "2": "4.29"
                                },
                                {
                                    "0": "A Thousand Boy Kisses",
                                    "1": "A Thousand Boy Kisses",
                                    "2": "4.29"
                                },
                                {
                                    "0": "A Woman After God's Own Heart",
                                    "1": "A Woman After God's Own Heart",
                                    "2": "4.29"
                                },
                                {
                                    "0": "Batman: The Black Mirror",
                                    "1": "Batman: The Black Mirror",
                                    "2": "4.29"
                                },
                                {
                                    "0": "Batman: The Long Halloween",
                                    "1": "Batman: The Long Halloween",
                                    "2": "4.29"
                                },
                                {
                                    "0": "Fallout (Crank, #3)",
                                    "1": "Fallout (Crank, #3)",
                                    "2": "4.29"
                                },
                                {
                                    "0": "First They Killed My Father: A Daughter of Cambodia Remembers",
                                    "1": "First They Killed My Father: A Daughter of Cambodia Remembers ",
                                    "2": "4.29"
                                },
                                {
                                    "0": "Green Eggs and Ham",
                                    "1": "Green Eggs and Ham",
                                    "2": "4.29"
                                },
                                {
                                    "0": "Matilda",
                                    "1": "Matilda",
                                    "2": "4.29"
                                },
                                {
                                    "0": "Mistress of the Empire (The Empire Trilogy, #3)",
                                    "1": "Mistress of the Empire (The Empire Trilogy, #3)",
                                    "2": "4.29"
                                },
                                {
                                    "0": "Momo",
                                    "1": "Momo",
                                    "2": "4.29"
                                },
                                {
                                    "0": "Scott Pilgrim, Volume 3: Scott Pilgrim & The Infinite Sadness",
                                    "1": "Scott Pilgrim, Volume 3: Scott Pilgrim & The Infinite Sadness",
                                    "2": "4.29"
                                },
                                {
                                    "0": "Sisters",
                                    "1": "Sisters",
                                    "2": "4.29"
                                },
                                {
                                    "0": "Stalingrad: The Fateful Siege, 1942–1943",
                                    "1": "Stalingrad: The Fateful Siege, 1942–1943",
                                    "2": "4.29"
                                },
                                {
                                    "0": "The Adventures of Sherlock Holmes",
                                    "1": "The Adventures of Sherlock Holmes",
                                    "2": "4.29"
                                },
                                {
                                    "0": "The Autobiography of Malcolm X",
                                    "1": "The Autobiography of Malcolm X",
                                    "2": "4.29"
                                },
                                {
                                    "0": "The Complete Phantom of the Opera",
                                    "1": "The Complete Phantom of the Opera",
                                    "2": "4.29"
                                },
                                {
                                    "0": "The Emperor of All Maladies: A Biography of Cancer",
                                    "1": "The Emperor of All Maladies: A Biography of Cancer",
                                    "2": "4.29"
                                },
                                {
                                    "0": "The Little House",
                                    "1": "The Little House",
                                    "2": "4.29"
                                },
                                {
                                    "0": "The Polar Express",
                                    "1": "The Polar Express",
                                    "2": "4.29"
                                },
                                {
                                    "0": "The Road to the Dark Tower: Exploring Stephen King's Magnum Opus",
                                    "1": "The Road to the Dark Tower: Exploring Stephen King's Magnum Opus",
                                    "2": "4.29"
                                },
                                {
                                    "0": "The Total Money Makeover: A Proven Plan for Financial Fitness",
                                    "1": "The Total Money Makeover: A Proven Plan for Financial Fitness",
                                    "2": "4.29"
                                },
                                {
                                    "0": "The Velveteen Rabbit",
                                    "1": "The Velveteen Rabbit",
                                    "2": "4.29"
                                },
                                {
                                    "0": "The Walking Dead, Vol. 10: What We Become",
                                    "1": "The Walking Dead, Vol. 10: What We Become",
                                    "2": "4.29"
                                },
                                {
                                    "0": "Tiny Beautiful Things: Advice on Love and Life from Dear Sugar",
                                    "1": "Tiny Beautiful Things: Advice on Love and Life from Dear Sugar",
                                    "2": "4.29"
                                },
                                {
                                    "0": "We Were Soldiers Once... and Young: Ia Drang - The Battle that Changed the War in Vietnam",
                                    "1": "We Were Soldiers Once... and Young: Ia Drang - the Battle That Changed the War in Vietnam",
                                    "2": "4.29"
                                },
                                {
                                    "0": "When Things Fall Apart: Heart Advice for Difficult Times",
                                    "1": "When Things Fall Apart: Heart Advice for Difficult Times",
                                    "2": "4.29"
                                },
                                {
                                    "0": "Will You Please Be Quiet, Please?",
                                    "1": "Will You Please Be Quiet, Please?",
                                    "2": "4.29"
                                },
                                {
                                    "0": "ثلاثية غرناطة",
                                    "1": "ثلاثية غرناطة",
                                    "2": "4.29"
                                },
                                {
                                    "0": "Animalia",
                                    "1": "Animalia",
                                    "2": "4.28"
                                },
                                {
                                    "0": "Black Hawk Down",
                                    "1": "Black Hawk Down",
                                    "2": "4.28"
                                },
                                {
                                    "0": "City of Thieves",
                                    "1": "City of Thieves",
                                    "2": "4.28"
                                },
                                {
                                    "0": "Corduroy",
                                    "1": "Corduroy",
                                    "2": "4.28"
                                },
                                {
                                    "0": "Curious George Takes a Job",
                                    "1": "Curious George Takes a Job",
                                    "2": "4.28"
                                },
                                {
                                    "0": "Cutting for Stone",
                                    "1": "Cutting for Stone",
                                    "2": "4.28"
                                },
                                {
                                    "0": "Fish in a Tree",
                                    "1": "Fish In A Tree",
                                    "2": "4.28"
                                },
                                {
                                    "0": "Flotsam",
                                    "1": "Flotsam",
                                    "2": "4.28"
                                },
                                {
                                    "0": "Glass (Crank, #2)",
                                    "1": "Glass (Crank, #2)",
                                    "2": "4.28"
                                },
                                {
                                    "0": "Gone with the Wind",
                                    "1": "Gone with the Wind",
                                    "2": "4.28"
                                },
                                {
                                    "0": "Good Night, Mr. Tom",
                                    "1": "Good Night, Mr. Tom",
                                    "2": "4.28"
                                },
                                {
                                    "0": "Hairy Maclary from Donaldson's Dairy",
                                    "1": "Hairy Maclary from Donaldson's Dairy",
                                    "2": "4.28"
                                },
                                {
                                    "0": "Half of a Yellow Sun",
                                    "1": "Half of a Yellow Sun",
                                    "2": "4.28"
                                },
                                {
                                    "0": "Her Mother's Hope (Marta's Legacy, #1)",
                                    "1": "Her Mother's Hope (Marta's Legacy, #1)",
                                    "2": "4.28"
                                },
                                {
                                    "0": "Llama Llama Mad at Mama",
                                    "1": "Llama Llama Mad at Mama",
                                    "2": "4.28"
                                },
                                {
                                    "0": "Loving Mr. Daniels",
                                    "1": "Loving Mr. Daniels",
                                    "2": "4.28"
                                },
                                {
                                    "0": "Once We Were Brothers",
                                    "1": "Once We Were Brothers",
                                    "2": "4.28"
                                },
                                {
                                    "0": "Starlight (Warriors: The New Prophecy, #4)",
                                    "1": "Starlight (Warriors: The New Prophecy, #4)",
                                    "2": "4.28"
                                },
                                {
                                    "0": "Stone Soup",
                                    "1": "Stone Soup",
                                    "2": "4.28"
                                },
                                {
                                    "0": "Stoner",
                                    "1": "Stoner",
                                    "2": "4.28"
                                },
                                {
                                    "0": "Swan Song",
                                    "1": "Swan Song",
                                    "2": "4.28"
                                },
                                {
                                    "0": "The Book on the Taboo Against Knowing Who You Are",
                                    "1": "The Book on the Taboo Against Knowing Who You Are",
                                    "2": "4.28"
                                },
                                {
                                    "0": "The Cartel",
                                    "1": "The Cartel",
                                    "2": "4.28"
                                },
                                {
                                    "0": "The Great Divorce",
                                    "1": "The Great Divorce",
                                    "2": "4.28"
                                },
                                {
                                    "0": "The Lords of Discipline",
                                    "1": "The Lords of Discipline",
                                    "2": "4.28"
                                },
                                {
                                    "0": "The Pursuit of Holiness",
                                    "1": "The Pursuit of Holiness",
                                    "2": "4.28"
                                },
                                {
                                    "0": "The Raven",
                                    "1": "The Raven",
                                    "2": "4.28"
                                },
                                {
                                    "0": "The Snowman",
                                    "1": "The Snowman",
                                    "2": "4.28"
                                },
                                {
                                    "0": "This Side of the Grave (Night Huntress, #5)",
                                    "1": "This Side of the Grave (Night Huntress, #5)",
                                    "2": "4.28"
                                },
                                {
                                    "0": "Unravel Me (Shatter Me, #2)",
                                    "1": "Unravel Me (Shatter Me, #2)",
                                    "2": "4.28"
                                },
                                {
                                    "0": "A Little Life",
                                    "1": "A Little Life",
                                    "2": "4.27"
                                },
                                {
                                    "0": "Amelia Bedelia and the Surprise Shower",
                                    "1": "Amelia Bedelia and the Surprise Shower",
                                    "2": "4.27"
                                },
                                {
                                    "0": "Angle of Repose",
                                    "1": "Angle of Repose",
                                    "2": "4.27"
                                },
                                {
                                    "0": "Be Here Now",
                                    "1": "Be Here Now",
                                    "2": "4.27"
                                },
                                {
                                    "0": "Born to Run: A Hidden Tribe, Superathletes, and the Greatest Race the World Has Never Seen",
                                    "1": "Born to Run: A Hidden Tribe, Superathletes, and the Greatest Race the World Has Never Seen",
                                    "2": "4.27"
                                },
                                {
                                    "0": "Coming Home",
                                    "1": "Coming Home",
                                    "2": "4.27"
                                },
                                {
                                    "0": "Eragon & Eldest (Inheritance, #1-2)",
                                    "1": "Eragon & Eldest (Inheritance, #1-2)",
                                    "2": "4.27"
                                },
                                {
                                    "0": "Hark! A Vagrant",
                                    "1": "Hark! A Vagrant",
                                    "2": "4.27"
                                },
                                {
                                    "0": "Hawkeye, Volume 2: Little Hits",
                                    "1": "Hawkeye, Volume 2: Little Hits",
                                    "2": "4.27"
                                },
                                {
                                    "0": "Madeline and the Bad Hat",
                                    "1": "Madeline and the Bad Hat",
                                    "2": "4.27"
                                },
                                {
                                    "0": "Mastery",
                                    "1": "Mastery",
                                    "2": "4.27"
                                },
                                {
                                    "0": "Mila 18",
                                    "1": "Mila 18",
                                    "2": "4.27"
                                },
                                {
                                    "0": "Milk and Honey",
                                    "1": "milk and honey",
                                    "2": "4.27"
                                },
                                {
                                    "0": "Roller Girl",
                                    "1": "Roller Girl",
                                    "2": "4.27"
                                },
                                {
                                    "0": "Servant of the Empire (The Empire Trilogy, #2)",
                                    "1": "Servant of the Empire (The Empire Trilogy, #2)",
                                    "2": "4.27"
                                },
                                {
                                    "0": "Stone Butch Blues",
                                    "1": "Stone Butch Blues",
                                    "2": "4.27"
                                },
                                {
                                    "0": "Stories of Your Life and Others",
                                    "1": "Stories of Your Life and Others ",
                                    "2": "4.27"
                                },
                                {
                                    "0": "Taken by Midnight (Midnight Breed, #8)",
                                    "1": "Taken by Midnight (Midnight Breed, #8)",
                                    "2": "4.27"
                                },
                                {
                                    "0": "The Demon-Haunted World: Science as a Candle in the Dark",
                                    "1": "The Demon-Haunted World: Science as a Candle in the Dark",
                                    "2": "4.27"
                                },
                                {
                                    "0": "The Hidden Messages in Water",
                                    "1": "The Hidden Messages in Water",
                                    "2": "4.27"
                                },
                                {
                                    "0": "The Lions of Al-Rassan",
                                    "1": "The Lions of Al-Rassan",
                                    "2": "4.27"
                                },
                                {
                                    "0": "The Missing Piece",
                                    "1": "The Missing Piece",
                                    "2": "4.27"
                                },
                                {
                                    "0": "The Napping House",
                                    "1": "The Napping House",
                                    "2": "4.27"
                                },
                                {
                                    "0": "The Song of Achilles",
                                    "1": "The Song of Achilles",
                                    "2": "4.27"
                                },
                                {
                                    "0": "The Stories of John Cheever",
                                    "1": "The Stories of John Cheever",
                                    "2": "4.27"
                                },
                                {
                                    "0": "We're Going on a Bear Hunt",
                                    "1": "We're Going on a Bear Hunt",
                                    "2": "4.27"
                                },
                                {
                                    "0": "13 Hours: The Inside Account of What Really Happened In Benghazi",
                                    "1": "13 Hours: The Inside Account of What Really Happened In Benghazi",
                                    "2": "4.26"
                                },
                                {
                                    "0": "A Grief Observed",
                                    "1": "A Grief Observed",
                                    "2": "4.26"
                                },
                                {
                                    "0": "Addicted",
                                    "1": "Addicted",
                                    "2": "4.26"
                                },
                                {
                                    "0": "Alexander Hamilton",
                                    "1": "Alexander Hamilton",
                                    "2": "4.26"
                                },
                                {
                                    "0": "Americanah",
                                    "1": "Americanah",
                                    "2": "4.26"
                                },
                                {
                                    "0": "Any Human Heart",
                                    "1": "Any Human Heart",
                                    "2": "4.26"
                                },
                                {
                                    "0": "Barefoot Contessa Family Style: Easy Ideas and Recipes That Make Everyone Feel Like Family",
                                    "1": "Barefoot Contessa Family Style: Easy Ideas and Recipes That Make Everyone Feel Like Family",
                                    "2": "4.26"
                                },
                                {
                                    "0": "Batman, Volume 2: The City of Owls",
                                    "1": "Batman, Volume 2: The City of Owls",
                                    "2": "4.26"
                                },
                                {
                                    "0": "Bloodhound (Beka Cooper, #2)",
                                    "1": "Bloodhound (Beka Cooper, #2)",
                                    "2": "4.26"
                                },
                                {
                                    "0": "Columbine",
                                    "1": "Columbine",
                                    "2": "4.26"
                                },
                                {
                                    "0": "Essentials of Classic Italian Cooking",
                                    "1": "Essentials of Classic Italian Cooking",
                                    "2": "4.26"
                                },
                                {
                                    "0": "Far from the Tree: Parents, Children, and the Search for Identity",
                                    "1": "Far from the Tree: Parents, Children, and the Search for Identity",
                                    "2": "4.26"
                                },
                                {
                                    "0": "Fried Green Tomatoes at the Whistle Stop Cafe",
                                    "1": "Fried Green Tomatoes at the Whistle Stop Cafe",
                                    "2": "4.26"
                                },
                                {
                                    "0": "Go the Fuck to Sleep",
                                    "1": "Go the Fuck to Sleep",
                                    "2": "4.26"
                                },
                                {
                                    "0": "Lamb: The Gospel According to Biff, Christ's Childhood Pal",
                                    "1": "Lamb: The Gospel According to Biff, Christ's Childhood Pal",
                                    "2": "4.26"
                                },
                                {
                                    "0": "Les Fleurs du Mal",
                                    "1": "Les Fleurs du mal",
                                    "2": "4.26"
                                },
                                {
                                    "0": "Shantaram",
                                    "1": "Shantaram",
                                    "2": "4.26"
                                },
                                {
                                    "0": "Simon vs. the Homo Sapiens Agenda",
                                    "1": "Simon vs. the Homo Sapiens Agenda",
                                    "2": "4.26"
                                },
                                {
                                    "0": "The Atonement Child",
                                    "1": "The Atonement Child",
                                    "2": "4.26"
                                },
                                {
                                    "0": "The Big Short: Inside the Doomsday Machine",
                                    "1": "The Big Short: Inside the Doomsday Machine",
                                    "2": "4.26"
                                },
                                {
                                    "0": "The Charm School",
                                    "1": "The Charm School",
                                    "2": "4.26"
                                },
                                {
                                    "0": "The Dot",
                                    "1": "The Dot",
                                    "2": "4.26"
                                },
                                {
                                    "0": "The Fault in Our Stars",
                                    "1": "The Fault in Our Stars",
                                    "2": "4.26"
                                },
                                {
                                    "0": "The Field of Swords (Emperor, #3)",
                                    "1": "The Field of Swords (Emperor, #3)",
                                    "2": "4.26"
                                },
                                {
                                    "0": "The Kite Runner",
                                    "1": "The Kite Runner ",
                                    "2": "4.26"
                                },
                                {
                                    "0": "The Lord of the Rings Sketchbook",
                                    "1": "The Lord of the Rings Sketchbook",
                                    "2": "4.26"
                                },
                                {
                                    "0": "The Storyteller",
                                    "1": "The Storyteller",
                                    "2": "4.26"
                                },
                                {
                                    "0": "Unveiled: Tamar (Lineage of Grace #1)",
                                    "1": "Unveiled: Tamar (Lineage of Grace #1)",
                                    "2": "4.26"
                                },
                                {
                                    "0": "Very Good Lives: The Fringe Benefits of Failure and the Importance of Imagination",
                                    "1": "Very Good Lives: The Fringe Benefits of Failure and the Importance of Imagination",
                                    "2": "4.26"
                                },
                                {
                                    "0": "A Bargain for Frances",
                                    "1": "A Bargain for Frances",
                                    "2": "4.25"
                                },
                                {
                                    "0": "A Color of His Own",
                                    "1": "A Color of His Own",
                                    "2": "4.25"
                                },
                                {
                                    "0": "A Sick Day for Amos McGee",
                                    "1": "A Sick Day for Amos McGee",
                                    "2": "4.25"
                                },
                                {
                                    "0": "Anne Frank: Beyond the Diary - A Photographic Remembrance",
                                    "1": "Anne Frank: Beyond the Diary - A Photographic Remembrance",
                                    "2": "4.25"
                                },
                                {
                                    "0": "Barnyard Dance",
                                    "1": "Barnyard Dance",
                                    "2": "4.25"
                                },
                                {
                                    "0": "Bear Snores On",
                                    "1": "Bear Snores On",
                                    "2": "4.25"
                                },
                                {
                                    "0": "Betty Crocker's Cookbook",
                                    "1": "Betty Crocker's Cookbook",
                                    "2": "4.25"
                                },
                                {
                                    "0": "Come Back, Amelia Bedelia",
                                    "1": "Come Back, Amelia Bedelia",
                                    "2": "4.25"
                                },
                                {
                                    "0": "Cryptonomicon",
                                    "1": "Cryptonomicon",
                                    "2": "4.25"
                                },
                                {
                                    "0": "Curious George Visits the Library",
                                    "1": "Curious George Visits the Library",
                                    "2": "4.25"
                                },
                                {
                                    "0": "Foxe's Book of Martyrs",
                                    "1": "Foxe's Book of Martyrs",
                                    "2": "4.25"
                                },
                                {
                                    "0": "Frosty the Snow Man",
                                    "1": "Frosty the Snow Man",
                                    "2": "4.25"
                                },
                                {
                                    "0": "Good Omens: The Nice and Accurate Prophecies of Agnes Nutter, Witch",
                                    "1": "Good Omens: The Nice and Accurate Prophecies of Agnes Nutter, Witch",
                                    "2": "4.25"
                                },
                                {
                                    "0": "How I Raised Myself from Failure to Success in Selling",
                                    "1": "How I Raised Myself from Failure to Success in Selling",
                                    "2": "4.25"
                                },
                                {
                                    "0": "In Harm's Way: The Sinking of the U.S.S. Indianapolis and the Extraordinary Story of Its Survivors",
                                    "1": "In Harm's Way: The Sinking of the U.S.S. Indianapolis and the Extraordinary Story of Its Survivors",
                                    "2": "4.25"
                                },
                                {
                                    "0": "Justice: What's the Right Thing to Do?",
                                    "1": "Justice: What's the Right Thing to Do?",
                                    "2": "4.25"
                                },
                                {
                                    "0": "Little Princes: One Man's Promise to Bring Home the Lost Children of Nepal",
                                    "1": "Little Princes: One Man's Promise to Bring Home the Lost Children of Nepal",
                                    "2": "4.25"
                                },
                                {
                                    "0": "Magician: Master (The Riftwar Saga, #2)",
                                    "1": "Magician: Master (The Riftwar Saga, #2)",
                                    "2": "4.25"
                                },
                                {
                                    "0": "Mystery Man (Dream Man, #1)",
                                    "1": "Mystery Man (Dream Man, #1)",
                                    "2": "4.25"
                                },
                                {
                                    "0": "Nicholas and Alexandra",
                                    "1": "Nicholas and Alexandra",
                                    "2": "4.25"
                                },
                                {
                                    "0": "One Grave at a Time (Night Huntress, #6)",
                                    "1": "One Grave at a Time (Night Huntress, #6)",
                                    "2": "4.25"
                                },
                                {
                                    "0": "Owen",
                                    "1": "Owen",
                                    "2": "4.25"
                                },
                                {
                                    "0": "Phantoms in the Brain: Probing the Mysteries of the Human Mind",
                                    "1": "Phantoms in the Brain: Probing the Mysteries of the Human Mind",
                                    "2": "4.25"
                                },
                                {
                                    "0": "Practicing the Power of Now: Essential Teachings, Meditations, and Exercises from the Power of Now",
                                    "1": "Practicing the Power of Now: Essential Teachings, Meditations, and Exercises from The Power of Now",
                                    "2": "4.25"
                                },
                                {
                                    "0": "Saving Grace",
                                    "1": "Saving Grace",
                                    "2": "4.25"
                                },
                                {
                                    "0": "Seeds of Rebellion (Beyonders, #2)",
                                    "1": "Seeds of Rebellion (Beyonders, #2)",
                                    "2": "4.25"
                                },
                                {
                                    "0": "Skippyjon Jones",
                                    "1": "Skippyjon Jones",
                                    "2": "4.25"
                                },
                                {
                                    "0": "The Call of Cthulhu and Other Weird Stories",
                                    "1": "The Call of Cthulhu and Other Weird Stories",
                                    "2": "4.25"
                                },
                                {
                                    "0": "The Collected Poems of W.B. Yeats",
                                    "1": "The Collected Poems of W.B. Yeats",
                                    "2": "4.25"
                                },
                                {
                                    "0": "The Day of the Jackal",
                                    "1": "The Day of the Jackal",
                                    "2": "4.25"
                                },
                                {
                                    "0": "The Death of Kings (Emperor, #2)",
                                    "1": "The Death of Kings (Emperor, #2)",
                                    "2": "4.25"
                                },
                                {
                                    "0": "The Earthsea Trilogy",
                                    "1": "The Earthsea Trilogy",
                                    "2": "4.25"
                                },
                                {
                                    "0": "The Evolutionary Void",
                                    "1": "The Evolutionary Void",
                                    "2": "4.25"
                                },
                                {
                                    "0": "The Hat",
                                    "1": "The Hat",
                                    "2": "4.25"
                                },
                                {
                                    "0": "The Last Lecture",
                                    "1": "The Last Lecture",
                                    "2": "4.25"
                                },
                                {
                                    "0": "The Little Old Lady Who Was Not Afraid of Anything",
                                    "1": "The Little Old Lady Who Was Not Afraid of Anything",
                                    "2": "4.25"
                                },
                                {
                                    "0": "The Princess Bride ",
                                    "1": "The Princess Bride",
                                    "2": "4.25"
                                },
                                {
                                    "0": "The Rise of Theodore Roosevelt",
                                    "1": "The Rise of Theodore Roosevelt ",
                                    "2": "4.25"
                                },
                                {
                                    "0": "The Taste of Home Cookbook",
                                    "1": "The Taste of Home Cookbook",
                                    "2": "4.25"
                                },
                                {
                                    "0": "There are No Children Here: The Story of Two Boys Growing Up in the Other America",
                                    "1": "There Are No Children Here: The Story of Two Boys Growing Up in the Other America",
                                    "2": "4.25"
                                },
                                {
                                    "0": "To Kill a Mockingbird",
                                    "1": "To Kill a Mockingbird",
                                    "2": "4.25"
                                },
                                {
                                    "0": "Trials of Death (Cirque Du Freak, #5)",
                                    "1": "Trials of Death (Cirque du Freak, #5) ",
                                    "2": "4.25"
                                },
                                {
                                    "0": "V for Vendetta",
                                    "1": "V for Vendetta",
                                    "2": "4.25"
                                },
                                {
                                    "0": "What the Bleep Do We Know!?: Discovering the Endless Possibilities for Altering Your Everyday Reality",
                                    "1": "What the Bleep Do We Know!?: Discovering the Endless Possibilities for Altering Your Everyday Reality",
                                    "2": "4.25"
                                },
                                {
                                    "0": "A Bad Case of Stripes",
                                    "1": "A Bad Case of Stripes",
                                    "2": "4.24"
                                },
                                {
                                    "0": "A Bridge Too Far",
                                    "1": "A Bridge Too Far",
                                    "2": "4.24"
                                },
                                {
                                    "0": "A Leaf on the Wind of All Hallows (Outlander, #8.5)",
                                    "1": "A Leaf on the Wind of All Hallows (Outlander, #8.5)",
                                    "2": "4.24"
                                },
                                {
                                    "0": "A Tree Grows in Brooklyn",
                                    "1": "A Tree Grows In Brooklyn ",
                                    "2": "4.24"
                                },
                                {
                                    "0": "All My Friends Are Dead",
                                    "1": "All My Friends Are Dead",
                                    "2": "4.24"
                                },
                                {
                                    "0": "Beyond Band of Brothers: The War Memoirs of Major Dick Winters",
                                    "1": "Beyond Band of Brothers: The War Memoirs of Major Dick Winters",
                                    "2": "4.24"
                                },
                                {
                                    "0": "Change Your Thoughts - Change Your Life: Living the Wisdom of the Tao",
                                    "1": "Change Your Thoughts - Change Your Life: Living the Wisdom of the Tao",
                                    "2": "4.24"
                                },
                                {
                                    "0": "Creativity, Inc.: Overcoming the Unseen Forces That Stand in the Way of True Inspiration",
                                    "1": "Creativity, Inc.: Overcoming the Unseen Forces That Stand in the Way of True Inspiration",
                                    "2": "4.24"
                                },
                                {
                                    "0": "Curious George Rides a Bike",
                                    "1": "Curious George Rides a Bike",
                                    "2": "4.24"
                                },
                                {
                                    "0": "Dispatches",
                                    "1": "Dispatches",
                                    "2": "4.24"
                                },
                                {
                                    "0": "Dom Casmurro",
                                    "1": "Dom Casmurro",
                                    "2": "4.24"
                                },
                                {
                                    "0": "Driving Miss Daisy",
                                    "1": "Driving Miss Daisy",
                                    "2": "4.24"
                                },
                                {
                                    "0": "Each Peach Pear Plum",
                                    "1": "Each Peach Pear Plum",
                                    "2": "4.24"
                                },
                                {
                                    "0": "Glory over Everything: Beyond The Kitchen House",
                                    "1": "Glory over Everything: Beyond The Kitchen House",
                                    "2": "4.24"
                                },
                                {
                                    "0": "Harold and the Purple Crayon",
                                    "1": "Harold and the Purple Crayon",
                                    "2": "4.24"
                                },
                                {
                                    "0": "If You Give a Mouse a Cookie",
                                    "1": "If You Give a Mouse a Cookie",
                                    "2": "4.24"
                                },
                                {
                                    "0": "Jitterbug Perfume",
                                    "1": "Jitterbug Perfume",
                                    "2": "4.24"
                                },
                                {
                                    "0": "Just Me in the Tub (Mercer Mayer's Little Critter)",
                                    "1": "Just Me in the Tub (Mercer Mayer's Little Critter)",
                                    "2": "4.24"
                                },
                                {
                                    "0": "Kingdom Come",
                                    "1": "Kingdom Come",
                                    "2": "4.24"
                                },
                                {
                                    "0": "Madeline's Rescue",
                                    "1": "Madeline's Rescue",
                                    "2": "4.24"
                                },
                                {
                                    "0": "Money, and the Law of Attraction: Learning to Attract Wealth, Health, and Happiness",
                                    "1": "Money, and the Law of Attraction: Learning to Attract Wealth, Health, and Happiness",
                                    "2": "4.24"
                                },
                                {
                                    "0": "Moneyball: The Art of Winning an Unfair Game",
                                    "1": "Moneyball: The Art of Winning an Unfair Game",
                                    "2": "4.24"
                                },
                                {
                                    "0": "Once Burned (Night Prince, #1)",
                                    "1": "Once Burned (Night Prince, #1)",
                                    "2": "4.24"
                                },
                                {
                                    "0": "Pandora's Star",
                                    "1": "Pandora's Star",
                                    "2": "4.24"
                                },
                                {
                                    "0": "Pride and Prejudice",
                                    "1": "Pride and Prejudice",
                                    "2": "4.24"
                                },
                                {
                                    "0": "Sailing Alone Around the Room: New and Selected Poems",
                                    "1": "Sailing Alone Around the Room: New and Selected Poems",
                                    "2": "4.24"
                                },
                                {
                                    "0": "Scott Pilgrim, Volume 2: Scott Pilgrim vs. The World",
                                    "1": "Scott Pilgrim, Volume 2: Scott Pilgrim vs. The World",
                                    "2": "4.24"
                                },
                                {
                                    "0": "Smiley's People",
                                    "1": "Smiley's People",
                                    "2": "4.24"
                                },
                                {
                                    "0": "Sometimes a Great Notion",
                                    "1": "Sometimes a Great Notion",
                                    "2": "4.24"
                                },
                                {
                                    "0": "The Glass Castle",
                                    "1": "The Glass Castle",
                                    "2": "4.24"
                                },
                                {
                                    "0": "The Hating Game",
                                    "1": "The Hating Game",
                                    "2": "4.24"
                                },
                                {
                                    "0": "The Hero With a Thousand Faces",
                                    "1": "The Hero with a Thousand Faces",
                                    "2": "4.24"
                                },
                                {
                                    "0": "The One and Only Ivan",
                                    "1": "The One and Only Ivan",
                                    "2": "4.24"
                                },
                                {
                                    "0": "The Orenda",
                                    "1": "The Orenda",
                                    "2": "4.24"
                                },
                                {
                                    "0": "The River Why",
                                    "1": "The River Why",
                                    "2": "4.24"
                                },
                                {
                                    "0": "The Souls of Black Folk",
                                    "1": "The Souls of Black Folk",
                                    "2": "4.24"
                                },
                                {
                                    "0": "The Temporal Void",
                                    "1": "The Temporal Void",
                                    "2": "4.24"
                                },
                                {
                                    "0": "Where the Mountain Meets the Moon",
                                    "1": "Where the Mountain Meets the Moon",
                                    "2": "4.24"
                                },
                                {
                                    "0": "A Knight in Shining Armor",
                                    "1": "A Knight in Shining Armor",
                                    "2": "4.23"
                                },
                                {
                                    "0": "Ariel",
                                    "1": "Ariel",
                                    "2": "4.23"
                                },
                                {
                                    "0": "Barefoot Contessa Back to Basics",
                                    "1": "Barefoot Contessa Back to Basics",
                                    "2": "4.23"
                                },
                                {
                                    "0": "Batman: Year One",
                                    "1": "Batman: Year One",
                                    "2": "4.23"
                                },
                                {
                                    "0": "Bonhoeffer: Pastor, Martyr, Prophet, Spy",
                                    "1": "Bonhoeffer: Pastor, Martyr, Prophet, Spy",
                                    "2": "4.23"
                                },
                                {
                                    "0": "Click, Clack, Moo: Cows That Type",
                                    "1": "Click, Clack, Moo: Cows That Type",
                                    "2": "4.23"
                                },
                                {
                                    "0": "Complications: A Surgeon's Notes on an Imperfect Science",
                                    "1": "Complications: A Surgeon's Notes on an Imperfect Science",
                                    "2": "4.23"
                                },
                                {
                                    "0": "If You Give a Pig a Pancake ",
                                    "1": "If You Give a Pig a Pancake ",
                                    "2": "4.23"
                                },
                                {
                                    "0": "Memórias Póstumas de Brás Cubas",
                                    "1": "Memórias Póstumas de Brás Cubas",
                                    "2": "4.23"
                                },
                                {
                                    "0": "On Writing Well: The Classic Guide to Writing Nonfiction",
                                    "1": "On Writing Well: The Classic Guide to Writing Nonfiction",
                                    "2": "4.23"
                                },
                                {
                                    "0": "Orthodoxy",
                                    "1": "Orthodoxy",
                                    "2": "4.23"
                                },
                                {
                                    "0": "Papillon",
                                    "1": "Papillon ",
                                    "2": "4.23"
                                },
                                {
                                    "0": "QED: The Strange Theory of Light and Matter",
                                    "1": "QED: The Strange Theory of Light and Matter",
                                    "2": "4.23"
                                },
                                {
                                    "0": "Random Family: Love, Drugs, Trouble, and Coming of Age in the Bronx",
                                    "1": "Random Family: Love, Drugs, Trouble, and Coming of Age in the Bronx",
                                    "2": "4.23"
                                },
                                {
                                    "0": "Savage Inequalities: Children in America's Schools",
                                    "1": "Savage Inequalities: Children in America's Schools",
                                    "2": "4.23"
                                },
                                {
                                    "0": "Snowmen at Night",
                                    "1": "Snowmen at Night",
                                    "2": "4.23"
                                },
                                {
                                    "0": "Systematic Theology: An Introduction to Biblical Doctrine",
                                    "1": "Systematic Theology: An Introduction to Biblical Doctrine",
                                    "2": "4.23"
                                },
                                {
                                    "0": "The Blue Castle ",
                                    "1": "The Blue Castle",
                                    "2": "4.23"
                                },
                                {
                                    "0": "The Caine Mutiny",
                                    "1": "The Caine Mutiny",
                                    "2": "4.23"
                                },
                                {
                                    "0": "The Complete Adventures of Curious George",
                                    "1": "The Complete Adventures of Curious George",
                                    "2": "4.23"
                                },
                                {
                                    "0": "The Five Love Languages: How to Express Heartfelt Commitment to Your Mate",
                                    "1": "The Five Love Languages: How to Express Heartfelt Commitment to Your Mate",
                                    "2": "4.23"
                                },
                                {
                                    "0": "The Invention of Hugo Cabret",
                                    "1": "The Invention of Hugo Cabret",
                                    "2": "4.23"
                                },
                                {
                                    "0": "The Invention of Wings",
                                    "1": "The Invention of Wings",
                                    "2": "4.23"
                                },
                                {
                                    "0": "The Jordan Rules",
                                    "1": "The Jordan Rules",
                                    "2": "4.23"
                                },
                                {
                                    "0": "The Ragamuffin Gospel: Good News for the Bedraggled, Beat-Up, and Burnt Out",
                                    "1": "The Ragamuffin Gospel: Good News for the Bedraggled, Beat-Up, and Burnt Out",
                                    "2": "4.23"
                                },
                                {
                                    "0": "The Right Stuff",
                                    "1": "The Right Stuff",
                                    "2": "4.23"
                                },
                                {
                                    "0": "The Tiger Who Came to Tea",
                                    "1": "The Tiger Who Came to Tea",
                                    "2": "4.23"
                                },
                                {
                                    "0": "The Vampire Prince (Cirque Du Freak, #6)",
                                    "1": "The Vampire Prince (Cirque Du Freak, #6)",
                                    "2": "4.23"
                                },
                                {
                                    "0": "The Walking Dead, Vol. 13: Too Far Gone",
                                    "1": "The Walking Dead, Vol. 13: Too Far Gone",
                                    "2": "4.23"
                                },
                                {
                                    "0": "The Waste Land and Other Poems",
                                    "1": "The Waste Land and Other Poems",
                                    "2": "4.23"
                                },
                                {
                                    "0": "This is Not My Hat",
                                    "1": "This is Not My Hat",
                                    "2": "4.23"
                                },
                                {
                                    "0": "Twilight: The Complete Illustrated Movie Companion",
                                    "1": "Twilight: The Complete Illustrated Movie Companion",
                                    "2": "4.23"
                                },
                                {
                                    "0": "When Crickets Cry",
                                    "1": "When Crickets Cry",
                                    "2": "4.23"
                                },
                                {
                                    "0": "Wild Swans: Three Daughters of China",
                                    "1": "Wild Swans: Three Daughters of China",
                                    "2": "4.23"
                                },
                                {
                                    "0": "A Different Blue",
                                    "1": "A Different Blue",
                                    "2": "4.22"
                                },
                                {
                                    "0": "A Mango-Shaped Space",
                                    "1": "A Mango-Shaped Space",
                                    "2": "4.22"
                                },
                                {
                                    "0": "A Prayer for Owen Meany",
                                    "1": "A Prayer for Owen Meany",
                                    "2": "4.22"
                                },
                                {
                                    "0": "Alexander and the Terrible, Horrible, No Good, Very Bad Day",
                                    "1": "Alexander and the Terrible, Horrible, No Good, Very Bad Day",
                                    "2": "4.22"
                                },
                                {
                                    "0": "America's First Daughter",
                                    "1": "America's First Daughter",
                                    "2": "4.22"
                                },
                                {
                                    "0": "Autobiography of a Yogi",
                                    "1": "Autobiography of a Yogi",
                                    "2": "4.22"
                                },
                                {
                                    "0": "Barbarians at the Gate: The Fall of RJR Nabisco",
                                    "1": "Barbarians at the Gate: The Fall of RJR Nabisco",
                                    "2": "4.22"
                                },
                                {
                                    "0": "Bird by Bird: Some Instructions on Writing and Life",
                                    "1": "Bird by Bird: Some Instructions on Writing and Life",
                                    "2": "4.22"
                                },
                                {
                                    "0": "Cinderella",
                                    "1": "Cinderella",
                                    "2": "4.22"
                                },
                                {
                                    "0": "CivilWarLand in Bad Decline",
                                    "1": "CivilWarLand in Bad Decline",
                                    "2": "4.22"
                                },
                                {
                                    "0": "Curious George Goes to the Hospital",
                                    "1": "Curious George Goes to the Hospital",
                                    "2": "4.22"
                                },
                                {
                                    "0": "David Gets In Trouble",
                                    "1": "David Gets in Trouble",
                                    "2": "4.22"
                                },
                                {
                                    "0": "Desert Solitaire",
                                    "1": "Desert Solitaire",
                                    "2": "4.22"
                                },
                                {
                                    "0": "Do No Harm: Stories of Life, Death and Brain Surgery",
                                    "1": "Do No Harm: Stories of Life, Death and Brain Surgery",
                                    "2": "4.22"
                                },
                                {
                                    "0": "Dragon Slippers (Dragon Slippers, #1)",
                                    "1": "Dragon Slippers (Dragon Slippers, #1)",
                                    "2": "4.22"
                                },
                                {
                                    "0": "Fermat's Enigma: The Epic Quest to Solve the World's Greatest Mathematical Problem",
                                    "1": "Fermat's Enigma: The Epic Quest to Solve the World's Greatest Mathematical Problem",
                                    "2": "4.22"
                                },
                                {
                                    "0": "Hand, Hand, Fingers, Thumb",
                                    "1": "Hand, Hand, Fingers, Thumb",
                                    "2": "4.22"
                                },
                                {
                                    "0": "Honor's Splendour",
                                    "1": "Honor's Splendour",
                                    "2": "4.22"
                                },
                                {
                                    "0": "Just Go to Bed",
                                    "1": "Just Go to Bed",
                                    "2": "4.22"
                                },
                                {
                                    "0": "Killers of the Dawn (Cirque Du Freak, #9)",
                                    "1": "Killers of the Dawn (Cirque Du Freak, #9)",
                                    "2": "4.22"
                                },
                                {
                                    "0": "Little Bear",
                                    "1": "Little Bear",
                                    "2": "4.22"
                                },
                                {
                                    "0": "Lord of the Shadows (Cirque Du Freak, #11)",
                                    "1": "Lord of the Shadows (Cirque Du Freak, #11)",
                                    "2": "4.22"
                                },
                                {
                                    "0": "Love Comes Softly (Love Comes Softly, #1)",
                                    "1": "Love Comes Softly (Love Comes Softly, #1)",
                                    "2": "4.22"
                                },
                                {
                                    "0": "Manufacturing Consent: The Political Economy of the Mass Media",
                                    "1": "Manufacturing Consent: The Political Economy of the Mass Media",
                                    "2": "4.22"
                                },
                                {
                                    "0": "Marching Powder: A True Story of Friendship, Cocaine, and South America's Strangest Jail",
                                    "1": "Marching Powder: A True Story of Friendship, Cocaine, and South America's Strangest Jail",
                                    "2": "4.22"
                                },
                                {
                                    "0": "Punk 57",
                                    "1": "Punk 57",
                                    "2": "4.22"
                                },
                                {
                                    "0": "Rome (Marked Men, #3)",
                                    "1": "Rome (Marked Men, #3)",
                                    "2": "4.22"
                                },
                                {
                                    "0": "Selected Poems",
                                    "1": "Selected Poems",
                                    "2": "4.22"
                                },
                                {
                                    "0": "Stellaluna",
                                    "1": "Stellaluna",
                                    "2": "4.22"
                                },
                                {
                                    "0": "Stephen King's N.",
                                    "1": "Stephen King's N.",
                                    "2": "4.22"
                                },
                                {
                                    "0": "Strega Nona",
                                    "1": "Strega Nona",
                                    "2": "4.22"
                                },
                                {
                                    "0": "The BFG",
                                    "1": "The BFG",
                                    "2": "4.22"
                                },
                                {
                                    "0": "The Crossover",
                                    "1": "The Crossover",
                                    "2": "4.22"
                                },
                                {
                                    "0": "The Gift of Therapy: An Open Letter to a New Generation of Therapists and Their Patients",
                                    "1": "The Gift of Therapy: An Open Letter to a New Generation of Therapists and Their Patients",
                                    "2": "4.22"
                                },
                                {
                                    "0": "The Going-To-Bed Book",
                                    "1": "The Going-To-Bed Book",
                                    "2": "4.22"
                                },
                                {
                                    "0": "The Lions of Little Rock",
                                    "1": "The Lions of Little Rock",
                                    "2": "4.22"
                                },
                                {
                                    "0": "The Phantom Tollbooth",
                                    "1": "The Phantom Tollbooth",
                                    "2": "4.22"
                                },
                                {
                                    "0": "The Prince of Tides",
                                    "1": "The Prince of Tides",
                                    "2": "4.22"
                                },
                                {
                                    "0": "The Prize",
                                    "1": "The Prize",
                                    "2": "4.22"
                                },
                                {
                                    "0": "The Prophet",
                                    "1": "The Prophet",
                                    "2": "4.22"
                                },
                                {
                                    "0": "The Recruit (Cherub, #1)",
                                    "1": "The Recruit (Cherub, #1)",
                                    "2": "4.22"
                                },
                                {
                                    "0": "The Shock Doctrine: The Rise of Disaster Capitalism",
                                    "1": "The Shock Doctrine: The Rise of Disaster Capitalism",
                                    "2": "4.22"
                                },
                                {
                                    "0": "The Tell-Tale Heart",
                                    "1": "The Tell-Tale Heart",
                                    "2": "4.22"
                                },
                                {
                                    "0": "The Thorn Birds",
                                    "1": "The Thorn Birds",
                                    "2": "4.22"
                                },
                                {
                                    "0": "The Tibetan Book of Living and Dying",
                                    "1": "The Tibetan Book of Living and Dying",
                                    "2": "4.22"
                                },
                                {
                                    "0": "The Unlikely Spy",
                                    "1": "The Unlikely Spy",
                                    "2": "4.22"
                                },
                                {
                                    "0": "Wait for It",
                                    "1": "Wait for It",
                                    "2": "4.22"
                                },
                                {
                                    "0": "War",
                                    "1": "WAR",
                                    "2": "4.22"
                                },
                                {
                                    "0": "Wemberly Worried",
                                    "1": "Wemberly Worried",
                                    "2": "4.22"
                                },
                                {
                                    "0": "Where Is God When It Hurts?",
                                    "1": "Where Is God When It Hurts?",
                                    "2": "4.22"
                                },
                                {
                                    "0": "Where the Wild Things Are",
                                    "1": "Where the Wild Things Are",
                                    "2": "4.22"
                                },
                                {
                                    "0": "Wild Seed (Patternmaster, #1)",
                                    "1": "Wild Seed (Patternmaster, #1)",
                                    "2": "4.22"
                                },
                                {
                                    "0": "A Fish Out of Water",
                                    "1": "A Fish Out of Water",
                                    "2": "4.21"
                                },
                                {
                                    "0": "Bury My Heart at Wounded Knee: An Indian History of the American West",
                                    "1": "Bury My Heart at Wounded Knee: An Indian History of the American West",
                                    "2": "4.21"
                                },
                                {
                                    "0": "Calling Me Home",
                                    "1": "Calling Me Home",
                                    "2": "4.21"
                                },
                                {
                                    "0": "Centennial",
                                    "1": "Centennial",
                                    "2": "4.21"
                                },
                                {
                                    "0": "Chicka Chicka Boom Boom",
                                    "1": "Chicka Chicka Boom Boom",
                                    "2": "4.21"
                                },
                                {
                                    "0": "Dead Poets Society",
                                    "1": "Dead Poets Society ",
                                    "2": "4.21"
                                },
                                {
                                    "0": "Disappearing Acts",
                                    "1": "Disappearing Acts",
                                    "2": "4.21"
                                },
                                {
                                    "0": "Envy (Fallen Angels, #3)",
                                    "1": "Envy (Fallen Angels, #3)",
                                    "2": "4.21"
                                },
                                {
                                    "0": "Follow the River",
                                    "1": "Follow the River",
                                    "2": "4.21"
                                },
                                {
                                    "0": "Friends and Lovers",
                                    "1": "Friends and Lovers",
                                    "2": "4.21"
                                },
                                {
                                    "0": "Gifted Hands: The Ben Carson Story",
                                    "1": "Gifted Hands: The Ben Carson Story",
                                    "2": "4.21"
                                },
                                {
                                    "0": "Giovanni's Room",
                                    "1": "Giovanni's Room",
                                    "2": "4.21"
                                },
                                {
                                    "0": "Go Away, Big Green Monster!",
                                    "1": "Go Away, Big Green Monster!",
                                    "2": "4.21"
                                },
                                {
                                    "0": "I'm Just Here for the Food: Food + Heat = Cooking",
                                    "1": "I'm Just Here for the Food: Food + Heat = Cooking",
                                    "2": "4.21"
                                },
                                {
                                    "0": "Kiss an Angel",
                                    "1": "Kiss an Angel ",
                                    "2": "4.21"
                                },
                                {
                                    "0": "Make Way for Ducklings",
                                    "1": "Make Way for Ducklings",
                                    "2": "4.21"
                                },
                                {
                                    "0": "Marvels",
                                    "1": "Marvels",
                                    "2": "4.21"
                                },
                                {
                                    "0": "Mother Night",
                                    "1": "Mother Night",
                                    "2": "4.21"
                                },
                                {
                                    "0": "Mountains Beyond Mountains: The Quest of Dr. Paul Farmer, A Man Who Would Cure the World",
                                    "1": "Mountains Beyond Mountains: The Quest of Dr. Paul Farmer, a Man Who Would Cure the World",
                                    "2": "4.21"
                                },
                                {
                                    "0": "Panda Bear, Panda Bear, What Do You See?",
                                    "1": "Panda Bear, Panda Bear, What Do You See?",
                                    "2": "4.21"
                                },
                                {
                                    "0": "Planetary, Volume 1: All Over the World and Other Stories",
                                    "1": "Planetary, Volume 1: All Over the World and Other Stories",
                                    "2": "4.21"
                                },
                                {
                                    "0": "Run Baby Run",
                                    "1": "Run Baby Run",
                                    "2": "4.21"
                                },
                                {
                                    "0": "Same Kind of Different as Me",
                                    "1": "Same Kind of Different as Me",
                                    "2": "4.21"
                                },
                                {
                                    "0": "The Barefoot Contessa Cookbook",
                                    "1": "The Barefoot Contessa Cookbook",
                                    "2": "4.21"
                                },
                                {
                                    "0": "The Complete Poems of Emily Dickinson",
                                    "1": "The Complete Poems of Emily Dickinson",
                                    "2": "4.21"
                                },
                                {
                                    "0": "The End of Eternity",
                                    "1": "The End of Eternity",
                                    "2": "4.21"
                                },
                                {
                                    "0": "The Five Love Languages of Children",
                                    "1": "The Five Love Languages of Children",
                                    "2": "4.21"
                                },
                                {
                                    "0": "The Heretic Queen",
                                    "1": "The Heretic Queen",
                                    "2": "4.21"
                                },
                                {
                                    "0": "The Little Red Caboose (Little Golden Book)",
                                    "1": "The Little Red Caboose (Little Golden Book)",
                                    "2": "4.21"
                                },
                                {
                                    "0": "The Miracle Worker",
                                    "1": "The Miracle Worker",
                                    "2": "4.21"
                                },
                                {
                                    "0": "The Mixed-Up Chameleon",
                                    "1": "The Mixed-Up Chameleon",
                                    "2": "4.21"
                                },
                                {
                                    "0": "The Perks of Being a Wallflower",
                                    "1": "The Perks of Being a Wallflower",
                                    "2": "4.21"
                                },
                                {
                                    "0": "The Wishing Spell (The Land of Stories, #1)",
                                    "1": "The Wishing Spell (The Land of Stories, #1)",
                                    "2": "4.21"
                                },
                                {
                                    "0": "Tikki Tikki Tembo",
                                    "1": "Tikki Tikki Tembo",
                                    "2": "4.21"
                                },
                                {
                                    "0": "Unlimited Power : The New Science Of Personal Achievement",
                                    "1": "Unlimited Power : The New Science Of Personal Achievement",
                                    "2": "4.21"
                                },
                                {
                                    "0": "What's So Amazing About Grace?",
                                    "1": "What's So Amazing About Grace?",
                                    "2": "4.21"
                                },
                                {
                                    "0": "Wolf-Speaker (Immortals, #2)",
                                    "1": "Wolf-Speaker (Immortals, #2)",
                                    "2": "4.21"
                                },
                                {
                                    "0": "استمتع بحياتك",
                                    "1": "استمتع بحياتك",
                                    "2": "4.21"
                                },
                                {
                                    "0": "المانيفستو",
                                    "1": "المانيفستو",
                                    "2": "4.21"
                                },
                                {
                                    "0": "2666",
                                    "1": "2666",
                                    "2": "4.2"
                                },
                                {
                                    "0": "A Chair for My Mother",
                                    "1": "A Chair for My Mother ",
                                    "2": "4.2"
                                },
                                {
                                    "0": "A House in the Sky",
                                    "1": "A House in the Sky",
                                    "2": "4.2"
                                },
                                {
                                    "0": "A Little Princess",
                                    "1": "A Little Princess",
                                    "2": "4.2"
                                },
                                {
                                    "0": "ABNKKBSNPLAKo?! (Mga Kwentong Chalk ni Bob Ong)",
                                    "1": "ABNKKBSNPLAKo?! (Mga Kwentong Chalk ni Bob Ong)",
                                    "2": "4.2"
                                },
                                {
                                    "0": "Amadeus",
                                    "1": "Amadeus",
                                    "2": "4.2"
                                },
                                {
                                    "0": "August: Osage County",
                                    "1": "August: Osage County",
                                    "2": "4.2"
                                },
                                {
                                    "0": "Big Little Lies",
                                    "1": "Big Little Lies",
                                    "2": "4.2"
                                },
                                {
                                    "0": "Bread and Jam for Frances",
                                    "1": "Bread and Jam for Frances",
                                    "2": "4.2"
                                },
                                {
                                    "0": "Christy",
                                    "1": "Christy",
                                    "2": "4.2"
                                },
                                {
                                    "0": "Collected Poems",
                                    "1": "Collected Poems",
                                    "2": "4.2"
                                },
                                {
                                    "0": "Eloise ",
                                    "1": "Eloise",
                                    "2": "4.2"
                                },
                                {
                                    "0": "Eragon, Eldest & Brisingr (Inheritance, #1-3)",
                                    "1": "Eragon, Eldest & Brisingr (Inheritance, #1-3)",
                                    "2": "4.2"
                                },
                                {
                                    "0": "Every Last Word",
                                    "1": "Every Last Word",
                                    "2": "4.2"
                                },
                                {
                                    "0": "Fight Club",
                                    "1": "Fight Club",
                                    "2": "4.2"
                                },
                                {
                                    "0": "Good Night, Gorilla",
                                    "1": "Good Night, Gorilla",
                                    "2": "4.2"
                                },
                                {
                                    "0": "Hafalan Shalat Delisa",
                                    "1": "Hafalan Shalat Delisa",
                                    "2": "4.2"
                                },
                                {
                                    "0": "If You Give a Cat a Cupcake",
                                    "1": "If You Give a Cat a Cupcake",
                                    "2": "4.2"
                                },
                                {
                                    "0": "Infidel",
                                    "1": "Infidel",
                                    "2": "4.2"
                                },
                                {
                                    "0": "Jaya: An Illustrated Retelling of the Mahabharata",
                                    "1": "Jaya: An Illustrated Retelling of the Mahabharata",
                                    "2": "4.2"
                                },
                                {
                                    "0": "Lilly's Purple Plastic Purse",
                                    "1": "Lilly's Purple Plastic Purse",
                                    "2": "4.2"
                                },
                                {
                                    "0": "Malcolm X: A Life of Reinvention",
                                    "1": "Malcolm X: A Life of Reinvention",
                                    "2": "4.2"
                                },
                                {
                                    "0": "Malgudi Days",
                                    "1": "Malgudi Days",
                                    "2": "4.2"
                                },
                                {
                                    "0": "Mike Mulligan and His Steam Shovel",
                                    "1": "Mike Mulligan and His Steam Shovel",
                                    "2": "4.2"
                                },
                                {
                                    "0": "Nimona",
                                    "1": "Nimona",
                                    "2": "4.2"
                                },
                                {
                                    "0": "No Ordinary Time: Franklin and Eleanor Roosevelt: The Home Front in World War II",
                                    "1": "No Ordinary Time: Franklin and Eleanor Roosevelt: The Home Front in World War II",
                                    "2": "4.2"
                                },
                                {
                                    "0": "Oscar et la dame rose",
                                    "1": "Oscar et la dame rose",
                                    "2": "4.2"
                                },
                                {
                                    "0": "Our Band Could Be Your Life: Scenes from the American Indie Underground 1981-1991",
                                    "1": "Our Band Could Be Your Life: Scenes from the American Indie Underground 1981-1991",
                                    "2": "4.2"
                                },
                                {
                                    "0": "Owl Moon",
                                    "1": "Owl Moon",
                                    "2": "4.2"
                                },
                                {
                                    "0": "Palestine",
                                    "1": "Palestine",
                                    "2": "4.2"
                                },
                                {
                                    "0": "Rebecca",
                                    "1": "Rebecca",
                                    "2": "4.2"
                                },
                                {
                                    "0": "Romancing Mister Bridgerton (Bridgertons, #4)",
                                    "1": "Romancing Mister Bridgerton (Bridgertons, #4)",
                                    "2": "4.2"
                                },
                                {
                                    "0": "Small Sacrifices: A True Story of Passion and Murder",
                                    "1": "Small Sacrifices: A True Story of Passion and Murder",
                                    "2": "4.2"
                                },
                                {
                                    "0": "The Bane Chronicles",
                                    "1": "The Bane Chronicles",
                                    "2": "4.2"
                                },
                                {
                                    "0": "The Brain That Changes Itself: Stories of Personal Triumph from the Frontiers of Brain Science",
                                    "1": "The Brain That Changes Itself: Stories of Personal Triumph from the Frontiers of Brain Science",
                                    "2": "4.2"
                                },
                                {
                                    "0": "The Cake Bible",
                                    "1": "The Cake Bible",
                                    "2": "4.2"
                                },
                                {
                                    "0": "The Case of Charles Dexter Ward",
                                    "1": "The Case of Charles Dexter Ward",
                                    "2": "4.2"
                                },
                                {
                                    "0": "The Case-Book of Sherlock Holmes",
                                    "1": "The Case-Book of Sherlock Holmes",
                                    "2": "4.2"
                                },
                                {
                                    "0": "The Collected Poems",
                                    "1": "The Collected Poems",
                                    "2": "4.2"
                                },
                                {
                                    "0": "The Cross and the Switchblade",
                                    "1": "The Cross and the Switchblade",
                                    "2": "4.2"
                                },
                                {
                                    "0": "The Far Pavilions",
                                    "1": "The Far Pavilions",
                                    "2": "4.2"
                                },
                                {
                                    "0": "The Hard Thing About Hard Things: Building a Business When There Are No Easy Answers",
                                    "1": "The Hard Thing about Hard Things: Building A Business When There Are No Easy Answers",
                                    "2": "4.2"
                                },
                                {
                                    "0": "The Little Red Hen (Little Golden Book)",
                                    "1": "The Little Red Hen (Little Golden Book)",
                                    "2": "4.2"
                                },
                                {
                                    "0": "The Lost Wife",
                                    "1": "The Lost Wife",
                                    "2": "4.2"
                                },
                                {
                                    "0": "The Reason for God: Belief in an Age of Skepticism",
                                    "1": "The Reason for God: Belief in an Age of Skepticism",
                                    "2": "4.2"
                                },
                                {
                                    "0": "The Relatives Came",
                                    "1": "The Relatives Came",
                                    "2": "4.2"
                                },
                                {
                                    "0": "The Robe",
                                    "1": "The Robe",
                                    "2": "4.2"
                                },
                                {
                                    "0": "The Stinky Cheese Man and Other Fairly Stupid Tales",
                                    "1": "The Stinky Cheese Man and Other Fairly Stupid Tales",
                                    "2": "4.2"
                                },
                                {
                                    "0": "There Was an Old Lady Who Swallowed a Fly",
                                    "1": "There Was an Old Lady Who Swallowed a Fly",
                                    "2": "4.2"
                                },
                                {
                                    "0": "Tilt",
                                    "1": "Tilt",
                                    "2": "4.2"
                                },
                                {
                                    "0": "Touching the Void: The True Story of One Man's Miraculous Survival",
                                    "1": "Touching the Void: The True Story of One Man's Miraculous Survival",
                                    "2": "4.2"
                                },
                                {
                                    "0": "Zami: A New Spelling of My Name",
                                    "1": "Zami: A New Spelling of My Name",
                                    "2": "4.2"
                                }
                            ]
                        },
                        "text/html": [
                            "<table>",
                            "<tr><th>title</th><th>original_title</th><th>average_rating</th></tr>",
                            "<tr><td>The Complete Calvin and Hobbes</td><td>The Complete Calvin and Hobbes</td><td>4.82</td></tr>",
                            "<tr><td>Mark of the Lion Trilogy</td><td>Mark of the Lion Trilogy</td><td>4.76</td></tr>",
                            "<tr><td>It's a Magical World: A Calvin and Hobbes Collection</td><td>It's a Magical World: A Calvin and Hobbes Collection</td><td>4.75</td></tr>",
                            "<tr><td>There's Treasure Everywhere: A Calvin and Hobbes Collection</td><td>There's Treasure Everywhere: A Calvin and Hobbes Collection</td><td>4.74</td></tr>",
                            "<tr><td>Harry Potter Collection (Harry Potter, #1-6)</td><td>Harry Potter Collection (Harry Potter, #1-6)</td><td>4.73</td></tr>",
                            "<tr><td>Homicidal Psycho Jungle Cat: A Calvin and Hobbes Collection</td><td>Homicidal Psycho Jungle Cat: A Calvin and Hobbes Collection</td><td>4.71</td></tr>",
                            "<tr><td>The Days Are Just Packed: A Calvin and Hobbes Collection</td><td>The Days Are Just Packed: A Calvin and Hobbes Collection</td><td>4.68</td></tr>",
                            "<tr><td>The Calvin and Hobbes Lazy Sunday Book</td><td>The Calvin and Hobbes Lazy Sunday Book</td><td>4.66</td></tr>",
                            "<tr><td>The Absolute Sandman, Volume One</td><td>The Absolute Sandman, Volume One</td><td>4.65</td></tr>",
                            "<tr><td>The Essential Calvin and Hobbes: A Calvin and Hobbes Treasury</td><td>The Essential Calvin and Hobbes: A Calvin and Hobbes Treasury</td><td>4.65</td></tr>",
                            "<tr><td>The Calvin and Hobbes Tenth Anniversary Book</td><td>The Calvin and Hobbes Tenth Anniversary Book</td><td>4.63</td></tr>",
                            "<tr><td>The Hate U Give</td><td>The Hate U Give</td><td>4.62</td></tr>",
                            "<tr><td>Calvin and Hobbes</td><td>Calvin and Hobbes</td><td>4.61</td></tr>",
                            "<tr><td>Harry Potter and the Chamber of Secrets: Sheet Music for Flute with C.D</td><td>Harry Potter and the Chamber of Secrets: Sheet Music for Flute with C.D</td><td>4.61</td></tr>",
                            "<tr><td>Holy Bible: New International Version</td><td>Holy Bible: New International Version</td><td>4.61</td></tr>",
                            "<tr><td>Standing for Something: 10 Neglected Virtues That Will Heal Our Hearts and Homes</td><td>Standing for Something: 10 Neglected Virtues That Will Heal Our Hearts and Homes</td><td>4.61</td></tr>",
                            "<tr><td>The Sandman: King of Dreams</td><td>The Sandman: King of Dreams</td><td>4.61</td></tr>",
                            "<tr><td>An Echo in the Darkness (Mark of the Lion, #2)</td><td>An Echo in the Darkness (Mark of the Lion, #2)</td><td>4.6</td></tr>",
                            "<tr><td>The Lord of the Rings: The Art of The Fellowship of the Ring</td><td>The Lord of the Rings: The Art of The Fellowship of the Ring</td><td>4.59</td></tr>",
                            "<tr><td>Just Mercy: A Story of Justice and Redemption</td><td>Just Mercy: A Story of Justice and Redemption</td><td>4.58</td></tr>",
                            "<tr><td>NARUTO -ナルト- 巻ノ四十三</td><td>NARUTO -ナルト- 巻ノ四十三 </td><td>4.57</td></tr>",
                            "<tr><td>Harry Potter Page to Screen: The Complete Filmmaking Journey</td><td>Harry Potter Page to Screen: The Complete Filmmaking Journey</td><td>4.56</td></tr>",
                            "<tr><td>The Green Mile, Part 6: Coffey on the Mile</td><td>The Green Mile, Part 6: Coffey on the Mile</td><td>4.55</td></tr>",
                            "<tr><td>The Constitution of the United States of America</td><td>The Constitution of the United States of America</td><td>4.54</td></tr>",
                            "<tr><td>The Nightingale</td><td>The Nightingale</td><td>4.54</td></tr>",
                            "<tr><td>Courageous</td><td>Courageous</td><td>4.53</td></tr>",
                            "<tr><td>The Lord of the Rings: Weapons and Warfare</td><td>The Lord of the Rings: Weapons and Warfare</td><td>4.53</td></tr>",
                            "<tr><td>Thank You, Mr. Falker</td><td>Thank You, Mr. Falker</td><td>4.52</td></tr>",
                            "<tr><td>The Green Mile, Part 4: The Bad Death of Eduard Delacroix</td><td>The Green Mile, Part 4: The Bad Death of Eduard Delacroix</td><td>4.52</td></tr>",
                            "<tr><td>Believing Christ: The Parable of the Bicycle and Other Good News</td><td>Believing Christ: The Parable of the Bicycle and Other Good News</td><td>4.51</td></tr>",
                            "<tr><td>The Green Mile, Part 5: Night Journey</td><td>The Green Mile, Part 5: Night Journey</td><td>4.51</td></tr>",
                            "<tr><td>Humans of New York: Stories</td><td>Humans of New York: Stories</td><td>4.5</td></tr>",
                            "<tr><td>Locke &amp; Key, Vol. 6: Alpha &amp; Omega</td><td>Locke &amp; Key, Vol. 6: Alpha &amp; Omega</td><td>4.5</td></tr>",
                            "<tr><td>The Complete Sherlock Holmes</td><td>The Complete Sherlock Holmes</td><td>4.5</td></tr>",
                            "<tr><td>The Green Mile, Part 3: Coffey's Hands</td><td>The Green Mile, Part 3: Coffey's Hands</td><td>4.5</td></tr>",
                            "<tr><td>Kürk Mantolu Madonna</td><td>Kürk Mantolu Madonna</td><td>4.49</td></tr>",
                            "<tr><td>The Complete Works</td><td>The Complete Works</td><td>4.49</td></tr>",
                            "<tr><td>The Green Mile, Part 1: The Two Dead Girls</td><td>The Green Mile, Part 1: The Two Dead Girls</td><td>4.49</td></tr>",
                            "<tr><td>The New Jim Crow: Mass Incarceration in the Age of Colorblindness</td><td>The New Jim Crow: Mass Incarceration in the Age of Colorblindness</td><td>4.49</td></tr>",
                            "<tr><td>A Charlie Brown Christmas</td><td>A Charlie Brown Christmas </td><td>4.48</td></tr>",
                            "<tr><td>Assata: An Autobiography</td><td>Assata: An Autobiography</td><td>4.48</td></tr>",
                            "<tr><td>Evicted: Poverty and Profit in the American City</td><td>Evicted: Poverty and Profit in the American City</td><td>4.48</td></tr>",
                            "<tr><td>Harry Potter: Film Wizardry</td><td>Harry Potter: Film Wizardry</td><td>4.48</td></tr>",
                            "<tr><td>On Food and Cooking: The Science and Lore of the Kitchen</td><td>On Food and Cooking: The Science and Lore of the Kitchen</td><td>4.48</td></tr>",
                            "<tr><td>The Chronicles of Narnia - The Lion, the Witch, and the Wardrobe Official Illustrated Movie Companion</td><td>The Chronicles of Narnia - The Lion, the Witch, and the Wardrobe Official Illustrated Movie Companion</td><td>4.48</td></tr>",
                            "<tr><td>Darkest Powers Trilogy (Darkest Powers, #1-3)</td><td>Darkest Powers Trilogy (Darkest Powers, #1-3)</td><td>4.47</td></tr>",
                            "<tr><td>Ficciones</td><td>Ficciones</td><td>4.47</td></tr>",
                            "<tr><td>Finding Nemo</td><td>Finding Nemo</td><td>4.47</td></tr>",
                            "<tr><td>Fireproof</td><td>Fireproof</td><td>4.47</td></tr>",
                            "<tr><td>Hamilton: The Revolution</td><td>Hamilton: The Revolution</td><td>4.47</td></tr>",
                            "<tr><td>Lonesome Dove</td><td>Lonesome Dove</td><td>4.47</td></tr>",
                            "<tr><td>The Coldest Winter Ever</td><td>The Coldest Winter Ever</td><td>4.47</td></tr>",
                            "<tr><td>The Green Mile, Part 2: The Mouse on the Mile</td><td>The Green Mile, Part 2: The Mouse on the Mile</td><td>4.47</td></tr>",
                            "<tr><td>The Gruffalo</td><td>The Gruffalo</td><td>4.47</td></tr>",
                            "<tr><td>Tramp for the Lord</td><td>Tramp for the Lord</td><td>4.47</td></tr>",
                            "<tr><td>We Should All Be Feminists</td><td>We Should All Be Feminists</td><td>4.47</td></tr>",
                            "<tr><td>Shoe Dog: A Memoir by the Creator of NIKE</td><td>Shoe Dog: A Memoir by the Creator of Nike</td><td>4.46</td></tr>",
                            "<tr><td>The Complete Adventures of Peter Rabbit</td><td>The Complete Adventures of Peter Rabbit</td><td>4.46</td></tr>",
                            "<tr><td>Archer's Voice</td><td>Archer's Voice</td><td>4.45</td></tr>",
                            "<tr><td>Harry Potter and Philosophy: If Aristotle Ran Hogwarts</td><td>Harry Potter and Philosophy: If Aristotle Ran Hogwarts</td><td>4.45</td></tr>",
                            "<tr><td>Lover Awakened (Black Dagger Brotherhood, #3)</td><td>Lover Awakened (Black Dagger Brotherhood, #3)</td><td>4.45</td></tr>",
                            "<tr><td>Miss Rumphius</td><td>Miss Rumphius</td><td>4.45</td></tr>",
                            "<tr><td>Praying God's Word: Breaking Free From Spiritual Strongholds</td><td>Praying God's Word: Breaking Free From Spiritual Strongholds</td><td>4.45</td></tr>",
                            "<tr><td>Sherlock Holmes: The Complete Novels and Stories, Volume I</td><td>Sherlock Holmes: The Complete Novels and Stories, Volume I</td><td>4.45</td></tr>",
                            "<tr><td>The Far Side Gallery 3</td><td>The Far Side Gallery 3</td><td>4.45</td></tr>",
                            "<tr><td>The Fire Next Time</td><td>The Fire Next Time</td><td>4.45</td></tr>",
                            "<tr><td>The Help</td><td>The Help</td><td>4.45</td></tr>",
                            "<tr><td>The Monster at the End of this Book</td><td>The Monster at the End of This Book</td><td>4.45</td></tr>",
                            "<tr><td>Wicked - Piano/Vocal Arrangement</td><td>Wicked - Piano/Vocal Arrangement</td><td>4.45</td></tr>",
                            "<tr><td>Ignite Me (Shatter Me, #3)</td><td>Ignite Me (Shatter Me, #3)</td><td>4.44</td></tr>",
                            "<tr><td>It Ends with Us</td><td>It Ends with Us</td><td>4.44</td></tr>",
                            "<tr><td>Locke &amp; Key, Vol. 4: Keys to the Kingdom</td><td>Locke &amp; Key, Vol. 4: Keys to the Kingdom</td><td>4.44</td></tr>",
                            "<tr><td>The Complete Stories</td><td>The Complete Stories</td><td>4.44</td></tr>",
                            "<tr><td>The Declaration of Independence and The Constitution of the United States</td><td>The Declaration of Independence and The Constitution of the United States </td><td>4.44</td></tr>",
                            "<tr><td>The Poetry of Pablo Neruda</td><td>The Poetry of Pablo Neruda</td><td>4.44</td></tr>",
                            "<tr><td>Left to Tell: Discovering God Amidst the Rwandan Holocaust</td><td>Left to Tell: Discovering God Amidst the Rwandan Holocaust</td><td>4.43</td></tr>",
                            "<tr><td>The Wheel of Time: Boxed Set #1 (Wheel of Time, #1-3)</td><td>The Wheel of Time: Boxed Set #1 (Wheel of Time, #1-3)</td><td>4.43</td></tr>",
                            "<tr><td>Wonder</td><td>Wonder</td><td>4.43</td></tr>",
                            "<tr><td>رباعيات صلاح جاهين</td><td>رباعيات صلاح جاهين</td><td>4.43</td></tr>",
                            "<tr><td>Band of Brothers: E Company, 506th Regiment, 101st Airborne from Normandy to Hitler's Eagle's Nest</td><td>Band of Brothers: E Company, 506th Regiment, 101st Airborne from Normandy to Hitler's Eagle's Nest</td><td>4.42</td></tr>",
                            "<tr><td>H.M.S. Surprise</td><td>H.M.S. Surprise </td><td>4.42</td></tr>",
                            "<tr><td>Ina May's Guide to Childbirth</td><td>Ina May's Guide to Childbirth</td><td>4.42</td></tr>",
                            "<tr><td>Nothing to Envy: Ordinary Lives in North Korea</td><td>Nothing to Envy: Ordinary Lives in North Korea</td><td>4.42</td></tr>",
                            "<tr><td>The Far Side Gallery</td><td>The Far Side Gallery</td><td>4.42</td></tr>",
                            "<tr><td>The Green Mile</td><td>The Green Mile</td><td>4.42</td></tr>",
                            "<tr><td>Fantastic Beasts and Where to Find Them: The Original Screenplay</td><td>Fantastic Beasts and Where to Find Them: The Original Screenplay</td><td>4.41</td></tr>",
                            "<tr><td>Homegoing</td><td>Homegoing</td><td>4.41</td></tr>",
                            "<tr><td>November 9</td><td>November 9</td><td>4.41</td></tr>",
                            "<tr><td>Scott Pilgrim, Volume 6: Scott Pilgrim's Finest Hour</td><td>Scott Pilgrim, Volume 6: Scott Pilgrim's Finest Hour</td><td>4.41</td></tr>",
                            "<tr><td>The Cat in the Hat and Other Dr. Seuss Favorites</td><td>The Cat in the Hat and Other Dr. Seuss Favorites</td><td>4.41</td></tr>",
                            "<tr><td>The Day the Crayons Quit</td><td>The Day the Crayons Quit</td><td>4.41</td></tr>",
                            "<tr><td>The Kissing Hand</td><td>The Kissing Hand</td><td>4.41</td></tr>",
                            "<tr><td>The Peacegiver: How Christ Offers to Heal Our Hearts and Homes</td><td>The Peacegiver: How Christ Offers to Heal Our Hearts and Homes</td><td>4.41</td></tr>",
                            "<tr><td>The Story of Ruby Bridges</td><td>The Story of Ruby Bridges</td><td>4.41</td></tr>",
                            "<tr><td>The Weight of Glory</td><td>The Weight of Glory</td><td>4.41</td></tr>",
                            "<tr><td>Being Mortal: Medicine and What Matters in the End</td><td>Being Mortal: Medicine and What Matters in the End</td><td>4.4</td></tr>",
                            "<tr><td>Between the World and Me</td><td>Between the World and Me</td><td>4.4</td></tr>",
                            "<tr><td>Gates of Fire: An Epic Novel of the Battle of Thermopylae</td><td>Gates of Fire: An Epic Novel of the Battle of Thermopylae</td><td>4.4</td></tr>",
                            "<tr><td>The Exploits of Sherlock Holmes</td><td>The Exploits of Sherlock Holmes</td><td>4.4</td></tr>",
                            "<tr><td>The Royal Ranger (Ranger's Apprentice, #12)</td><td>The Royal Ranger (Ranger's Apprentice, #12)</td><td>4.4</td></tr>",
                            "<tr><td>The Sunne in Splendour</td><td>The Sunne in Splendour</td><td>4.4</td></tr>",
                            "<tr><td>Unbroken: A World War II Story of Survival, Resilience, and Redemption</td><td>Unbroken: A World War II Story of Survival, Resilience, and Redemption</td><td>4.4</td></tr>",
                            "<tr><td>With the Old Breed: At Peleliu and Okinawa</td><td>With The Old Breed: At Peleliu And Okinawa</td><td>4.4</td></tr>",
                            "<tr><td>As Sure as the Dawn (Mark of the Lion, #3)</td><td>As Sure as the Dawn (Mark of the Lion, #3)</td><td>4.39</td></tr>",
                            "<tr><td>Beauty and the Beast</td><td>Beauty and the Beast</td><td>4.39</td></tr>",
                            "<tr><td>Every Thing on It</td><td>Every Thing On It</td><td>4.39</td></tr>",
                            "<tr><td>I Love You Through and Through</td><td>I Love You Through And Through</td><td>4.39</td></tr>",
                            "<tr><td>I Want My Hat Back</td><td>I Want My Hat Back</td><td>4.39</td></tr>",
                            "<tr><td>Martin Eden</td><td>Martin Eden</td><td>4.39</td></tr>",
                            "<tr><td>My Utmost for His Highest</td><td>My Utmost for His Highest</td><td>4.39</td></tr>",
                            "<tr><td>Red Notice: A True Story of High Finance, Murder, and One Man’s Fight for Justice</td><td>Red Notice: A True Story of High Finance, Murder, and One Man’s Fight for Justice</td><td>4.39</td></tr>",
                            "<tr><td>Stand Tall, Molly Lou Melon</td><td>Stand Tall, Molly Lou Melon</td><td>4.39</td></tr>",
                            "<tr><td>Streams in the Desert</td><td>Streams in the Desert</td><td>4.39</td></tr>",
                            "<tr><td>The Brothers K</td><td>The Brothers K</td><td>4.39</td></tr>",
                            "<tr><td>The Lord God Made Them All</td><td>The Lord God Made Them All</td><td>4.39</td></tr>",
                            "<tr><td>The Martian</td><td>The Martian</td><td>4.39</td></tr>",
                            "<tr><td>The Truth Seeker (O'Malley #3)</td><td>The Truth Seeker (O'Malley #3)</td><td>4.39</td></tr>",
                            "<tr><td>Homicide: A Year on the Killing Streets</td><td>Homicide: A Year on the Killing Streets</td><td>4.38</td></tr>",
                            "<tr><td>Love You to Death: The Unofficial Companion to the Vampire Diaries</td><td>Love You to Death: The Unofficial Companion to The Vampire Diaries</td><td>4.38</td></tr>",
                            "<tr><td>Survivor In Death (In Death, #20)</td><td>Survivor in Death (In Death, #20)</td><td>4.38</td></tr>",
                            "<tr><td>The Beatles Anthology</td><td>The Beatles Anthology</td><td>4.38</td></tr>",
                            "<tr><td>The Giving Tree</td><td>The Giving Tree</td><td>4.38</td></tr>",
                            "<tr><td>The Looming Tower: Al-Qaeda and the Road to 9/11</td><td>The Looming Tower: Al-Qaeda and the Road to 9/11</td><td>4.38</td></tr>",
                            "<tr><td>The Power of a Praying Woman</td><td>The Power of a Praying Woman</td><td>4.38</td></tr>",
                            "<tr><td>The Return of the Prodigal Son: A Story of Homecoming</td><td>The Return of the Prodigal Son: A Story of Homecoming</td><td>4.38</td></tr>",
                            "<tr><td>The Sandman: The Dream Hunters</td><td>The Sandman: The Dream Hunters</td><td>4.38</td></tr>",
                            "<tr><td>Through Gates of Splendor</td><td>Through Gates of Splendor</td><td>4.38</td></tr>",
                            "<tr><td>Twilight and History</td><td>Twilight and History</td><td>4.38</td></tr>",
                            "<tr><td>A Gentleman in Moscow</td><td>A Gentleman in Moscow</td><td>4.37</td></tr>",
                            "<tr><td>And the Band Played On: Politics, People, and the AIDS Epidemic</td><td>And the Band Played On: Politics, People, and the AIDS Epidemic</td><td>4.37</td></tr>",
                            "<tr><td>Bumi Manusia</td><td>Bumi Manusia</td><td>4.37</td></tr>",
                            "<tr><td>Out of My Mind</td><td>Out of My Mind</td><td>4.37</td></tr>",
                            "<tr><td>The Improbable Adventures of Sherlock Holmes</td><td>The Improbable Adventures of Sherlock Holmes</td><td>4.37</td></tr>",
                            "<tr><td>The Miracle of Forgiveness</td><td>The Miracle of Forgiveness</td><td>4.37</td></tr>",
                            "<tr><td>The Pigeon Wants a Puppy!</td><td>The Pigeon Wants a Puppy!</td><td>4.37</td></tr>",
                            "<tr><td>The Wheel of Time: Boxed Set  (Wheel of Time, #1-8)</td><td>The Wheel of Time: Boxed Set  (Wheel of Time, #1-8)</td><td>4.37</td></tr>",
                            "<tr><td>Wicked Deeds on a Winter's Night (Immortals After Dark #4)</td><td>Wicked Deeds on a Winter's Night (Immortals After Dark #4)</td><td>4.37</td></tr>",
                            "<tr><td>A Monster Calls</td><td>A Monster Calls </td><td>4.36</td></tr>",
                            "<tr><td>A Work in Progress</td><td>A Work in Progress</td><td>4.36</td></tr>",
                            "<tr><td>Batman: The Killing Joke</td><td>Batman: The Killing Joke </td><td>4.36</td></tr>",
                            "<tr><td>Between Shades of Gray</td><td>Between Shades of Gray</td><td>4.36</td></tr>",
                            "<tr><td>Echo</td><td>Echo</td><td>4.36</td></tr>",
                            "<tr><td>Endurance: Shackleton's Incredible Voyage</td><td>Endurance: Shackleton's incredible voyage</td><td>4.36</td></tr>",
                            "<tr><td>Guess How Much I Love You</td><td>Guess How Much I Love You</td><td>4.36</td></tr>",
                            "<tr><td>How the Grinch Stole Christmas!</td><td>How the Grinch Stole Christmas!</td><td>4.36</td></tr>",
                            "<tr><td>Innocent in Death (In Death, #24)</td><td>Innocent in Death (In Death, #24)</td><td>4.36</td></tr>",
                            "<tr><td>Making Faces</td><td>Making Faces</td><td>4.36</td></tr>",
                            "<tr><td>Salt to the Sea</td><td>Salt to the Sea</td><td>4.36</td></tr>",
                            "<tr><td>The Book Thief</td><td>The Book Thief</td><td>4.36</td></tr>",
                            "<tr><td>The Godfather</td><td>The Godfather</td><td>4.36</td></tr>",
                            "<tr><td>The Power of the Dog</td><td>The Power of the Dog</td><td>4.36</td></tr>",
                            "<tr><td>Y: The Last Man - The Deluxe Edition Book One</td><td>Y: The Last Man - The Deluxe Edition Book One</td><td>4.36</td></tr>",
                            "<tr><td>Chasing the Prophecy (Beyonders, #3)</td><td>Chasing the Prophecy (Beyonders, #3)</td><td>4.35</td></tr>",
                            "<tr><td>Cosmos</td><td>Cosmos</td><td>4.35</td></tr>",
                            "<tr><td>Don't Let the Pigeon Stay Up Late!</td><td>Don't Let the Pigeon Stay Up Late!</td><td>4.35</td></tr>",
                            "<tr><td>East of Eden</td><td>East of Eden  </td><td>4.35</td></tr>",
                            "<tr><td>Lover Eternal (Black Dagger Brotherhood, #2)</td><td>Lover Eternal (Black Dagger Brotherhood, #2)</td><td>4.35</td></tr>",
                            "<tr><td>On the Night You Were Born</td><td>On the Night You Were Born</td><td>4.35</td></tr>",
                            "<tr><td>The Great Dune Trilogy  </td><td>The Great Dune Trilogy</td><td>4.35</td></tr>",
                            "<tr><td>The Holiness of God</td><td>The Holiness of God</td><td>4.35</td></tr>",
                            "<tr><td>The Lorax</td><td>The Lorax</td><td>4.35</td></tr>",
                            "<tr><td>The Mauritius Command</td><td>The Mauritius Command</td><td>4.35</td></tr>",
                            "<tr><td>The Pigeon Finds a Hot Dog!</td><td>The Pigeon Finds a Hot Dog!</td><td>4.35</td></tr>",
                            "<tr><td>The Story of Ferdinand</td><td>The Story of Ferdinand</td><td>4.35</td></tr>",
                            "<tr><td>Watchmen</td><td>Watchmen</td><td>4.35</td></tr>",
                            "<tr><td>A Fine Balance</td><td>A Fine Balance</td><td>4.34</td></tr>",
                            "<tr><td>A Light in the Attic</td><td>A Light in the Attic</td><td>4.34</td></tr>",
                            "<tr><td>A Thousand Splendid Suns</td><td>A Thousand Splendid Suns</td><td>4.34</td></tr>",
                            "<tr><td>Different Seasons</td><td>Different Seasons</td><td>4.34</td></tr>",
                            "<tr><td>Drums of Autumn (Outlander, #4)</td><td>Drums of Autumn (Outlander, #4)</td><td>4.34</td></tr>",
                            "<tr><td>Identical</td><td>Identical</td><td>4.34</td></tr>",
                            "<tr><td>India After Gandhi: The History of the World's Largest Democracy</td><td>India After Gandhi: The History of the World's Largest Democracy</td><td>4.34</td></tr>",
                            "<tr><td>Janet Evanovich Three and Four Two-Book Set (Stephanie Plum, #3-4)</td><td>Janet Evanovich Three and Four Two-Book Set (Stephanie Plum, #3-4)</td><td>4.34</td></tr>",
                            "<tr><td>Lone Survivor: The Eyewitness Account of Operation Redwing and the Lost Heroes of SEAL Team 10</td><td>Lone Survivor: The Eyewitness Account of Operation Redwing and the Lost Heroes of SEAL Team 10</td><td>4.34</td></tr>",
                            "<tr><td>Love You Forever</td><td>Love You Forever</td><td>4.34</td></tr>",
                            "<tr><td>Oh, The Places You'll Go!</td><td>Oh, the Places You'll Go!</td><td>4.34</td></tr>",
                            "<tr><td>Peace Is Every Step: The Path of Mindfulness in Everyday Life</td><td>Peace Is Every Step: The Path of Mindfulness in Everyday Life</td><td>4.34</td></tr>",
                            "<tr><td>The Book with No Pictures</td><td>The Book with No Pictures</td><td>4.34</td></tr>",
                            "<tr><td>The Last Seven Months of Anne Frank</td><td>The Last Seven Months of Anne Frank</td><td>4.34</td></tr>",
                            "<tr><td>The Miraculous Journey of Edward Tulane</td><td>The Miraculous Journey of Edward Tulane</td><td>4.34</td></tr>",
                            "<tr><td>The Sandman: Endless Nights</td><td>The Sandman: Endless Nights</td><td>4.34</td></tr>",
                            "<tr><td>The Sea of Tranquility</td><td>The Sea of Tranquility</td><td>4.34</td></tr>",
                            "<tr><td>The Stand</td><td>The Stand</td><td>4.34</td></tr>",
                            "<tr><td>The Walking Dead, Vol. 14: No Way Out</td><td>The Walking Dead, Vol. 14: No Way Out </td><td>4.34</td></tr>",
                            "<tr><td>The Wall of Winnipeg and Me</td><td>The Wall of Winnipeg and Me</td><td>4.34</td></tr>",
                            "<tr><td>All-Star Superman, Vol. 2</td><td>All-Star Superman, Vol. 2</td><td>4.33</td></tr>",
                            "<tr><td>Amazing Grace</td><td>Amazing Grace</td><td>4.33</td></tr>",
                            "<tr><td>Batman, Volume 3: Death of the Family</td><td>Batman, Volume 3: Death of the Family</td><td>4.33</td></tr>",
                            "<tr><td>Battlefield of the Mind: Winning the Battle in Your Mind</td><td>Battlefield of the Mind: Winning the Battle in Your Mind</td><td>4.33</td></tr>",
                            "<tr><td>Born in Death (In Death, #23)</td><td>Born in Death (In Death, #23)</td><td>4.33</td></tr>",
                            "<tr><td>Crush</td><td>Crush</td><td>4.33</td></tr>",
                            "<tr><td>Exodus</td><td>Exodus</td><td>4.33</td></tr>",
                            "<tr><td>Falling Up</td><td>Falling Up</td><td>4.33</td></tr>",
                            "<tr><td>Last Chance to See</td><td>Last Chance to See</td><td>4.33</td></tr>",
                            "<tr><td>Mastering the Art of French Cooking</td><td>Mastering the Art of French Cooking</td><td>4.33</td></tr>",
                            "<tr><td>Preacher, Volume 8: All Hell's a-Coming</td><td>Preacher, Volume 8: All Hell's a-Coming</td><td>4.33</td></tr>",
                            "<tr><td>SantaLand Diaries</td><td>SantaLand Diaries</td><td>4.33</td></tr>",
                            "<tr><td>Scott Pilgrim, Volume 5: Scott Pilgrim Vs. the Universe</td><td>Scott Pilgrim, Volume 5: Scott Pilgrim Vs. the Universe</td><td>4.33</td></tr>",
                            "<tr><td>Taken at Dusk (Shadow Falls, #3)</td><td>Taken at Dusk (Shadow Falls, #3)</td><td>4.33</td></tr>",
                            "<tr><td>The Arrival</td><td>The Arrival</td><td>4.33</td></tr>",
                            "<tr><td>The Dragonslayer (Bone, #4)</td><td>The Dragonslayer (Bone, #4)</td><td>4.33</td></tr>",
                            "<tr><td>The Emperor's Soul</td><td>The Emperor's Soul</td><td>4.33</td></tr>",
                            "<tr><td>The Heavenly Man: The Remarkable True Story of Chinese Christian Brother Yun</td><td>The Heavenly Man: The Remarkable True Story of Chinese Christian Brother Yun</td><td>4.33</td></tr>",
                            "<tr><td>The Real Mother Goose</td><td>The Real Mother Goose</td><td>4.33</td></tr>",
                            "<tr><td>Visions in Death (In Death, #19)</td><td>Visions in Death (In Death, #19)</td><td>4.33</td></tr>",
                            "<tr><td>A Higher Call: An Incredible True Story of Combat and Chivalry in the War-Torn Skies of World War II</td><td>A Higher Call: An Incredible True Story of Combat and Chivalry in the War-Torn Skies of World War II</td><td>4.32</td></tr>",
                            "<tr><td>Battle Cry of Freedom</td><td>Battle Cry of Freedom</td><td>4.32</td></tr>",
                            "<tr><td>Black Lies</td><td>Black Lies</td><td>4.32</td></tr>",
                            "<tr><td>Boy's Life</td><td>Boy's Life</td><td>4.32</td></tr>",
                            "<tr><td>Counterfeit Gods: The Empty Promises of Money, Sex, and Power, and the Only Hope that Matters</td><td>Counterfeit Gods: The Empty Promises of Money, Sex, and Power, and the Only Hope That Matters</td><td>4.32</td></tr>",
                            "<tr><td>Divided in Death (In Death, #18)</td><td>Divided in Death (In Death, #18)</td><td>4.32</td></tr>",
                            "<tr><td>God's Smuggler</td><td>God's Smuggler</td><td>4.32</td></tr>",
                            "<tr><td>If I Die (Soul Screamers, #5)</td><td>If I Die (Soul Screamers, #5)</td><td>4.32</td></tr>",
                            "<tr><td>Mufaro's Beautiful Daughters: An African Tale</td><td>Mufaro's Beautiful Daughters: An African Tale</td><td>4.32</td></tr>",
                            "<tr><td>Out of Breath (Breathing, #3)</td><td>Out of Breath (Breathing, #3)</td><td>4.32</td></tr>",
                            "<tr><td>Pale Blue Dot: A Vision of the Human Future in Space</td><td>Pale Blue Dot: A Vision of the Human Future in Space</td><td>4.32</td></tr>",
                            "<tr><td>Plenty</td><td>Plenty</td><td>4.32</td></tr>",
                            "<tr><td>Scott Pilgrim, Volume 4: Scott Pilgrim Gets It Together</td><td>Scott Pilgrim, Volume 4: Scott Pilgrim Gets It Together</td><td>4.32</td></tr>",
                            "<tr><td>The Auschwitz Escape</td><td>The Auschwitz Escape</td><td>4.32</td></tr>",
                            "<tr><td>The Battle for Skandia (Ranger's Apprentice, #4)</td><td>The Battle for Skandia (Ranger's Apprentice, #4)</td><td>4.32</td></tr>",
                            "<tr><td>The Black Dagger Brotherhood: An Insider's Guide</td><td>The Black Dagger Brotherhood: An Insider's Guide</td><td>4.32</td></tr>",
                            "<tr><td>The Boys in the Boat: Nine Americans and Their Epic Quest for Gold at the 1936 Berlin Olympics</td><td>The Boys in the Boat: Nine Americans and Their Epic Quest for Gold at the 1936 Berlin Olympics</td><td>4.32</td></tr>",
                            "<tr><td>The Darkest Lie (Lords of the Underworld #6)</td><td>The Darkest Lie (Lords of the Underworld #6)</td><td>4.32</td></tr>",
                            "<tr><td>The Everafter War (The Sisters Grimm, #7)</td><td>The Everafter War (The Sisters Grimm, #7)</td><td>4.32</td></tr>",
                            "<tr><td>The Love Song of J. Alfred Prufrock and Other Poems</td><td>The Love Song of J. Alfred Prufrock and Other Poems</td><td>4.32</td></tr>",
                            "<tr><td>The Magic Strings of Frankie Presto</td><td>The Magic Strings of Frankie Presto</td><td>4.32</td></tr>",
                            "<tr><td>The Making of the Atomic Bomb</td><td>The Making of the Atomic Bomb</td><td>4.32</td></tr>",
                            "<tr><td>The Memoirs of Sherlock Holmes</td><td>The Memoirs of Sherlock Holmes</td><td>4.32</td></tr>",
                            "<tr><td>The Missing Piece Meets the Big O </td><td>The Missing Piece Meets the Big O</td><td>4.32</td></tr>",
                            "<tr><td>The Paper Bag Princess</td><td>The Paper Bag Princess</td><td>4.32</td></tr>",
                            "<tr><td>The Practice of the Presence of God</td><td>The Practice of the Presence of God</td><td>4.32</td></tr>",
                            "<tr><td>The Realms of the Gods (Immortals, #4)</td><td>The Realms of the Gods (Immortals, #4)</td><td>4.32</td></tr>",
                            "<tr><td>The Secret Race: Inside the Hidden World of the Tour de France: Doping, Cover-ups, and Winning at All Costs</td><td>The Secret Race: Inside the Hidden World of the Tour de France: Doping, Cover-ups, and Winning at All Costs</td><td>4.32</td></tr>",
                            "<tr><td>When Breath Becomes Air</td><td>When Breath Becomes Air</td><td>4.32</td></tr>",
                            "<tr><td>Wild Magic (Immortals, #1)</td><td>Wild Magic (Immortals, #1)</td><td>4.32</td></tr>",
                            "<tr><td>Women's Bodies, Women's Wisdom: Creating Physical and Emotional Health and Healing</td><td>Women's Bodies, Women's Wisdom: Creating Physical and Emotional Health and Healing</td><td>4.32</td></tr>",
                            "<tr><td>الطنطورية</td><td>الطنطورية </td><td>4.32</td></tr>",
                            "<tr><td>عائد إلى حيفا</td><td>عائد إلى حيفا</td><td>4.32</td></tr>",
                            "<tr><td>Anne Frank : The Biography</td><td>Anne Frank : The Biography</td><td>4.31</td></tr>",
                            "<tr><td>Chrysanthemum</td><td>Chrysanthemum</td><td>4.31</td></tr>",
                            "<tr><td>Daytripper</td><td>Daytripper</td><td>4.31</td></tr>",
                            "<tr><td>Financial Peace Revisited</td><td>Financial Peace Revisited</td><td>4.31</td></tr>",
                            "<tr><td>Half the Sky: Turning Oppression into Opportunity for Women Worldwide</td><td>Half the Sky: Turning Oppression into Opportunity for Women Worldwide</td><td>4.31</td></tr>",
                            "<tr><td>Infinite Jest</td><td>Infinite Jest</td><td>4.31</td></tr>",
                            "<tr><td>Knowing God</td><td>Knowing God</td><td>4.31</td></tr>",
                            "<tr><td>Lilac Girls</td><td>Lilac Girls</td><td>4.31</td></tr>",
                            "<tr><td>Mere Christianity</td><td>Mere Christianity</td><td>4.31</td></tr>",
                            "<tr><td>On Writing: A Memoir of the Craft</td><td>On Writing: A Memoir of the Craft</td><td>4.31</td></tr>",
                            "<tr><td>The America's Test Kitchen Family Cookbook</td><td>The America's Test Kitchen Family Cookbook</td><td>4.31</td></tr>",
                            "<tr><td>The Autobiography of Martin Luther King, Jr.</td><td>The Autobiography of Martin Luther King, Jr.</td><td>4.31</td></tr>",
                            "<tr><td>The Endurance: Shackleton's Legendary Antarctic Expedition</td><td>The Endurance: Shackleton's legendary Antarctic expedition</td><td>4.31</td></tr>",
                            "<tr><td>The Little Mouse, the Red Ripe Strawberry, and the Big Hungry Bear</td><td>The Little Mouse, the Red Ripe Strawberry, and the Big Hungry Bear</td><td>4.31</td></tr>",
                            "<tr><td>The Longest Day</td><td>The Longest Day</td><td>4.31</td></tr>",
                            "<tr><td>The Power of a Praying Wife</td><td>The Power of a Praying Wife</td><td>4.31</td></tr>",
                            "<tr><td>The Pragmatic Programmer: From Journeyman to Master</td><td>The Pragmatic Programmer: From Journeyman to Master</td><td>4.31</td></tr>",
                            "<tr><td>The Sneetches and Other Stories</td><td>The Sneetches and Other Stories</td><td>4.31</td></tr>",
                            "<tr><td>The Warmth of Other Suns: The Epic Story of America's Great Migration</td><td>The Warmth of Other Suns: The Epic Story of America's Great Migration </td><td>4.31</td></tr>",
                            "<tr><td>The Way to Cook</td><td>The Way to Cook</td><td>4.31</td></tr>",
                            "<tr><td>Three Day Road</td><td>Three Day Road</td><td>4.31</td></tr>",
                            "<tr><td>A Child's Garden of Verses</td><td>A Child's Garden of Verses</td><td>4.3</td></tr>",
                            "<tr><td>Batman, Volume 1: The Court of Owls</td><td>Batman, Volume 1: The Court of Owls</td><td>4.3</td></tr>",
                            "<tr><td>Binge</td><td>Binge</td><td>4.3</td></tr>",
                            "<tr><td>Cathedral</td><td>Cathedral</td><td>4.3</td></tr>",
                            "<tr><td>Citizen: An American Lyric</td><td>Citizen: An American Lyric</td><td>4.3</td></tr>",
                            "<tr><td>Copper Sun</td><td>Copper Sun</td><td>4.3</td></tr>",
                            "<tr><td>Emperor Mage (Immortals, #3)</td><td>Emperor Mage (Immortals, #3)</td><td>4.3</td></tr>",
                            "<tr><td>Gödel, Escher, Bach: An Eternal Golden Braid</td><td>Gödel, Escher, Bach: An Eternal Golden Braid</td><td>4.3</td></tr>",
                            "<tr><td>Hinds' Feet on High Places</td><td>Hinds' Feet on High Places</td><td>4.3</td></tr>",
                            "<tr><td>Judas Unchained</td><td>Judas Unchained</td><td>4.3</td></tr>",
                            "<tr><td>Little Bear's Friend</td><td>Little Bear's Friend</td><td>4.3</td></tr>",
                            "<tr><td>Rudolph the Red-Nosed Reindeer</td><td>Rudolph the Red-Nosed Reindeer</td><td>4.3</td></tr>",
                            "<tr><td>Still Alice</td><td>Still Alice</td><td>4.3</td></tr>",
                            "<tr><td>Tatiana and Alexander (The Bronze Horseman, #2)</td><td>Tatiana and Alexander (The Bronze Horseman, #2)</td><td>4.3</td></tr>",
                            "<tr><td>Team of Rivals: The Political Genius of Abraham Lincoln</td><td>Team of Rivals: The Political Genius of Abraham Lincoln</td><td>4.3</td></tr>",
                            "<tr><td>Term Limits</td><td>Term Limits</td><td>4.3</td></tr>",
                            "<tr><td>The Places That Scare You: A Guide to Fearlessness in Difficult Times</td><td>The Places That Scare You: A Guide to Fearlessness in Difficult Times</td><td>4.3</td></tr>",
                            "<tr><td>The Power of Myth</td><td>The Power of Myth</td><td>4.3</td></tr>",
                            "<tr><td>The Raven and other poems</td><td>The Raven and Other Poems</td><td>4.3</td></tr>",
                            "<tr><td>The Return of Sherlock Holmes</td><td>The Return of Sherlock Holmes</td><td>4.3</td></tr>",
                            "<tr><td>The Source</td><td>The Source</td><td>4.3</td></tr>",
                            "<tr><td>The Sweet Gum Tree</td><td>The Sweet Gum Tree</td><td>4.3</td></tr>",
                            "<tr><td>Ugly Love</td><td>Ugly Love</td><td>4.3</td></tr>",
                            "<tr><td>We Wish to Inform You That Tomorrow We Will Be Killed with Our Families</td><td>We Wish to Inform You That Tomorrow We Will Be Killed with Our Families</td><td>4.3</td></tr>",
                            "<tr><td>11/22/63</td><td>11/22/63</td><td>4.29</td></tr>",
                            "<tr><td>A Pocket for Corduroy</td><td>A Pocket for Corduroy</td><td>4.29</td></tr>",
                            "<tr><td>A Return to Love: Reflections on the Principles of &quot;A Course in Miracles&quot;</td><td>A Return to Love: Reflections on the Principles of &quot;A Course in Miracles&quot;</td><td>4.29</td></tr>",
                            "<tr><td>A Thousand Boy Kisses</td><td>A Thousand Boy Kisses</td><td>4.29</td></tr>",
                            "<tr><td>A Woman After God's Own Heart</td><td>A Woman After God's Own Heart</td><td>4.29</td></tr>",
                            "<tr><td>Batman: The Black Mirror</td><td>Batman: The Black Mirror</td><td>4.29</td></tr>",
                            "<tr><td>Batman: The Long Halloween</td><td>Batman: The Long Halloween</td><td>4.29</td></tr>",
                            "<tr><td>Fallout (Crank, #3)</td><td>Fallout (Crank, #3)</td><td>4.29</td></tr>",
                            "<tr><td>First They Killed My Father: A Daughter of Cambodia Remembers</td><td>First They Killed My Father: A Daughter of Cambodia Remembers </td><td>4.29</td></tr>",
                            "<tr><td>Green Eggs and Ham</td><td>Green Eggs and Ham</td><td>4.29</td></tr>",
                            "<tr><td>Matilda</td><td>Matilda</td><td>4.29</td></tr>",
                            "<tr><td>Mistress of the Empire (The Empire Trilogy, #3)</td><td>Mistress of the Empire (The Empire Trilogy, #3)</td><td>4.29</td></tr>",
                            "<tr><td>Momo</td><td>Momo</td><td>4.29</td></tr>",
                            "<tr><td>Scott Pilgrim, Volume 3: Scott Pilgrim &amp; The Infinite Sadness</td><td>Scott Pilgrim, Volume 3: Scott Pilgrim &amp; The Infinite Sadness</td><td>4.29</td></tr>",
                            "<tr><td>Sisters</td><td>Sisters</td><td>4.29</td></tr>",
                            "<tr><td>Stalingrad: The Fateful Siege, 1942–1943</td><td>Stalingrad: The Fateful Siege, 1942–1943</td><td>4.29</td></tr>",
                            "<tr><td>The Adventures of Sherlock Holmes</td><td>The Adventures of Sherlock Holmes</td><td>4.29</td></tr>",
                            "<tr><td>The Autobiography of Malcolm X</td><td>The Autobiography of Malcolm X</td><td>4.29</td></tr>",
                            "<tr><td>The Complete Phantom of the Opera</td><td>The Complete Phantom of the Opera</td><td>4.29</td></tr>",
                            "<tr><td>The Emperor of All Maladies: A Biography of Cancer</td><td>The Emperor of All Maladies: A Biography of Cancer</td><td>4.29</td></tr>",
                            "<tr><td>The Little House</td><td>The Little House</td><td>4.29</td></tr>",
                            "<tr><td>The Polar Express</td><td>The Polar Express</td><td>4.29</td></tr>",
                            "<tr><td>The Road to the Dark Tower: Exploring Stephen King's Magnum Opus</td><td>The Road to the Dark Tower: Exploring Stephen King's Magnum Opus</td><td>4.29</td></tr>",
                            "<tr><td>The Total Money Makeover: A Proven Plan for Financial Fitness</td><td>The Total Money Makeover: A Proven Plan for Financial Fitness</td><td>4.29</td></tr>",
                            "<tr><td>The Velveteen Rabbit</td><td>The Velveteen Rabbit</td><td>4.29</td></tr>",
                            "<tr><td>The Walking Dead, Vol. 10: What We Become</td><td>The Walking Dead, Vol. 10: What We Become</td><td>4.29</td></tr>",
                            "<tr><td>Tiny Beautiful Things: Advice on Love and Life from Dear Sugar</td><td>Tiny Beautiful Things: Advice on Love and Life from Dear Sugar</td><td>4.29</td></tr>",
                            "<tr><td>We Were Soldiers Once... and Young: Ia Drang - The Battle that Changed the War in Vietnam</td><td>We Were Soldiers Once... and Young: Ia Drang - the Battle That Changed the War in Vietnam</td><td>4.29</td></tr>",
                            "<tr><td>When Things Fall Apart: Heart Advice for Difficult Times</td><td>When Things Fall Apart: Heart Advice for Difficult Times</td><td>4.29</td></tr>",
                            "<tr><td>Will You Please Be Quiet, Please?</td><td>Will You Please Be Quiet, Please?</td><td>4.29</td></tr>",
                            "<tr><td>ثلاثية غرناطة</td><td>ثلاثية غرناطة</td><td>4.29</td></tr>",
                            "<tr><td>Animalia</td><td>Animalia</td><td>4.28</td></tr>",
                            "<tr><td>Black Hawk Down</td><td>Black Hawk Down</td><td>4.28</td></tr>",
                            "<tr><td>City of Thieves</td><td>City of Thieves</td><td>4.28</td></tr>",
                            "<tr><td>Corduroy</td><td>Corduroy</td><td>4.28</td></tr>",
                            "<tr><td>Curious George Takes a Job</td><td>Curious George Takes a Job</td><td>4.28</td></tr>",
                            "<tr><td>Cutting for Stone</td><td>Cutting for Stone</td><td>4.28</td></tr>",
                            "<tr><td>Fish in a Tree</td><td>Fish In A Tree</td><td>4.28</td></tr>",
                            "<tr><td>Flotsam</td><td>Flotsam</td><td>4.28</td></tr>",
                            "<tr><td>Glass (Crank, #2)</td><td>Glass (Crank, #2)</td><td>4.28</td></tr>",
                            "<tr><td>Gone with the Wind</td><td>Gone with the Wind</td><td>4.28</td></tr>",
                            "<tr><td>Good Night, Mr. Tom</td><td>Good Night, Mr. Tom</td><td>4.28</td></tr>",
                            "<tr><td>Hairy Maclary from Donaldson's Dairy</td><td>Hairy Maclary from Donaldson's Dairy</td><td>4.28</td></tr>",
                            "<tr><td>Half of a Yellow Sun</td><td>Half of a Yellow Sun</td><td>4.28</td></tr>",
                            "<tr><td>Her Mother's Hope (Marta's Legacy, #1)</td><td>Her Mother's Hope (Marta's Legacy, #1)</td><td>4.28</td></tr>",
                            "<tr><td>Llama Llama Mad at Mama</td><td>Llama Llama Mad at Mama</td><td>4.28</td></tr>",
                            "<tr><td>Loving Mr. Daniels</td><td>Loving Mr. Daniels</td><td>4.28</td></tr>",
                            "<tr><td>Once We Were Brothers</td><td>Once We Were Brothers</td><td>4.28</td></tr>",
                            "<tr><td>Starlight (Warriors: The New Prophecy, #4)</td><td>Starlight (Warriors: The New Prophecy, #4)</td><td>4.28</td></tr>",
                            "<tr><td>Stone Soup</td><td>Stone Soup</td><td>4.28</td></tr>",
                            "<tr><td>Stoner</td><td>Stoner</td><td>4.28</td></tr>",
                            "<tr><td>Swan Song</td><td>Swan Song</td><td>4.28</td></tr>",
                            "<tr><td>The Book on the Taboo Against Knowing Who You Are</td><td>The Book on the Taboo Against Knowing Who You Are</td><td>4.28</td></tr>",
                            "<tr><td>The Cartel</td><td>The Cartel</td><td>4.28</td></tr>",
                            "<tr><td>The Great Divorce</td><td>The Great Divorce</td><td>4.28</td></tr>",
                            "<tr><td>The Lords of Discipline</td><td>The Lords of Discipline</td><td>4.28</td></tr>",
                            "<tr><td>The Pursuit of Holiness</td><td>The Pursuit of Holiness</td><td>4.28</td></tr>",
                            "<tr><td>The Raven</td><td>The Raven</td><td>4.28</td></tr>",
                            "<tr><td>The Snowman</td><td>The Snowman</td><td>4.28</td></tr>",
                            "<tr><td>This Side of the Grave (Night Huntress, #5)</td><td>This Side of the Grave (Night Huntress, #5)</td><td>4.28</td></tr>",
                            "<tr><td>Unravel Me (Shatter Me, #2)</td><td>Unravel Me (Shatter Me, #2)</td><td>4.28</td></tr>",
                            "<tr><td>A Little Life</td><td>A Little Life</td><td>4.27</td></tr>",
                            "<tr><td>Amelia Bedelia and the Surprise Shower</td><td>Amelia Bedelia and the Surprise Shower</td><td>4.27</td></tr>",
                            "<tr><td>Angle of Repose</td><td>Angle of Repose</td><td>4.27</td></tr>",
                            "<tr><td>Be Here Now</td><td>Be Here Now</td><td>4.27</td></tr>",
                            "<tr><td>Born to Run: A Hidden Tribe, Superathletes, and the Greatest Race the World Has Never Seen</td><td>Born to Run: A Hidden Tribe, Superathletes, and the Greatest Race the World Has Never Seen</td><td>4.27</td></tr>",
                            "<tr><td>Coming Home</td><td>Coming Home</td><td>4.27</td></tr>",
                            "<tr><td>Eragon &amp; Eldest (Inheritance, #1-2)</td><td>Eragon &amp; Eldest (Inheritance, #1-2)</td><td>4.27</td></tr>",
                            "<tr><td>Hark! A Vagrant</td><td>Hark! A Vagrant</td><td>4.27</td></tr>",
                            "<tr><td>Hawkeye, Volume 2: Little Hits</td><td>Hawkeye, Volume 2: Little Hits</td><td>4.27</td></tr>",
                            "<tr><td>Madeline and the Bad Hat</td><td>Madeline and the Bad Hat</td><td>4.27</td></tr>",
                            "<tr><td>Mastery</td><td>Mastery</td><td>4.27</td></tr>",
                            "<tr><td>Mila 18</td><td>Mila 18</td><td>4.27</td></tr>",
                            "<tr><td>Milk and Honey</td><td>milk and honey</td><td>4.27</td></tr>",
                            "<tr><td>Roller Girl</td><td>Roller Girl</td><td>4.27</td></tr>",
                            "<tr><td>Servant of the Empire (The Empire Trilogy, #2)</td><td>Servant of the Empire (The Empire Trilogy, #2)</td><td>4.27</td></tr>",
                            "<tr><td>Stone Butch Blues</td><td>Stone Butch Blues</td><td>4.27</td></tr>",
                            "<tr><td>Stories of Your Life and Others</td><td>Stories of Your Life and Others </td><td>4.27</td></tr>",
                            "<tr><td>Taken by Midnight (Midnight Breed, #8)</td><td>Taken by Midnight (Midnight Breed, #8)</td><td>4.27</td></tr>",
                            "<tr><td>The Demon-Haunted World: Science as a Candle in the Dark</td><td>The Demon-Haunted World: Science as a Candle in the Dark</td><td>4.27</td></tr>",
                            "<tr><td>The Hidden Messages in Water</td><td>The Hidden Messages in Water</td><td>4.27</td></tr>",
                            "<tr><td>The Lions of Al-Rassan</td><td>The Lions of Al-Rassan</td><td>4.27</td></tr>",
                            "<tr><td>The Missing Piece</td><td>The Missing Piece</td><td>4.27</td></tr>",
                            "<tr><td>The Napping House</td><td>The Napping House</td><td>4.27</td></tr>",
                            "<tr><td>The Song of Achilles</td><td>The Song of Achilles</td><td>4.27</td></tr>",
                            "<tr><td>The Stories of John Cheever</td><td>The Stories of John Cheever</td><td>4.27</td></tr>",
                            "<tr><td>We're Going on a Bear Hunt</td><td>We're Going on a Bear Hunt</td><td>4.27</td></tr>",
                            "<tr><td>13 Hours: The Inside Account of What Really Happened In Benghazi</td><td>13 Hours: The Inside Account of What Really Happened In Benghazi</td><td>4.26</td></tr>",
                            "<tr><td>A Grief Observed</td><td>A Grief Observed</td><td>4.26</td></tr>",
                            "<tr><td>Addicted</td><td>Addicted</td><td>4.26</td></tr>",
                            "<tr><td>Alexander Hamilton</td><td>Alexander Hamilton</td><td>4.26</td></tr>",
                            "<tr><td>Americanah</td><td>Americanah</td><td>4.26</td></tr>",
                            "<tr><td>Any Human Heart</td><td>Any Human Heart</td><td>4.26</td></tr>",
                            "<tr><td>Barefoot Contessa Family Style: Easy Ideas and Recipes That Make Everyone Feel Like Family</td><td>Barefoot Contessa Family Style: Easy Ideas and Recipes That Make Everyone Feel Like Family</td><td>4.26</td></tr>",
                            "<tr><td>Batman, Volume 2: The City of Owls</td><td>Batman, Volume 2: The City of Owls</td><td>4.26</td></tr>",
                            "<tr><td>Bloodhound (Beka Cooper, #2)</td><td>Bloodhound (Beka Cooper, #2)</td><td>4.26</td></tr>",
                            "<tr><td>Columbine</td><td>Columbine</td><td>4.26</td></tr>",
                            "<tr><td>Essentials of Classic Italian Cooking</td><td>Essentials of Classic Italian Cooking</td><td>4.26</td></tr>",
                            "<tr><td>Far from the Tree: Parents, Children, and the Search for Identity</td><td>Far from the Tree: Parents, Children, and the Search for Identity</td><td>4.26</td></tr>",
                            "<tr><td>Fried Green Tomatoes at the Whistle Stop Cafe</td><td>Fried Green Tomatoes at the Whistle Stop Cafe</td><td>4.26</td></tr>",
                            "<tr><td>Go the Fuck to Sleep</td><td>Go the Fuck to Sleep</td><td>4.26</td></tr>",
                            "<tr><td>Lamb: The Gospel According to Biff, Christ's Childhood Pal</td><td>Lamb: The Gospel According to Biff, Christ's Childhood Pal</td><td>4.26</td></tr>",
                            "<tr><td>Les Fleurs du Mal</td><td>Les Fleurs du mal</td><td>4.26</td></tr>",
                            "<tr><td>Shantaram</td><td>Shantaram</td><td>4.26</td></tr>",
                            "<tr><td>Simon vs. the Homo Sapiens Agenda</td><td>Simon vs. the Homo Sapiens Agenda</td><td>4.26</td></tr>",
                            "<tr><td>The Atonement Child</td><td>The Atonement Child</td><td>4.26</td></tr>",
                            "<tr><td>The Big Short: Inside the Doomsday Machine</td><td>The Big Short: Inside the Doomsday Machine</td><td>4.26</td></tr>",
                            "<tr><td>The Charm School</td><td>The Charm School</td><td>4.26</td></tr>",
                            "<tr><td>The Dot</td><td>The Dot</td><td>4.26</td></tr>",
                            "<tr><td>The Fault in Our Stars</td><td>The Fault in Our Stars</td><td>4.26</td></tr>",
                            "<tr><td>The Field of Swords (Emperor, #3)</td><td>The Field of Swords (Emperor, #3)</td><td>4.26</td></tr>",
                            "<tr><td>The Kite Runner</td><td>The Kite Runner </td><td>4.26</td></tr>",
                            "<tr><td>The Lord of the Rings Sketchbook</td><td>The Lord of the Rings Sketchbook</td><td>4.26</td></tr>",
                            "<tr><td>The Storyteller</td><td>The Storyteller</td><td>4.26</td></tr>",
                            "<tr><td>Unveiled: Tamar (Lineage of Grace #1)</td><td>Unveiled: Tamar (Lineage of Grace #1)</td><td>4.26</td></tr>",
                            "<tr><td>Very Good Lives: The Fringe Benefits of Failure and the Importance of Imagination</td><td>Very Good Lives: The Fringe Benefits of Failure and the Importance of Imagination</td><td>4.26</td></tr>",
                            "<tr><td>A Bargain for Frances</td><td>A Bargain for Frances</td><td>4.25</td></tr>",
                            "<tr><td>A Color of His Own</td><td>A Color of His Own</td><td>4.25</td></tr>",
                            "<tr><td>A Sick Day for Amos McGee</td><td>A Sick Day for Amos McGee</td><td>4.25</td></tr>",
                            "<tr><td>Anne Frank: Beyond the Diary - A Photographic Remembrance</td><td>Anne Frank: Beyond the Diary - A Photographic Remembrance</td><td>4.25</td></tr>",
                            "<tr><td>Barnyard Dance</td><td>Barnyard Dance</td><td>4.25</td></tr>",
                            "<tr><td>Bear Snores On</td><td>Bear Snores On</td><td>4.25</td></tr>",
                            "<tr><td>Betty Crocker's Cookbook</td><td>Betty Crocker's Cookbook</td><td>4.25</td></tr>",
                            "<tr><td>Come Back, Amelia Bedelia</td><td>Come Back, Amelia Bedelia</td><td>4.25</td></tr>",
                            "<tr><td>Cryptonomicon</td><td>Cryptonomicon</td><td>4.25</td></tr>",
                            "<tr><td>Curious George Visits the Library</td><td>Curious George Visits the Library</td><td>4.25</td></tr>",
                            "<tr><td>Foxe's Book of Martyrs</td><td>Foxe's Book of Martyrs</td><td>4.25</td></tr>",
                            "<tr><td>Frosty the Snow Man</td><td>Frosty the Snow Man</td><td>4.25</td></tr>",
                            "<tr><td>Good Omens: The Nice and Accurate Prophecies of Agnes Nutter, Witch</td><td>Good Omens: The Nice and Accurate Prophecies of Agnes Nutter, Witch</td><td>4.25</td></tr>",
                            "<tr><td>How I Raised Myself from Failure to Success in Selling</td><td>How I Raised Myself from Failure to Success in Selling</td><td>4.25</td></tr>",
                            "<tr><td>In Harm's Way: The Sinking of the U.S.S. Indianapolis and the Extraordinary Story of Its Survivors</td><td>In Harm's Way: The Sinking of the U.S.S. Indianapolis and the Extraordinary Story of Its Survivors</td><td>4.25</td></tr>",
                            "<tr><td>Justice: What's the Right Thing to Do?</td><td>Justice: What's the Right Thing to Do?</td><td>4.25</td></tr>",
                            "<tr><td>Little Princes: One Man's Promise to Bring Home the Lost Children of Nepal</td><td>Little Princes: One Man's Promise to Bring Home the Lost Children of Nepal</td><td>4.25</td></tr>",
                            "<tr><td>Magician: Master (The Riftwar Saga, #2)</td><td>Magician: Master (The Riftwar Saga, #2)</td><td>4.25</td></tr>",
                            "<tr><td>Mystery Man (Dream Man, #1)</td><td>Mystery Man (Dream Man, #1)</td><td>4.25</td></tr>",
                            "<tr><td>Nicholas and Alexandra</td><td>Nicholas and Alexandra</td><td>4.25</td></tr>",
                            "<tr><td>One Grave at a Time (Night Huntress, #6)</td><td>One Grave at a Time (Night Huntress, #6)</td><td>4.25</td></tr>",
                            "<tr><td>Owen</td><td>Owen</td><td>4.25</td></tr>",
                            "<tr><td>Phantoms in the Brain: Probing the Mysteries of the Human Mind</td><td>Phantoms in the Brain: Probing the Mysteries of the Human Mind</td><td>4.25</td></tr>",
                            "<tr><td>Practicing the Power of Now: Essential Teachings, Meditations, and Exercises from the Power of Now</td><td>Practicing the Power of Now: Essential Teachings, Meditations, and Exercises from The Power of Now</td><td>4.25</td></tr>",
                            "<tr><td>Saving Grace</td><td>Saving Grace</td><td>4.25</td></tr>",
                            "<tr><td>Seeds of Rebellion (Beyonders, #2)</td><td>Seeds of Rebellion (Beyonders, #2)</td><td>4.25</td></tr>",
                            "<tr><td>Skippyjon Jones</td><td>Skippyjon Jones</td><td>4.25</td></tr>",
                            "<tr><td>The Call of Cthulhu and Other Weird Stories</td><td>The Call of Cthulhu and Other Weird Stories</td><td>4.25</td></tr>",
                            "<tr><td>The Collected Poems of W.B. Yeats</td><td>The Collected Poems of W.B. Yeats</td><td>4.25</td></tr>",
                            "<tr><td>The Day of the Jackal</td><td>The Day of the Jackal</td><td>4.25</td></tr>",
                            "<tr><td>The Death of Kings (Emperor, #2)</td><td>The Death of Kings (Emperor, #2)</td><td>4.25</td></tr>",
                            "<tr><td>The Earthsea Trilogy</td><td>The Earthsea Trilogy</td><td>4.25</td></tr>",
                            "<tr><td>The Evolutionary Void</td><td>The Evolutionary Void</td><td>4.25</td></tr>",
                            "<tr><td>The Hat</td><td>The Hat</td><td>4.25</td></tr>",
                            "<tr><td>The Last Lecture</td><td>The Last Lecture</td><td>4.25</td></tr>",
                            "<tr><td>The Little Old Lady Who Was Not Afraid of Anything</td><td>The Little Old Lady Who Was Not Afraid of Anything</td><td>4.25</td></tr>",
                            "<tr><td>The Princess Bride </td><td>The Princess Bride</td><td>4.25</td></tr>",
                            "<tr><td>The Rise of Theodore Roosevelt</td><td>The Rise of Theodore Roosevelt </td><td>4.25</td></tr>",
                            "<tr><td>The Taste of Home Cookbook</td><td>The Taste of Home Cookbook</td><td>4.25</td></tr>",
                            "<tr><td>There are No Children Here: The Story of Two Boys Growing Up in the Other America</td><td>There Are No Children Here: The Story of Two Boys Growing Up in the Other America</td><td>4.25</td></tr>",
                            "<tr><td>To Kill a Mockingbird</td><td>To Kill a Mockingbird</td><td>4.25</td></tr>",
                            "<tr><td>Trials of Death (Cirque Du Freak, #5)</td><td>Trials of Death (Cirque du Freak, #5) </td><td>4.25</td></tr>",
                            "<tr><td>V for Vendetta</td><td>V for Vendetta</td><td>4.25</td></tr>",
                            "<tr><td>What the Bleep Do We Know!?: Discovering the Endless Possibilities for Altering Your Everyday Reality</td><td>What the Bleep Do We Know!?: Discovering the Endless Possibilities for Altering Your Everyday Reality</td><td>4.25</td></tr>",
                            "<tr><td>A Bad Case of Stripes</td><td>A Bad Case of Stripes</td><td>4.24</td></tr>",
                            "<tr><td>A Bridge Too Far</td><td>A Bridge Too Far</td><td>4.24</td></tr>",
                            "<tr><td>A Leaf on the Wind of All Hallows (Outlander, #8.5)</td><td>A Leaf on the Wind of All Hallows (Outlander, #8.5)</td><td>4.24</td></tr>",
                            "<tr><td>A Tree Grows in Brooklyn</td><td>A Tree Grows In Brooklyn </td><td>4.24</td></tr>",
                            "<tr><td>All My Friends Are Dead</td><td>All My Friends Are Dead</td><td>4.24</td></tr>",
                            "<tr><td>Beyond Band of Brothers: The War Memoirs of Major Dick Winters</td><td>Beyond Band of Brothers: The War Memoirs of Major Dick Winters</td><td>4.24</td></tr>",
                            "<tr><td>Change Your Thoughts - Change Your Life: Living the Wisdom of the Tao</td><td>Change Your Thoughts - Change Your Life: Living the Wisdom of the Tao</td><td>4.24</td></tr>",
                            "<tr><td>Creativity, Inc.: Overcoming the Unseen Forces That Stand in the Way of True Inspiration</td><td>Creativity, Inc.: Overcoming the Unseen Forces That Stand in the Way of True Inspiration</td><td>4.24</td></tr>",
                            "<tr><td>Curious George Rides a Bike</td><td>Curious George Rides a Bike</td><td>4.24</td></tr>",
                            "<tr><td>Dispatches</td><td>Dispatches</td><td>4.24</td></tr>",
                            "<tr><td>Dom Casmurro</td><td>Dom Casmurro</td><td>4.24</td></tr>",
                            "<tr><td>Driving Miss Daisy</td><td>Driving Miss Daisy</td><td>4.24</td></tr>",
                            "<tr><td>Each Peach Pear Plum</td><td>Each Peach Pear Plum</td><td>4.24</td></tr>",
                            "<tr><td>Glory over Everything: Beyond The Kitchen House</td><td>Glory over Everything: Beyond The Kitchen House</td><td>4.24</td></tr>",
                            "<tr><td>Harold and the Purple Crayon</td><td>Harold and the Purple Crayon</td><td>4.24</td></tr>",
                            "<tr><td>If You Give a Mouse a Cookie</td><td>If You Give a Mouse a Cookie</td><td>4.24</td></tr>",
                            "<tr><td>Jitterbug Perfume</td><td>Jitterbug Perfume</td><td>4.24</td></tr>",
                            "<tr><td>Just Me in the Tub (Mercer Mayer's Little Critter)</td><td>Just Me in the Tub (Mercer Mayer's Little Critter)</td><td>4.24</td></tr>",
                            "<tr><td>Kingdom Come</td><td>Kingdom Come</td><td>4.24</td></tr>",
                            "<tr><td>Madeline's Rescue</td><td>Madeline's Rescue</td><td>4.24</td></tr>",
                            "<tr><td>Money, and the Law of Attraction: Learning to Attract Wealth, Health, and Happiness</td><td>Money, and the Law of Attraction: Learning to Attract Wealth, Health, and Happiness</td><td>4.24</td></tr>",
                            "<tr><td>Moneyball: The Art of Winning an Unfair Game</td><td>Moneyball: The Art of Winning an Unfair Game</td><td>4.24</td></tr>",
                            "<tr><td>Once Burned (Night Prince, #1)</td><td>Once Burned (Night Prince, #1)</td><td>4.24</td></tr>",
                            "<tr><td>Pandora's Star</td><td>Pandora's Star</td><td>4.24</td></tr>",
                            "<tr><td>Pride and Prejudice</td><td>Pride and Prejudice</td><td>4.24</td></tr>",
                            "<tr><td>Sailing Alone Around the Room: New and Selected Poems</td><td>Sailing Alone Around the Room: New and Selected Poems</td><td>4.24</td></tr>",
                            "<tr><td>Scott Pilgrim, Volume 2: Scott Pilgrim vs. The World</td><td>Scott Pilgrim, Volume 2: Scott Pilgrim vs. The World</td><td>4.24</td></tr>",
                            "<tr><td>Smiley's People</td><td>Smiley's People</td><td>4.24</td></tr>",
                            "<tr><td>Sometimes a Great Notion</td><td>Sometimes a Great Notion</td><td>4.24</td></tr>",
                            "<tr><td>The Glass Castle</td><td>The Glass Castle</td><td>4.24</td></tr>",
                            "<tr><td>The Hating Game</td><td>The Hating Game</td><td>4.24</td></tr>",
                            "<tr><td>The Hero With a Thousand Faces</td><td>The Hero with a Thousand Faces</td><td>4.24</td></tr>",
                            "<tr><td>The One and Only Ivan</td><td>The One and Only Ivan</td><td>4.24</td></tr>",
                            "<tr><td>The Orenda</td><td>The Orenda</td><td>4.24</td></tr>",
                            "<tr><td>The River Why</td><td>The River Why</td><td>4.24</td></tr>",
                            "<tr><td>The Souls of Black Folk</td><td>The Souls of Black Folk</td><td>4.24</td></tr>",
                            "<tr><td>The Temporal Void</td><td>The Temporal Void</td><td>4.24</td></tr>",
                            "<tr><td>Where the Mountain Meets the Moon</td><td>Where the Mountain Meets the Moon</td><td>4.24</td></tr>",
                            "<tr><td>A Knight in Shining Armor</td><td>A Knight in Shining Armor</td><td>4.23</td></tr>",
                            "<tr><td>Ariel</td><td>Ariel</td><td>4.23</td></tr>",
                            "<tr><td>Barefoot Contessa Back to Basics</td><td>Barefoot Contessa Back to Basics</td><td>4.23</td></tr>",
                            "<tr><td>Batman: Year One</td><td>Batman: Year One</td><td>4.23</td></tr>",
                            "<tr><td>Bonhoeffer: Pastor, Martyr, Prophet, Spy</td><td>Bonhoeffer: Pastor, Martyr, Prophet, Spy</td><td>4.23</td></tr>",
                            "<tr><td>Click, Clack, Moo: Cows That Type</td><td>Click, Clack, Moo: Cows That Type</td><td>4.23</td></tr>",
                            "<tr><td>Complications: A Surgeon's Notes on an Imperfect Science</td><td>Complications: A Surgeon's Notes on an Imperfect Science</td><td>4.23</td></tr>",
                            "<tr><td>If You Give a Pig a Pancake </td><td>If You Give a Pig a Pancake </td><td>4.23</td></tr>",
                            "<tr><td>Memórias Póstumas de Brás Cubas</td><td>Memórias Póstumas de Brás Cubas</td><td>4.23</td></tr>",
                            "<tr><td>On Writing Well: The Classic Guide to Writing Nonfiction</td><td>On Writing Well: The Classic Guide to Writing Nonfiction</td><td>4.23</td></tr>",
                            "<tr><td>Orthodoxy</td><td>Orthodoxy</td><td>4.23</td></tr>",
                            "<tr><td>Papillon</td><td>Papillon </td><td>4.23</td></tr>",
                            "<tr><td>QED: The Strange Theory of Light and Matter</td><td>QED: The Strange Theory of Light and Matter</td><td>4.23</td></tr>",
                            "<tr><td>Random Family: Love, Drugs, Trouble, and Coming of Age in the Bronx</td><td>Random Family: Love, Drugs, Trouble, and Coming of Age in the Bronx</td><td>4.23</td></tr>",
                            "<tr><td>Savage Inequalities: Children in America's Schools</td><td>Savage Inequalities: Children in America's Schools</td><td>4.23</td></tr>",
                            "<tr><td>Snowmen at Night</td><td>Snowmen at Night</td><td>4.23</td></tr>",
                            "<tr><td>Systematic Theology: An Introduction to Biblical Doctrine</td><td>Systematic Theology: An Introduction to Biblical Doctrine</td><td>4.23</td></tr>",
                            "<tr><td>The Blue Castle </td><td>The Blue Castle</td><td>4.23</td></tr>",
                            "<tr><td>The Caine Mutiny</td><td>The Caine Mutiny</td><td>4.23</td></tr>",
                            "<tr><td>The Complete Adventures of Curious George</td><td>The Complete Adventures of Curious George</td><td>4.23</td></tr>",
                            "<tr><td>The Five Love Languages: How to Express Heartfelt Commitment to Your Mate</td><td>The Five Love Languages: How to Express Heartfelt Commitment to Your Mate</td><td>4.23</td></tr>",
                            "<tr><td>The Invention of Hugo Cabret</td><td>The Invention of Hugo Cabret</td><td>4.23</td></tr>",
                            "<tr><td>The Invention of Wings</td><td>The Invention of Wings</td><td>4.23</td></tr>",
                            "<tr><td>The Jordan Rules</td><td>The Jordan Rules</td><td>4.23</td></tr>",
                            "<tr><td>The Ragamuffin Gospel: Good News for the Bedraggled, Beat-Up, and Burnt Out</td><td>The Ragamuffin Gospel: Good News for the Bedraggled, Beat-Up, and Burnt Out</td><td>4.23</td></tr>",
                            "<tr><td>The Right Stuff</td><td>The Right Stuff</td><td>4.23</td></tr>",
                            "<tr><td>The Tiger Who Came to Tea</td><td>The Tiger Who Came to Tea</td><td>4.23</td></tr>",
                            "<tr><td>The Vampire Prince (Cirque Du Freak, #6)</td><td>The Vampire Prince (Cirque Du Freak, #6)</td><td>4.23</td></tr>",
                            "<tr><td>The Walking Dead, Vol. 13: Too Far Gone</td><td>The Walking Dead, Vol. 13: Too Far Gone</td><td>4.23</td></tr>",
                            "<tr><td>The Waste Land and Other Poems</td><td>The Waste Land and Other Poems</td><td>4.23</td></tr>",
                            "<tr><td>This is Not My Hat</td><td>This is Not My Hat</td><td>4.23</td></tr>",
                            "<tr><td>Twilight: The Complete Illustrated Movie Companion</td><td>Twilight: The Complete Illustrated Movie Companion</td><td>4.23</td></tr>",
                            "<tr><td>When Crickets Cry</td><td>When Crickets Cry</td><td>4.23</td></tr>",
                            "<tr><td>Wild Swans: Three Daughters of China</td><td>Wild Swans: Three Daughters of China</td><td>4.23</td></tr>",
                            "<tr><td>A Different Blue</td><td>A Different Blue</td><td>4.22</td></tr>",
                            "<tr><td>A Mango-Shaped Space</td><td>A Mango-Shaped Space</td><td>4.22</td></tr>",
                            "<tr><td>A Prayer for Owen Meany</td><td>A Prayer for Owen Meany</td><td>4.22</td></tr>",
                            "<tr><td>Alexander and the Terrible, Horrible, No Good, Very Bad Day</td><td>Alexander and the Terrible, Horrible, No Good, Very Bad Day</td><td>4.22</td></tr>",
                            "<tr><td>America's First Daughter</td><td>America's First Daughter</td><td>4.22</td></tr>",
                            "<tr><td>Autobiography of a Yogi</td><td>Autobiography of a Yogi</td><td>4.22</td></tr>",
                            "<tr><td>Barbarians at the Gate: The Fall of RJR Nabisco</td><td>Barbarians at the Gate: The Fall of RJR Nabisco</td><td>4.22</td></tr>",
                            "<tr><td>Bird by Bird: Some Instructions on Writing and Life</td><td>Bird by Bird: Some Instructions on Writing and Life</td><td>4.22</td></tr>",
                            "<tr><td>Cinderella</td><td>Cinderella</td><td>4.22</td></tr>",
                            "<tr><td>CivilWarLand in Bad Decline</td><td>CivilWarLand in Bad Decline</td><td>4.22</td></tr>",
                            "<tr><td>Curious George Goes to the Hospital</td><td>Curious George Goes to the Hospital</td><td>4.22</td></tr>",
                            "<tr><td>David Gets In Trouble</td><td>David Gets in Trouble</td><td>4.22</td></tr>",
                            "<tr><td>Desert Solitaire</td><td>Desert Solitaire</td><td>4.22</td></tr>",
                            "<tr><td>Do No Harm: Stories of Life, Death and Brain Surgery</td><td>Do No Harm: Stories of Life, Death and Brain Surgery</td><td>4.22</td></tr>",
                            "<tr><td>Dragon Slippers (Dragon Slippers, #1)</td><td>Dragon Slippers (Dragon Slippers, #1)</td><td>4.22</td></tr>",
                            "<tr><td>Fermat's Enigma: The Epic Quest to Solve the World's Greatest Mathematical Problem</td><td>Fermat's Enigma: The Epic Quest to Solve the World's Greatest Mathematical Problem</td><td>4.22</td></tr>",
                            "<tr><td>Hand, Hand, Fingers, Thumb</td><td>Hand, Hand, Fingers, Thumb</td><td>4.22</td></tr>",
                            "<tr><td>Honor's Splendour</td><td>Honor's Splendour</td><td>4.22</td></tr>",
                            "<tr><td>Just Go to Bed</td><td>Just Go to Bed</td><td>4.22</td></tr>",
                            "<tr><td>Killers of the Dawn (Cirque Du Freak, #9)</td><td>Killers of the Dawn (Cirque Du Freak, #9)</td><td>4.22</td></tr>",
                            "<tr><td>Little Bear</td><td>Little Bear</td><td>4.22</td></tr>",
                            "<tr><td>Lord of the Shadows (Cirque Du Freak, #11)</td><td>Lord of the Shadows (Cirque Du Freak, #11)</td><td>4.22</td></tr>",
                            "<tr><td>Love Comes Softly (Love Comes Softly, #1)</td><td>Love Comes Softly (Love Comes Softly, #1)</td><td>4.22</td></tr>",
                            "<tr><td>Manufacturing Consent: The Political Economy of the Mass Media</td><td>Manufacturing Consent: The Political Economy of the Mass Media</td><td>4.22</td></tr>",
                            "<tr><td>Marching Powder: A True Story of Friendship, Cocaine, and South America's Strangest Jail</td><td>Marching Powder: A True Story of Friendship, Cocaine, and South America's Strangest Jail</td><td>4.22</td></tr>",
                            "<tr><td>Punk 57</td><td>Punk 57</td><td>4.22</td></tr>",
                            "<tr><td>Rome (Marked Men, #3)</td><td>Rome (Marked Men, #3)</td><td>4.22</td></tr>",
                            "<tr><td>Selected Poems</td><td>Selected Poems</td><td>4.22</td></tr>",
                            "<tr><td>Stellaluna</td><td>Stellaluna</td><td>4.22</td></tr>",
                            "<tr><td>Stephen King's N.</td><td>Stephen King's N.</td><td>4.22</td></tr>",
                            "<tr><td>Strega Nona</td><td>Strega Nona</td><td>4.22</td></tr>",
                            "<tr><td>The BFG</td><td>The BFG</td><td>4.22</td></tr>",
                            "<tr><td>The Crossover</td><td>The Crossover</td><td>4.22</td></tr>",
                            "<tr><td>The Gift of Therapy: An Open Letter to a New Generation of Therapists and Their Patients</td><td>The Gift of Therapy: An Open Letter to a New Generation of Therapists and Their Patients</td><td>4.22</td></tr>",
                            "<tr><td>The Going-To-Bed Book</td><td>The Going-To-Bed Book</td><td>4.22</td></tr>",
                            "<tr><td>The Lions of Little Rock</td><td>The Lions of Little Rock</td><td>4.22</td></tr>",
                            "<tr><td>The Phantom Tollbooth</td><td>The Phantom Tollbooth</td><td>4.22</td></tr>",
                            "<tr><td>The Prince of Tides</td><td>The Prince of Tides</td><td>4.22</td></tr>",
                            "<tr><td>The Prize</td><td>The Prize</td><td>4.22</td></tr>",
                            "<tr><td>The Prophet</td><td>The Prophet</td><td>4.22</td></tr>",
                            "<tr><td>The Recruit (Cherub, #1)</td><td>The Recruit (Cherub, #1)</td><td>4.22</td></tr>",
                            "<tr><td>The Shock Doctrine: The Rise of Disaster Capitalism</td><td>The Shock Doctrine: The Rise of Disaster Capitalism</td><td>4.22</td></tr>",
                            "<tr><td>The Tell-Tale Heart</td><td>The Tell-Tale Heart</td><td>4.22</td></tr>",
                            "<tr><td>The Thorn Birds</td><td>The Thorn Birds</td><td>4.22</td></tr>",
                            "<tr><td>The Tibetan Book of Living and Dying</td><td>The Tibetan Book of Living and Dying</td><td>4.22</td></tr>",
                            "<tr><td>The Unlikely Spy</td><td>The Unlikely Spy</td><td>4.22</td></tr>",
                            "<tr><td>Wait for It</td><td>Wait for It</td><td>4.22</td></tr>",
                            "<tr><td>War</td><td>WAR</td><td>4.22</td></tr>",
                            "<tr><td>Wemberly Worried</td><td>Wemberly Worried</td><td>4.22</td></tr>",
                            "<tr><td>Where Is God When It Hurts?</td><td>Where Is God When It Hurts?</td><td>4.22</td></tr>",
                            "<tr><td>Where the Wild Things Are</td><td>Where the Wild Things Are</td><td>4.22</td></tr>",
                            "<tr><td>Wild Seed (Patternmaster, #1)</td><td>Wild Seed (Patternmaster, #1)</td><td>4.22</td></tr>",
                            "<tr><td>A Fish Out of Water</td><td>A Fish Out of Water</td><td>4.21</td></tr>",
                            "<tr><td>Bury My Heart at Wounded Knee: An Indian History of the American West</td><td>Bury My Heart at Wounded Knee: An Indian History of the American West</td><td>4.21</td></tr>",
                            "<tr><td>Calling Me Home</td><td>Calling Me Home</td><td>4.21</td></tr>",
                            "<tr><td>Centennial</td><td>Centennial</td><td>4.21</td></tr>",
                            "<tr><td>Chicka Chicka Boom Boom</td><td>Chicka Chicka Boom Boom</td><td>4.21</td></tr>",
                            "<tr><td>Dead Poets Society</td><td>Dead Poets Society </td><td>4.21</td></tr>",
                            "<tr><td>Disappearing Acts</td><td>Disappearing Acts</td><td>4.21</td></tr>",
                            "<tr><td>Envy (Fallen Angels, #3)</td><td>Envy (Fallen Angels, #3)</td><td>4.21</td></tr>",
                            "<tr><td>Follow the River</td><td>Follow the River</td><td>4.21</td></tr>",
                            "<tr><td>Friends and Lovers</td><td>Friends and Lovers</td><td>4.21</td></tr>",
                            "<tr><td>Gifted Hands: The Ben Carson Story</td><td>Gifted Hands: The Ben Carson Story</td><td>4.21</td></tr>",
                            "<tr><td>Giovanni's Room</td><td>Giovanni's Room</td><td>4.21</td></tr>",
                            "<tr><td>Go Away, Big Green Monster!</td><td>Go Away, Big Green Monster!</td><td>4.21</td></tr>",
                            "<tr><td>I'm Just Here for the Food: Food + Heat = Cooking</td><td>I'm Just Here for the Food: Food + Heat = Cooking</td><td>4.21</td></tr>",
                            "<tr><td>Kiss an Angel</td><td>Kiss an Angel </td><td>4.21</td></tr>",
                            "<tr><td>Make Way for Ducklings</td><td>Make Way for Ducklings</td><td>4.21</td></tr>",
                            "<tr><td>Marvels</td><td>Marvels</td><td>4.21</td></tr>",
                            "<tr><td>Mother Night</td><td>Mother Night</td><td>4.21</td></tr>",
                            "<tr><td>Mountains Beyond Mountains: The Quest of Dr. Paul Farmer, A Man Who Would Cure the World</td><td>Mountains Beyond Mountains: The Quest of Dr. Paul Farmer, a Man Who Would Cure the World</td><td>4.21</td></tr>",
                            "<tr><td>Panda Bear, Panda Bear, What Do You See?</td><td>Panda Bear, Panda Bear, What Do You See?</td><td>4.21</td></tr>",
                            "<tr><td>Planetary, Volume 1: All Over the World and Other Stories</td><td>Planetary, Volume 1: All Over the World and Other Stories</td><td>4.21</td></tr>",
                            "<tr><td>Run Baby Run</td><td>Run Baby Run</td><td>4.21</td></tr>",
                            "<tr><td>Same Kind of Different as Me</td><td>Same Kind of Different as Me</td><td>4.21</td></tr>",
                            "<tr><td>The Barefoot Contessa Cookbook</td><td>The Barefoot Contessa Cookbook</td><td>4.21</td></tr>",
                            "<tr><td>The Complete Poems of Emily Dickinson</td><td>The Complete Poems of Emily Dickinson</td><td>4.21</td></tr>",
                            "<tr><td>The End of Eternity</td><td>The End of Eternity</td><td>4.21</td></tr>",
                            "<tr><td>The Five Love Languages of Children</td><td>The Five Love Languages of Children</td><td>4.21</td></tr>",
                            "<tr><td>The Heretic Queen</td><td>The Heretic Queen</td><td>4.21</td></tr>",
                            "<tr><td>The Little Red Caboose (Little Golden Book)</td><td>The Little Red Caboose (Little Golden Book)</td><td>4.21</td></tr>",
                            "<tr><td>The Miracle Worker</td><td>The Miracle Worker</td><td>4.21</td></tr>",
                            "<tr><td>The Mixed-Up Chameleon</td><td>The Mixed-Up Chameleon</td><td>4.21</td></tr>",
                            "<tr><td>The Perks of Being a Wallflower</td><td>The Perks of Being a Wallflower</td><td>4.21</td></tr>",
                            "<tr><td>The Wishing Spell (The Land of Stories, #1)</td><td>The Wishing Spell (The Land of Stories, #1)</td><td>4.21</td></tr>",
                            "<tr><td>Tikki Tikki Tembo</td><td>Tikki Tikki Tembo</td><td>4.21</td></tr>",
                            "<tr><td>Unlimited Power : The New Science Of Personal Achievement</td><td>Unlimited Power : The New Science Of Personal Achievement</td><td>4.21</td></tr>",
                            "<tr><td>What's So Amazing About Grace?</td><td>What's So Amazing About Grace?</td><td>4.21</td></tr>",
                            "<tr><td>Wolf-Speaker (Immortals, #2)</td><td>Wolf-Speaker (Immortals, #2)</td><td>4.21</td></tr>",
                            "<tr><td>استمتع بحياتك</td><td>استمتع بحياتك</td><td>4.21</td></tr>",
                            "<tr><td>المانيفستو</td><td>المانيفستو</td><td>4.21</td></tr>",
                            "<tr><td>2666</td><td>2666</td><td>4.2</td></tr>",
                            "<tr><td>A Chair for My Mother</td><td>A Chair for My Mother </td><td>4.2</td></tr>",
                            "<tr><td>A House in the Sky</td><td>A House in the Sky</td><td>4.2</td></tr>",
                            "<tr><td>A Little Princess</td><td>A Little Princess</td><td>4.2</td></tr>",
                            "<tr><td>ABNKKBSNPLAKo?! (Mga Kwentong Chalk ni Bob Ong)</td><td>ABNKKBSNPLAKo?! (Mga Kwentong Chalk ni Bob Ong)</td><td>4.2</td></tr>",
                            "<tr><td>Amadeus</td><td>Amadeus</td><td>4.2</td></tr>",
                            "<tr><td>August: Osage County</td><td>August: Osage County</td><td>4.2</td></tr>",
                            "<tr><td>Big Little Lies</td><td>Big Little Lies</td><td>4.2</td></tr>",
                            "<tr><td>Bread and Jam for Frances</td><td>Bread and Jam for Frances</td><td>4.2</td></tr>",
                            "<tr><td>Christy</td><td>Christy</td><td>4.2</td></tr>",
                            "<tr><td>Collected Poems</td><td>Collected Poems</td><td>4.2</td></tr>",
                            "<tr><td>Eloise </td><td>Eloise</td><td>4.2</td></tr>",
                            "<tr><td>Eragon, Eldest &amp; Brisingr (Inheritance, #1-3)</td><td>Eragon, Eldest &amp; Brisingr (Inheritance, #1-3)</td><td>4.2</td></tr>",
                            "<tr><td>Every Last Word</td><td>Every Last Word</td><td>4.2</td></tr>",
                            "<tr><td>Fight Club</td><td>Fight Club</td><td>4.2</td></tr>",
                            "<tr><td>Good Night, Gorilla</td><td>Good Night, Gorilla</td><td>4.2</td></tr>",
                            "<tr><td>Hafalan Shalat Delisa</td><td>Hafalan Shalat Delisa</td><td>4.2</td></tr>",
                            "<tr><td>If You Give a Cat a Cupcake</td><td>If You Give a Cat a Cupcake</td><td>4.2</td></tr>",
                            "<tr><td>Infidel</td><td>Infidel</td><td>4.2</td></tr>",
                            "<tr><td>Jaya: An Illustrated Retelling of the Mahabharata</td><td>Jaya: An Illustrated Retelling of the Mahabharata</td><td>4.2</td></tr>",
                            "<tr><td>Lilly's Purple Plastic Purse</td><td>Lilly's Purple Plastic Purse</td><td>4.2</td></tr>",
                            "<tr><td>Malcolm X: A Life of Reinvention</td><td>Malcolm X: A Life of Reinvention</td><td>4.2</td></tr>",
                            "<tr><td>Malgudi Days</td><td>Malgudi Days</td><td>4.2</td></tr>",
                            "<tr><td>Mike Mulligan and His Steam Shovel</td><td>Mike Mulligan and His Steam Shovel</td><td>4.2</td></tr>",
                            "<tr><td>Nimona</td><td>Nimona</td><td>4.2</td></tr>",
                            "<tr><td>No Ordinary Time: Franklin and Eleanor Roosevelt: The Home Front in World War II</td><td>No Ordinary Time: Franklin and Eleanor Roosevelt: The Home Front in World War II</td><td>4.2</td></tr>",
                            "<tr><td>Oscar et la dame rose</td><td>Oscar et la dame rose</td><td>4.2</td></tr>",
                            "<tr><td>Our Band Could Be Your Life: Scenes from the American Indie Underground 1981-1991</td><td>Our Band Could Be Your Life: Scenes from the American Indie Underground 1981-1991</td><td>4.2</td></tr>",
                            "<tr><td>Owl Moon</td><td>Owl Moon</td><td>4.2</td></tr>",
                            "<tr><td>Palestine</td><td>Palestine</td><td>4.2</td></tr>",
                            "<tr><td>Rebecca</td><td>Rebecca</td><td>4.2</td></tr>",
                            "<tr><td>Romancing Mister Bridgerton (Bridgertons, #4)</td><td>Romancing Mister Bridgerton (Bridgertons, #4)</td><td>4.2</td></tr>",
                            "<tr><td>Small Sacrifices: A True Story of Passion and Murder</td><td>Small Sacrifices: A True Story of Passion and Murder</td><td>4.2</td></tr>",
                            "<tr><td>The Bane Chronicles</td><td>The Bane Chronicles</td><td>4.2</td></tr>",
                            "<tr><td>The Brain That Changes Itself: Stories of Personal Triumph from the Frontiers of Brain Science</td><td>The Brain That Changes Itself: Stories of Personal Triumph from the Frontiers of Brain Science</td><td>4.2</td></tr>",
                            "<tr><td>The Cake Bible</td><td>The Cake Bible</td><td>4.2</td></tr>",
                            "<tr><td>The Case of Charles Dexter Ward</td><td>The Case of Charles Dexter Ward</td><td>4.2</td></tr>",
                            "<tr><td>The Case-Book of Sherlock Holmes</td><td>The Case-Book of Sherlock Holmes</td><td>4.2</td></tr>",
                            "<tr><td>The Collected Poems</td><td>The Collected Poems</td><td>4.2</td></tr>",
                            "<tr><td>The Cross and the Switchblade</td><td>The Cross and the Switchblade</td><td>4.2</td></tr>",
                            "<tr><td>The Far Pavilions</td><td>The Far Pavilions</td><td>4.2</td></tr>",
                            "<tr><td>The Hard Thing About Hard Things: Building a Business When There Are No Easy Answers</td><td>The Hard Thing about Hard Things: Building A Business When There Are No Easy Answers</td><td>4.2</td></tr>",
                            "<tr><td>The Little Red Hen (Little Golden Book)</td><td>The Little Red Hen (Little Golden Book)</td><td>4.2</td></tr>",
                            "<tr><td>The Lost Wife</td><td>The Lost Wife</td><td>4.2</td></tr>",
                            "<tr><td>The Reason for God: Belief in an Age of Skepticism</td><td>The Reason for God: Belief in an Age of Skepticism</td><td>4.2</td></tr>",
                            "<tr><td>The Relatives Came</td><td>The Relatives Came</td><td>4.2</td></tr>",
                            "<tr><td>The Robe</td><td>The Robe</td><td>4.2</td></tr>",
                            "<tr><td>The Stinky Cheese Man and Other Fairly Stupid Tales</td><td>The Stinky Cheese Man and Other Fairly Stupid Tales</td><td>4.2</td></tr>",
                            "<tr><td>There Was an Old Lady Who Swallowed a Fly</td><td>There Was an Old Lady Who Swallowed a Fly</td><td>4.2</td></tr>",
                            "<tr><td>Tilt</td><td>Tilt</td><td>4.2</td></tr>",
                            "<tr><td>Touching the Void: The True Story of One Man's Miraculous Survival</td><td>Touching the Void: The True Story of One Man's Miraculous Survival</td><td>4.2</td></tr>",
                            "<tr><td>Zami: A New Spelling of My Name</td><td>Zami: A New Spelling of My Name</td><td>4.2</td></tr>",
                            "</table>"
                        ]
                    }
                }
            ],
            "execution_count": 8
        },
        {
            "cell_type": "markdown",
            "source": [
                "## QUESTION 4:  Thisbe\n",
                "\n",
                "Thisbe is planning to make a long-term display of popular books that she will update monthly, reflecting different time periods.  She wants to make it reader-centric by including titles that readers have averagely rated higher than the book's actual average rating. \n",
                "\n",
                "**Part A:**   Write a query that compares the publication time with average reader ratings.\n",
                "\n",
                "**Part B:**  She wants the list ordered by year, then the book title"
            ],
            "metadata": {
                "azdata_cell_guid": "c3cb4fa8-802c-4130-8740-2adf20ec6a15"
            },
            "attachments": {}
        },
        {
            "cell_type": "code",
            "source": [
                "-- Code here:\r\n",
                "SELECT bk.original_publication_year, bk.title\r\n",
                "FROM dbo.books AS bk \r\n",
                "WHERE bk.best_book_id IN \r\n",
                ""
            ],
            "metadata": {
                "azdata_cell_guid": "164e0a22-349f-45ed-afe8-0753d5a8c6fc",
                "tags": [],
                "language": "sql"
            },
            "outputs": [],
            "execution_count": null
        }
    ]
}